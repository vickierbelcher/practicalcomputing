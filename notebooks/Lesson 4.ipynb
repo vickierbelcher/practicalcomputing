{
 "cells": [
  {
   "cell_type": "markdown",
   "id": "39fd57dc-d4b8-4865-911f-b5f623b23db2",
   "metadata": {},
   "source": [
    "# Lesson 4"
   ]
  },
  {
   "cell_type": "markdown",
   "id": "9efce8d6-f0ad-499e-a2ec-184d8b2e101a",
   "metadata": {},
   "source": [
    "## Working with APIs recap"
   ]
  },
  {
   "cell_type": "markdown",
   "id": "fac30361-0a4c-444b-b03f-67cf5517b1ad",
   "metadata": {},
   "source": [
    "Anatomy of a URL:\n",
    "\n",
    "    https://www.google.com/search?q=bangalore?hl=en#983y49832y4"
   ]
  },
  {
   "cell_type": "markdown",
   "id": "e63cd12e-4d3e-4806-934d-15965b522b62",
   "metadata": {},
   "source": [
    "URL is typically made of hostname/path?query-params#fragment\n",
    "\n",
    "- fragment is only used by browser and not sent to server\n",
    "- hostname indicates website we are asking\n",
    "- path specifies the resource we are requesting\n",
    "- query - params - specify a subsection of what to get from that resource\n",
    "\n",
    "When we construct a URL, the inputs could be part of the path or the query parameters. Could be either!!\n",
    "\n",
    "when we encode a URL, spaces include special characters.\n",
    "\n",
    "If we use the nominatum API, the input is passed as query parameter 'q'\n",
    "\n",
    "https://nominatim.openstreetmap.org/search.php?q=bangalore&format=jsonv2 \n",
    "\n",
    "When we pass input as query params, we need to encode the values. Usually we don't do this by hand, we let the requests library handle it for us by passing 'params' as a dictionary. \n",
    "\n",
    "Some APIs, the input is part of the path. For example, the dictionary API:\n",
    "https://api.dictionaryapi.dev/api/v2/entries/en/banana\n"
   ]
  },
  {
   "cell_type": "markdown",
   "id": "002370dc-3f97-4801-b096-088cfac21ea8",
   "metadata": {},
   "source": [
    "## GET vs POST"
   ]
  },
  {
   "cell_type": "markdown",
   "id": "5243ad2f-e1e7-4fd1-a2de-e0399f181929",
   "metadata": {},
   "source": [
    "There are two methods to send HTTP requests (most common). GET and POST.\n",
    "\n",
    "With a GET request, we send the input data as part of the URL, possibly as a query string.\n",
    "\n",
    "There would be times where we need to send a lot of data, possibly in a structured format. In those cases, we send the data as a payload to the request and not part of the URL. In these cases we use POST method.\n",
    "\n",
    "Typically, GET requests doesn't change anything in the server. POST requests typically change something."
   ]
  },
  {
   "cell_type": "code",
   "execution_count": 5,
   "id": "09ea07e4-bece-4502-a0ff-b82020f235af",
   "metadata": {},
   "outputs": [
    {
     "name": "stderr",
     "output_type": "stream",
     "text": [
      "  % Total    % Received % Xferd  Average Speed   Time    Time     Time  Current\n",
      "                                 Dload  Upload   Total   Spent    Left  Speed\n",
      "\n",
      "  0     0    0     0    0     0      0      0 --:--:-- --:--:-- --:--:--     0\n",
      "  0     0    0     0    0     0      0      0 --:--:-- --:--:-- --:--:--     0\n",
      "  0     0    0     0    0     0      0      0 --:--:--  0:00:01 --:--:--     0curl: (6) Could not resolve host: application\n",
      "curl: (3) URL rejected: Bad hostname\n",
      "curl: (3) URL rejected: Port number was not a decimal number between 0 and 65535\n",
      "curl: (3) URL rejected: Bad hostname\n",
      "curl: (3) URL rejected: Port number was not a decimal number between 0 and 65535\n",
      "curl: (3) unmatched close brace/bracket in URL position 2:\n",
      "3}'\n",
      " ^\n"
     ]
    }
   ],
   "source": [
    "## Maybe example post request making some kind of change, but don't read into this too much\n",
    "!curl -i \\\n",
    "    -H 'Concent-type: application/json' \\\n",
    "    -d '{\"start\": 1, \"stop\": 20, \"step\": 3}' \\\n",
    "    https://numbers.apps.pipal.in/range"
   ]
  },
  {
   "cell_type": "markdown",
   "id": "0b3fc8bd-ea39-4bb4-b28f-9c4cba4b723f",
   "metadata": {},
   "source": [
    "## DATA Analysis"
   ]
  },
  {
   "cell_type": "code",
   "execution_count": 13,
   "id": "fc7aaaea-d952-4cf5-874d-e279aed1bfcf",
   "metadata": {},
   "outputs": [],
   "source": [
    "import pandas as pd"
   ]
  },
  {
   "cell_type": "code",
   "execution_count": 12,
   "id": "b2e90393-078b-4d12-9241-4a3a8cdb0e66",
   "metadata": {},
   "outputs": [
    {
     "name": "stdout",
     "output_type": "stream",
     "text": [
      "Requirement already satisfied: pandas in c:\\users\\vicki\\appdata\\roaming\\jupyterlab-desktop\\jlab_server\\lib\\site-packages (2.2.2)\n",
      "Requirement already satisfied: numpy>=1.26.0 in c:\\users\\vicki\\appdata\\roaming\\jupyterlab-desktop\\jlab_server\\lib\\site-packages (from pandas) (2.1.0)\n",
      "Requirement already satisfied: python-dateutil>=2.8.2 in c:\\users\\vicki\\appdata\\roaming\\jupyterlab-desktop\\jlab_server\\lib\\site-packages (from pandas) (2.9.0)\n",
      "Requirement already satisfied: pytz>=2020.1 in c:\\users\\vicki\\appdata\\roaming\\jupyterlab-desktop\\jlab_server\\lib\\site-packages (from pandas) (2024.1)\n",
      "Requirement already satisfied: tzdata>=2022.7 in c:\\users\\vicki\\appdata\\roaming\\jupyterlab-desktop\\jlab_server\\lib\\site-packages (from pandas) (2024.1)\n",
      "Requirement already satisfied: six>=1.5 in c:\\users\\vicki\\appdata\\roaming\\jupyterlab-desktop\\jlab_server\\lib\\site-packages (from python-dateutil>=2.8.2->pandas) (1.16.0)\n"
     ]
    }
   ],
   "source": [
    "!python -m pip install pandas"
   ]
  },
  {
   "cell_type": "code",
   "execution_count": 14,
   "id": "88527105-acdc-4a1e-8332-cc366209c29d",
   "metadata": {},
   "outputs": [
    {
     "name": "stdout",
     "output_type": "stream",
     "text": [
      " Volume in drive C is Windows\n",
      " Volume Serial Number is 440E-6FD4\n",
      "\n",
      " Directory of C:\\Users\\vicki\\OneDrive\\Documents\\Github\\practicalcomputing\\notebooks\n",
      "\n",
      "10/28/2024  04:22 PM             6,296 un-min.csv\n",
      "               1 File(s)          6,296 bytes\n",
      "               0 Dir(s)  823,686,701,056 bytes free\n"
     ]
    }
   ],
   "source": [
    "ls *.csv"
   ]
  },
  {
   "cell_type": "code",
   "execution_count": 16,
   "id": "706ae731-433b-4d33-8301-9a359898f196",
   "metadata": {},
   "outputs": [],
   "source": [
    "df = pd.read_csv(\"un-min.csv\")"
   ]
  },
  {
   "cell_type": "code",
   "execution_count": 19,
   "id": "bc1ff27b-b398-4ebb-af40-578e3a14239a",
   "metadata": {},
   "outputs": [
    {
     "data": {
      "text/html": [
       "<div>\n",
       "<style scoped>\n",
       "    .dataframe tbody tr th:only-of-type {\n",
       "        vertical-align: middle;\n",
       "    }\n",
       "\n",
       "    .dataframe tbody tr th {\n",
       "        vertical-align: top;\n",
       "    }\n",
       "\n",
       "    .dataframe thead th {\n",
       "        text-align: right;\n",
       "    }\n",
       "</style>\n",
       "<table border=\"1\" class=\"dataframe\">\n",
       "  <thead>\n",
       "    <tr style=\"text-align: right;\">\n",
       "      <th></th>\n",
       "      <th>country</th>\n",
       "      <th>region</th>\n",
       "      <th>lifeMale</th>\n",
       "      <th>lifeFemale</th>\n",
       "      <th>infantMortality</th>\n",
       "      <th>GDPperCapita</th>\n",
       "    </tr>\n",
       "  </thead>\n",
       "  <tbody>\n",
       "    <tr>\n",
       "      <th>0</th>\n",
       "      <td>Afghanistan</td>\n",
       "      <td>Asia</td>\n",
       "      <td>45.0</td>\n",
       "      <td>46.0</td>\n",
       "      <td>154</td>\n",
       "      <td>2848</td>\n",
       "    </tr>\n",
       "    <tr>\n",
       "      <th>1</th>\n",
       "      <td>Albania</td>\n",
       "      <td>Europe</td>\n",
       "      <td>68.0</td>\n",
       "      <td>74.0</td>\n",
       "      <td>32</td>\n",
       "      <td>863</td>\n",
       "    </tr>\n",
       "    <tr>\n",
       "      <th>2</th>\n",
       "      <td>Algeria</td>\n",
       "      <td>Africa</td>\n",
       "      <td>67.5</td>\n",
       "      <td>70.3</td>\n",
       "      <td>44</td>\n",
       "      <td>1531</td>\n",
       "    </tr>\n",
       "    <tr>\n",
       "      <th>3</th>\n",
       "      <td>Angola</td>\n",
       "      <td>Africa</td>\n",
       "      <td>44.9</td>\n",
       "      <td>48.1</td>\n",
       "      <td>124</td>\n",
       "      <td>355</td>\n",
       "    </tr>\n",
       "    <tr>\n",
       "      <th>4</th>\n",
       "      <td>Argentina</td>\n",
       "      <td>America</td>\n",
       "      <td>69.6</td>\n",
       "      <td>76.8</td>\n",
       "      <td>22</td>\n",
       "      <td>8055</td>\n",
       "    </tr>\n",
       "    <tr>\n",
       "      <th>5</th>\n",
       "      <td>Armenia</td>\n",
       "      <td>Europe</td>\n",
       "      <td>67.2</td>\n",
       "      <td>74.0</td>\n",
       "      <td>25</td>\n",
       "      <td>354</td>\n",
       "    </tr>\n",
       "    <tr>\n",
       "      <th>6</th>\n",
       "      <td>Australia</td>\n",
       "      <td>Oceania</td>\n",
       "      <td>75.4</td>\n",
       "      <td>81.2</td>\n",
       "      <td>6</td>\n",
       "      <td>20046</td>\n",
       "    </tr>\n",
       "    <tr>\n",
       "      <th>7</th>\n",
       "      <td>Austria</td>\n",
       "      <td>Europe</td>\n",
       "      <td>73.7</td>\n",
       "      <td>80.1</td>\n",
       "      <td>6</td>\n",
       "      <td>29006</td>\n",
       "    </tr>\n",
       "    <tr>\n",
       "      <th>8</th>\n",
       "      <td>Azerbaijan</td>\n",
       "      <td>Asia</td>\n",
       "      <td>66.5</td>\n",
       "      <td>74.5</td>\n",
       "      <td>33</td>\n",
       "      <td>321</td>\n",
       "    </tr>\n",
       "    <tr>\n",
       "      <th>9</th>\n",
       "      <td>Bahamas</td>\n",
       "      <td>America</td>\n",
       "      <td>70.5</td>\n",
       "      <td>77.1</td>\n",
       "      <td>14</td>\n",
       "      <td>12545</td>\n",
       "    </tr>\n",
       "    <tr>\n",
       "      <th>10</th>\n",
       "      <td>Bahrain</td>\n",
       "      <td>Asia</td>\n",
       "      <td>71.1</td>\n",
       "      <td>75.3</td>\n",
       "      <td>18</td>\n",
       "      <td>9073</td>\n",
       "    </tr>\n",
       "  </tbody>\n",
       "</table>\n",
       "</div>"
      ],
      "text/plain": [
       "        country   region  lifeMale  lifeFemale  infantMortality  GDPperCapita\n",
       "0   Afghanistan     Asia      45.0        46.0              154          2848\n",
       "1       Albania   Europe      68.0        74.0               32           863\n",
       "2       Algeria   Africa      67.5        70.3               44          1531\n",
       "3        Angola   Africa      44.9        48.1              124           355\n",
       "4     Argentina  America      69.6        76.8               22          8055\n",
       "5       Armenia   Europe      67.2        74.0               25           354\n",
       "6     Australia  Oceania      75.4        81.2                6         20046\n",
       "7       Austria   Europe      73.7        80.1                6         29006\n",
       "8    Azerbaijan     Asia      66.5        74.5               33           321\n",
       "9       Bahamas  America      70.5        77.1               14         12545\n",
       "10      Bahrain     Asia      71.1        75.3               18          9073"
      ]
     },
     "execution_count": 19,
     "metadata": {},
     "output_type": "execute_result"
    }
   ],
   "source": [
    "df.head(11)"
   ]
  },
  {
   "cell_type": "code",
   "execution_count": 20,
   "id": "7cb20c05-6473-4150-987c-72c165da30e5",
   "metadata": {},
   "outputs": [
    {
     "data": {
      "text/plain": [
       "(188, 6)"
      ]
     },
     "execution_count": 20,
     "metadata": {},
     "output_type": "execute_result"
    }
   ],
   "source": [
    "df.shape"
   ]
  },
  {
   "cell_type": "code",
   "execution_count": 21,
   "id": "85b1b748-357f-4aae-8804-7d85556fae4d",
   "metadata": {},
   "outputs": [
    {
     "data": {
      "text/html": [
       "<div>\n",
       "<style scoped>\n",
       "    .dataframe tbody tr th:only-of-type {\n",
       "        vertical-align: middle;\n",
       "    }\n",
       "\n",
       "    .dataframe tbody tr th {\n",
       "        vertical-align: top;\n",
       "    }\n",
       "\n",
       "    .dataframe thead th {\n",
       "        text-align: right;\n",
       "    }\n",
       "</style>\n",
       "<table border=\"1\" class=\"dataframe\">\n",
       "  <thead>\n",
       "    <tr style=\"text-align: right;\">\n",
       "      <th></th>\n",
       "      <th>lifeMale</th>\n",
       "      <th>lifeFemale</th>\n",
       "      <th>infantMortality</th>\n",
       "      <th>GDPperCapita</th>\n",
       "    </tr>\n",
       "  </thead>\n",
       "  <tbody>\n",
       "    <tr>\n",
       "      <th>count</th>\n",
       "      <td>188.000000</td>\n",
       "      <td>188.000000</td>\n",
       "      <td>188.000000</td>\n",
       "      <td>188.000000</td>\n",
       "    </tr>\n",
       "    <tr>\n",
       "      <th>mean</th>\n",
       "      <td>63.526064</td>\n",
       "      <td>68.309043</td>\n",
       "      <td>44.308511</td>\n",
       "      <td>5890.595745</td>\n",
       "    </tr>\n",
       "    <tr>\n",
       "      <th>std</th>\n",
       "      <td>9.820235</td>\n",
       "      <td>11.085095</td>\n",
       "      <td>38.896964</td>\n",
       "      <td>8917.273130</td>\n",
       "    </tr>\n",
       "    <tr>\n",
       "      <th>min</th>\n",
       "      <td>36.000000</td>\n",
       "      <td>39.100000</td>\n",
       "      <td>3.000000</td>\n",
       "      <td>36.000000</td>\n",
       "    </tr>\n",
       "    <tr>\n",
       "      <th>25%</th>\n",
       "      <td>57.275000</td>\n",
       "      <td>58.625000</td>\n",
       "      <td>12.000000</td>\n",
       "      <td>426.500000</td>\n",
       "    </tr>\n",
       "    <tr>\n",
       "      <th>50%</th>\n",
       "      <td>66.500000</td>\n",
       "      <td>71.950000</td>\n",
       "      <td>30.500000</td>\n",
       "      <td>1654.500000</td>\n",
       "    </tr>\n",
       "    <tr>\n",
       "      <th>75%</th>\n",
       "      <td>70.675000</td>\n",
       "      <td>76.250000</td>\n",
       "      <td>71.250000</td>\n",
       "      <td>6730.500000</td>\n",
       "    </tr>\n",
       "    <tr>\n",
       "      <th>max</th>\n",
       "      <td>77.400000</td>\n",
       "      <td>82.900000</td>\n",
       "      <td>169.000000</td>\n",
       "      <td>42416.000000</td>\n",
       "    </tr>\n",
       "  </tbody>\n",
       "</table>\n",
       "</div>"
      ],
      "text/plain": [
       "         lifeMale  lifeFemale  infantMortality  GDPperCapita\n",
       "count  188.000000  188.000000       188.000000    188.000000\n",
       "mean    63.526064   68.309043        44.308511   5890.595745\n",
       "std      9.820235   11.085095        38.896964   8917.273130\n",
       "min     36.000000   39.100000         3.000000     36.000000\n",
       "25%     57.275000   58.625000        12.000000    426.500000\n",
       "50%     66.500000   71.950000        30.500000   1654.500000\n",
       "75%     70.675000   76.250000        71.250000   6730.500000\n",
       "max     77.400000   82.900000       169.000000  42416.000000"
      ]
     },
     "execution_count": 21,
     "metadata": {},
     "output_type": "execute_result"
    }
   ],
   "source": [
    "df.describe()"
   ]
  },
  {
   "cell_type": "code",
   "execution_count": 22,
   "id": "2a7c512e-b449-4075-ab2a-aa72da6a93fb",
   "metadata": {},
   "outputs": [],
   "source": [
    "df.set_index(\"country\", inplace=True)"
   ]
  },
  {
   "cell_type": "code",
   "execution_count": 23,
   "id": "e13d036e-f884-47b7-991a-ad1b430e16c3",
   "metadata": {},
   "outputs": [
    {
     "data": {
      "text/html": [
       "<div>\n",
       "<style scoped>\n",
       "    .dataframe tbody tr th:only-of-type {\n",
       "        vertical-align: middle;\n",
       "    }\n",
       "\n",
       "    .dataframe tbody tr th {\n",
       "        vertical-align: top;\n",
       "    }\n",
       "\n",
       "    .dataframe thead th {\n",
       "        text-align: right;\n",
       "    }\n",
       "</style>\n",
       "<table border=\"1\" class=\"dataframe\">\n",
       "  <thead>\n",
       "    <tr style=\"text-align: right;\">\n",
       "      <th></th>\n",
       "      <th>region</th>\n",
       "      <th>lifeMale</th>\n",
       "      <th>lifeFemale</th>\n",
       "      <th>infantMortality</th>\n",
       "      <th>GDPperCapita</th>\n",
       "    </tr>\n",
       "    <tr>\n",
       "      <th>country</th>\n",
       "      <th></th>\n",
       "      <th></th>\n",
       "      <th></th>\n",
       "      <th></th>\n",
       "      <th></th>\n",
       "    </tr>\n",
       "  </thead>\n",
       "  <tbody>\n",
       "    <tr>\n",
       "      <th>Afghanistan</th>\n",
       "      <td>Asia</td>\n",
       "      <td>45.0</td>\n",
       "      <td>46.0</td>\n",
       "      <td>154</td>\n",
       "      <td>2848</td>\n",
       "    </tr>\n",
       "    <tr>\n",
       "      <th>Albania</th>\n",
       "      <td>Europe</td>\n",
       "      <td>68.0</td>\n",
       "      <td>74.0</td>\n",
       "      <td>32</td>\n",
       "      <td>863</td>\n",
       "    </tr>\n",
       "    <tr>\n",
       "      <th>Algeria</th>\n",
       "      <td>Africa</td>\n",
       "      <td>67.5</td>\n",
       "      <td>70.3</td>\n",
       "      <td>44</td>\n",
       "      <td>1531</td>\n",
       "    </tr>\n",
       "    <tr>\n",
       "      <th>Angola</th>\n",
       "      <td>Africa</td>\n",
       "      <td>44.9</td>\n",
       "      <td>48.1</td>\n",
       "      <td>124</td>\n",
       "      <td>355</td>\n",
       "    </tr>\n",
       "    <tr>\n",
       "      <th>Argentina</th>\n",
       "      <td>America</td>\n",
       "      <td>69.6</td>\n",
       "      <td>76.8</td>\n",
       "      <td>22</td>\n",
       "      <td>8055</td>\n",
       "    </tr>\n",
       "  </tbody>\n",
       "</table>\n",
       "</div>"
      ],
      "text/plain": [
       "              region  lifeMale  lifeFemale  infantMortality  GDPperCapita\n",
       "country                                                                  \n",
       "Afghanistan     Asia      45.0        46.0              154          2848\n",
       "Albania       Europe      68.0        74.0               32           863\n",
       "Algeria       Africa      67.5        70.3               44          1531\n",
       "Angola        Africa      44.9        48.1              124           355\n",
       "Argentina    America      69.6        76.8               22          8055"
      ]
     },
     "execution_count": 23,
     "metadata": {},
     "output_type": "execute_result"
    }
   ],
   "source": [
    "df.head()"
   ]
  },
  {
   "cell_type": "code",
   "execution_count": 24,
   "id": "9158f923-c586-4027-9bbc-0b86494f2a3d",
   "metadata": {},
   "outputs": [
    {
     "data": {
      "text/plain": [
       "country\n",
       "Afghanistan    2848\n",
       "Albania         863\n",
       "Algeria        1531\n",
       "Angola          355\n",
       "Argentina      8055\n",
       "Name: GDPperCapita, dtype: int64"
      ]
     },
     "execution_count": 24,
     "metadata": {},
     "output_type": "execute_result"
    }
   ],
   "source": [
    "df.GDPperCapita.head()"
   ]
  },
  {
   "cell_type": "code",
   "execution_count": 25,
   "id": "ef31ac08-4c01-4fc3-821c-852b5bbf06ed",
   "metadata": {},
   "outputs": [
    {
     "data": {
      "text/plain": [
       "np.float64(5890.595744680851)"
      ]
     },
     "execution_count": 25,
     "metadata": {},
     "output_type": "execute_result"
    }
   ],
   "source": [
    "df.GDPperCapita.mean()"
   ]
  },
  {
   "cell_type": "code",
   "execution_count": 26,
   "id": "f3a27e3f-3717-4d55-98d9-eee1e7a8e16e",
   "metadata": {},
   "outputs": [
    {
     "data": {
      "text/plain": [
       "np.int64(42416)"
      ]
     },
     "execution_count": 26,
     "metadata": {},
     "output_type": "execute_result"
    }
   ],
   "source": [
    "df.GDPperCapita.max()"
   ]
  },
  {
   "cell_type": "markdown",
   "id": "e05ba952-afc0-4ea3-b13e-5d6988e9c17a",
   "metadata": {},
   "source": [
    "How is wealth distributed across countries in the world?"
   ]
  },
  {
   "cell_type": "code",
   "execution_count": 29,
   "id": "f2e3c4d7-5dd4-4b6a-a4f2-04e7fd5ce455",
   "metadata": {},
   "outputs": [
    {
     "data": {
      "text/plain": [
       "<Axes: >"
      ]
     },
     "execution_count": 29,
     "metadata": {},
     "output_type": "execute_result"
    },
    {
     "data": {
      "image/png": "[encoded data removed]",
      "text/plain": [
       "<Figure size 640x480 with 1 Axes>"
      ]
     },
     "metadata": {},
     "output_type": "display_data"
    }
   ],
   "source": [
    "df.GDPperCapita.hist()"
   ]
  },
  {
   "cell_type": "code",
   "execution_count": 31,
   "id": "12604394-dc07-4d65-bb29-2532e9b5890b",
   "metadata": {},
   "outputs": [
    {
     "data": {
      "text/plain": [
       "<Axes: >"
      ]
     },
     "execution_count": 31,
     "metadata": {},
     "output_type": "execute_result"
    },
    {
     "data": {
      "image/png": "[encoded data removed]",
      "text/plain": [
       "<Figure size 640x480 with 1 Axes>"
      ]
     },
     "metadata": {},
     "output_type": "display_data"
    }
   ],
   "source": [
    "df.GDPperCapita.plot(kind=\"box\")"
   ]
  },
  {
   "cell_type": "code",
   "execution_count": 32,
   "id": "88fd2d40-71dc-49b1-951f-3b365e4f6cee",
   "metadata": {},
   "outputs": [],
   "source": [
    "## reminder that bands in box plot are quartiles"
   ]
  },
  {
   "cell_type": "code",
   "execution_count": 35,
   "id": "a389b531-c2d2-4dca-964e-34b79b348450",
   "metadata": {},
   "outputs": [
    {
     "data": {
      "text/plain": [
       "country\n",
       "Sudan                    36\n",
       "Mozambique               77\n",
       "Ethiopia                 96\n",
       "Eritrea                  96\n",
       "Dem.Rep.of.the.Congo    117\n",
       "Somalia                 119\n",
       "Tajikistan              122\n",
       "Cambodia                130\n",
       "Guinea.Bissau           131\n",
       "Tanzania                139\n",
       "Name: GDPperCapita, dtype: int64"
      ]
     },
     "execution_count": 35,
     "metadata": {},
     "output_type": "execute_result"
    }
   ],
   "source": [
    "## What are the top 10 poorest countries?\n",
    "df.GDPperCapita.sort_values().head(10)"
   ]
  },
  {
   "cell_type": "code",
   "execution_count": 38,
   "id": "8fde520a-1e3e-4a14-80b1-93f6efc921e3",
   "metadata": {},
   "outputs": [
    {
     "data": {
      "text/plain": [
       "country\n",
       "Switzerland    42416\n",
       "Japan          41718\n",
       "Luxembourg     35109\n",
       "Norway         33734\n",
       "Denmark        33191\n",
       "Germany        29632\n",
       "Austria        29006\n",
       "Belgium        26582\n",
       "France         26444\n",
       "Sweden         26253\n",
       "Name: GDPperCapita, dtype: int64"
      ]
     },
     "execution_count": 38,
     "metadata": {},
     "output_type": "execute_result"
    }
   ],
   "source": [
    "## What are the top 10 richest countries?\n",
    "df.GDPperCapita.sort_values(ascending=False).head(10)"
   ]
  },
  {
   "cell_type": "code",
   "execution_count": 39,
   "id": "7de6db74-05e6-4878-a62b-0ab0d017adc1",
   "metadata": {},
   "outputs": [
    {
     "data": {
      "text/html": [
       "<div>\n",
       "<style scoped>\n",
       "    .dataframe tbody tr th:only-of-type {\n",
       "        vertical-align: middle;\n",
       "    }\n",
       "\n",
       "    .dataframe tbody tr th {\n",
       "        vertical-align: top;\n",
       "    }\n",
       "\n",
       "    .dataframe thead th {\n",
       "        text-align: right;\n",
       "    }\n",
       "</style>\n",
       "<table border=\"1\" class=\"dataframe\">\n",
       "  <thead>\n",
       "    <tr style=\"text-align: right;\">\n",
       "      <th></th>\n",
       "      <th>region</th>\n",
       "      <th>lifeMale</th>\n",
       "      <th>lifeFemale</th>\n",
       "      <th>infantMortality</th>\n",
       "      <th>GDPperCapita</th>\n",
       "    </tr>\n",
       "    <tr>\n",
       "      <th>country</th>\n",
       "      <th></th>\n",
       "      <th></th>\n",
       "      <th></th>\n",
       "      <th></th>\n",
       "      <th></th>\n",
       "    </tr>\n",
       "  </thead>\n",
       "  <tbody>\n",
       "    <tr>\n",
       "      <th>Switzerland</th>\n",
       "      <td>Europe</td>\n",
       "      <td>75.3</td>\n",
       "      <td>81.8</td>\n",
       "      <td>5</td>\n",
       "      <td>42416</td>\n",
       "    </tr>\n",
       "    <tr>\n",
       "      <th>Japan</th>\n",
       "      <td>Asia</td>\n",
       "      <td>76.9</td>\n",
       "      <td>82.9</td>\n",
       "      <td>4</td>\n",
       "      <td>41718</td>\n",
       "    </tr>\n",
       "    <tr>\n",
       "      <th>Luxembourg</th>\n",
       "      <td>Europe</td>\n",
       "      <td>73.1</td>\n",
       "      <td>79.7</td>\n",
       "      <td>6</td>\n",
       "      <td>35109</td>\n",
       "    </tr>\n",
       "    <tr>\n",
       "      <th>Norway</th>\n",
       "      <td>Europe</td>\n",
       "      <td>74.8</td>\n",
       "      <td>80.6</td>\n",
       "      <td>5</td>\n",
       "      <td>33734</td>\n",
       "    </tr>\n",
       "    <tr>\n",
       "      <th>Denmark</th>\n",
       "      <td>Europe</td>\n",
       "      <td>73.0</td>\n",
       "      <td>78.3</td>\n",
       "      <td>7</td>\n",
       "      <td>33191</td>\n",
       "    </tr>\n",
       "    <tr>\n",
       "      <th>Germany</th>\n",
       "      <td>Europe</td>\n",
       "      <td>73.4</td>\n",
       "      <td>79.9</td>\n",
       "      <td>6</td>\n",
       "      <td>29632</td>\n",
       "    </tr>\n",
       "    <tr>\n",
       "      <th>Austria</th>\n",
       "      <td>Europe</td>\n",
       "      <td>73.7</td>\n",
       "      <td>80.1</td>\n",
       "      <td>6</td>\n",
       "      <td>29006</td>\n",
       "    </tr>\n",
       "    <tr>\n",
       "      <th>Belgium</th>\n",
       "      <td>Europe</td>\n",
       "      <td>73.9</td>\n",
       "      <td>80.6</td>\n",
       "      <td>7</td>\n",
       "      <td>26582</td>\n",
       "    </tr>\n",
       "    <tr>\n",
       "      <th>France</th>\n",
       "      <td>Europe</td>\n",
       "      <td>74.6</td>\n",
       "      <td>82.9</td>\n",
       "      <td>7</td>\n",
       "      <td>26444</td>\n",
       "    </tr>\n",
       "    <tr>\n",
       "      <th>Sweden</th>\n",
       "      <td>Europe</td>\n",
       "      <td>76.2</td>\n",
       "      <td>80.8</td>\n",
       "      <td>5</td>\n",
       "      <td>26253</td>\n",
       "    </tr>\n",
       "  </tbody>\n",
       "</table>\n",
       "</div>"
      ],
      "text/plain": [
       "             region  lifeMale  lifeFemale  infantMortality  GDPperCapita\n",
       "country                                                                 \n",
       "Switzerland  Europe      75.3        81.8                5         42416\n",
       "Japan          Asia      76.9        82.9                4         41718\n",
       "Luxembourg   Europe      73.1        79.7                6         35109\n",
       "Norway       Europe      74.8        80.6                5         33734\n",
       "Denmark      Europe      73.0        78.3                7         33191\n",
       "Germany      Europe      73.4        79.9                6         29632\n",
       "Austria      Europe      73.7        80.1                6         29006\n",
       "Belgium      Europe      73.9        80.6                7         26582\n",
       "France       Europe      74.6        82.9                7         26444\n",
       "Sweden       Europe      76.2        80.8                5         26253"
      ]
     },
     "execution_count": 39,
     "metadata": {},
     "output_type": "execute_result"
    }
   ],
   "source": [
    "## Show everything for 10 richest countries\n",
    "df.sort_values(\"GDPperCapita\",ascending=False).head(10)"
   ]
  },
  {
   "cell_type": "code",
   "execution_count": 40,
   "id": "5a95a25c-1e74-4b0f-be5b-a0f1e9e11aec",
   "metadata": {},
   "outputs": [
    {
     "data": {
      "text/html": [
       "<div>\n",
       "<style scoped>\n",
       "    .dataframe tbody tr th:only-of-type {\n",
       "        vertical-align: middle;\n",
       "    }\n",
       "\n",
       "    .dataframe tbody tr th {\n",
       "        vertical-align: top;\n",
       "    }\n",
       "\n",
       "    .dataframe thead th {\n",
       "        text-align: right;\n",
       "    }\n",
       "</style>\n",
       "<table border=\"1\" class=\"dataframe\">\n",
       "  <thead>\n",
       "    <tr style=\"text-align: right;\">\n",
       "      <th></th>\n",
       "      <th>region</th>\n",
       "      <th>lifeMale</th>\n",
       "      <th>lifeFemale</th>\n",
       "      <th>infantMortality</th>\n",
       "      <th>GDPperCapita</th>\n",
       "    </tr>\n",
       "    <tr>\n",
       "      <th>country</th>\n",
       "      <th></th>\n",
       "      <th></th>\n",
       "      <th></th>\n",
       "      <th></th>\n",
       "      <th></th>\n",
       "    </tr>\n",
       "  </thead>\n",
       "  <tbody>\n",
       "    <tr>\n",
       "      <th>Eritrea</th>\n",
       "      <td>Africa</td>\n",
       "      <td>49.1</td>\n",
       "      <td>52.1</td>\n",
       "      <td>98</td>\n",
       "      <td>96</td>\n",
       "    </tr>\n",
       "    <tr>\n",
       "      <th>Ethiopia</th>\n",
       "      <td>Africa</td>\n",
       "      <td>48.4</td>\n",
       "      <td>51.6</td>\n",
       "      <td>107</td>\n",
       "      <td>96</td>\n",
       "    </tr>\n",
       "    <tr>\n",
       "      <th>Mozambique</th>\n",
       "      <td>Africa</td>\n",
       "      <td>45.5</td>\n",
       "      <td>48.4</td>\n",
       "      <td>110</td>\n",
       "      <td>77</td>\n",
       "    </tr>\n",
       "    <tr>\n",
       "      <th>Sudan</th>\n",
       "      <td>Africa</td>\n",
       "      <td>53.6</td>\n",
       "      <td>56.4</td>\n",
       "      <td>71</td>\n",
       "      <td>36</td>\n",
       "    </tr>\n",
       "  </tbody>\n",
       "</table>\n",
       "</div>"
      ],
      "text/plain": [
       "            region  lifeMale  lifeFemale  infantMortality  GDPperCapita\n",
       "country                                                                \n",
       "Eritrea     Africa      49.1        52.1               98            96\n",
       "Ethiopia    Africa      48.4        51.6              107            96\n",
       "Mozambique  Africa      45.5        48.4              110            77\n",
       "Sudan       Africa      53.6        56.4               71            36"
      ]
     },
     "execution_count": 40,
     "metadata": {},
     "output_type": "execute_result"
    }
   ],
   "source": [
    "## How many countries with GDP less than 100\n",
    "\n",
    "df[df.GDPperCapita < 100]"
   ]
  },
  {
   "cell_type": "code",
   "execution_count": 42,
   "id": "05a35a6e-9116-466e-be5a-ce51cfdc9bac",
   "metadata": {},
   "outputs": [
    {
     "data": {
      "text/html": [
       "<div>\n",
       "<style scoped>\n",
       "    .dataframe tbody tr th:only-of-type {\n",
       "        vertical-align: middle;\n",
       "    }\n",
       "\n",
       "    .dataframe tbody tr th {\n",
       "        vertical-align: top;\n",
       "    }\n",
       "\n",
       "    .dataframe thead th {\n",
       "        text-align: right;\n",
       "    }\n",
       "</style>\n",
       "<table border=\"1\" class=\"dataframe\">\n",
       "  <thead>\n",
       "    <tr style=\"text-align: right;\">\n",
       "      <th></th>\n",
       "      <th>region</th>\n",
       "      <th>lifeMale</th>\n",
       "      <th>lifeFemale</th>\n",
       "      <th>infantMortality</th>\n",
       "      <th>GDPperCapita</th>\n",
       "    </tr>\n",
       "    <tr>\n",
       "      <th>country</th>\n",
       "      <th></th>\n",
       "      <th></th>\n",
       "      <th></th>\n",
       "      <th></th>\n",
       "      <th></th>\n",
       "    </tr>\n",
       "  </thead>\n",
       "  <tbody>\n",
       "    <tr>\n",
       "      <th>Switzerland</th>\n",
       "      <td>Europe</td>\n",
       "      <td>75.3</td>\n",
       "      <td>81.8</td>\n",
       "      <td>5</td>\n",
       "      <td>42416</td>\n",
       "    </tr>\n",
       "    <tr>\n",
       "      <th>Japan</th>\n",
       "      <td>Asia</td>\n",
       "      <td>76.9</td>\n",
       "      <td>82.9</td>\n",
       "      <td>4</td>\n",
       "      <td>41718</td>\n",
       "    </tr>\n",
       "    <tr>\n",
       "      <th>Luxembourg</th>\n",
       "      <td>Europe</td>\n",
       "      <td>73.1</td>\n",
       "      <td>79.7</td>\n",
       "      <td>6</td>\n",
       "      <td>35109</td>\n",
       "    </tr>\n",
       "    <tr>\n",
       "      <th>Norway</th>\n",
       "      <td>Europe</td>\n",
       "      <td>74.8</td>\n",
       "      <td>80.6</td>\n",
       "      <td>5</td>\n",
       "      <td>33734</td>\n",
       "    </tr>\n",
       "    <tr>\n",
       "      <th>Denmark</th>\n",
       "      <td>Europe</td>\n",
       "      <td>73.0</td>\n",
       "      <td>78.3</td>\n",
       "      <td>7</td>\n",
       "      <td>33191</td>\n",
       "    </tr>\n",
       "    <tr>\n",
       "      <th>Germany</th>\n",
       "      <td>Europe</td>\n",
       "      <td>73.4</td>\n",
       "      <td>79.9</td>\n",
       "      <td>6</td>\n",
       "      <td>29632</td>\n",
       "    </tr>\n",
       "    <tr>\n",
       "      <th>Austria</th>\n",
       "      <td>Europe</td>\n",
       "      <td>73.7</td>\n",
       "      <td>80.1</td>\n",
       "      <td>6</td>\n",
       "      <td>29006</td>\n",
       "    </tr>\n",
       "    <tr>\n",
       "      <th>Belgium</th>\n",
       "      <td>Europe</td>\n",
       "      <td>73.9</td>\n",
       "      <td>80.6</td>\n",
       "      <td>7</td>\n",
       "      <td>26582</td>\n",
       "    </tr>\n",
       "    <tr>\n",
       "      <th>France</th>\n",
       "      <td>Europe</td>\n",
       "      <td>74.6</td>\n",
       "      <td>82.9</td>\n",
       "      <td>7</td>\n",
       "      <td>26444</td>\n",
       "    </tr>\n",
       "    <tr>\n",
       "      <th>Sweden</th>\n",
       "      <td>Europe</td>\n",
       "      <td>76.2</td>\n",
       "      <td>80.8</td>\n",
       "      <td>5</td>\n",
       "      <td>26253</td>\n",
       "    </tr>\n",
       "    <tr>\n",
       "      <th>Iceland</th>\n",
       "      <td>Europe</td>\n",
       "      <td>77.4</td>\n",
       "      <td>81.2</td>\n",
       "      <td>5</td>\n",
       "      <td>26217</td>\n",
       "    </tr>\n",
       "    <tr>\n",
       "      <th>United.States</th>\n",
       "      <td>America</td>\n",
       "      <td>73.4</td>\n",
       "      <td>80.1</td>\n",
       "      <td>7</td>\n",
       "      <td>26037</td>\n",
       "    </tr>\n",
       "    <tr>\n",
       "      <th>Netherlands</th>\n",
       "      <td>Europe</td>\n",
       "      <td>75.0</td>\n",
       "      <td>80.6</td>\n",
       "      <td>6</td>\n",
       "      <td>25635</td>\n",
       "    </tr>\n",
       "    <tr>\n",
       "      <th>Singapore</th>\n",
       "      <td>Asia</td>\n",
       "      <td>75.1</td>\n",
       "      <td>79.5</td>\n",
       "      <td>5</td>\n",
       "      <td>25581</td>\n",
       "    </tr>\n",
       "    <tr>\n",
       "      <th>Finland</th>\n",
       "      <td>Europe</td>\n",
       "      <td>73.0</td>\n",
       "      <td>80.1</td>\n",
       "      <td>5</td>\n",
       "      <td>24453</td>\n",
       "    </tr>\n",
       "    <tr>\n",
       "      <th>Hong.Kong</th>\n",
       "      <td>Asia</td>\n",
       "      <td>76.1</td>\n",
       "      <td>81.8</td>\n",
       "      <td>5</td>\n",
       "      <td>22898</td>\n",
       "    </tr>\n",
       "    <tr>\n",
       "      <th>Australia</th>\n",
       "      <td>Oceania</td>\n",
       "      <td>75.4</td>\n",
       "      <td>81.2</td>\n",
       "      <td>6</td>\n",
       "      <td>20046</td>\n",
       "    </tr>\n",
       "  </tbody>\n",
       "</table>\n",
       "</div>"
      ],
      "text/plain": [
       "                region  lifeMale  lifeFemale  infantMortality  GDPperCapita\n",
       "country                                                                    \n",
       "Switzerland     Europe      75.3        81.8                5         42416\n",
       "Japan             Asia      76.9        82.9                4         41718\n",
       "Luxembourg      Europe      73.1        79.7                6         35109\n",
       "Norway          Europe      74.8        80.6                5         33734\n",
       "Denmark         Europe      73.0        78.3                7         33191\n",
       "Germany         Europe      73.4        79.9                6         29632\n",
       "Austria         Europe      73.7        80.1                6         29006\n",
       "Belgium         Europe      73.9        80.6                7         26582\n",
       "France          Europe      74.6        82.9                7         26444\n",
       "Sweden          Europe      76.2        80.8                5         26253\n",
       "Iceland         Europe      77.4        81.2                5         26217\n",
       "United.States  America      73.4        80.1                7         26037\n",
       "Netherlands     Europe      75.0        80.6                6         25635\n",
       "Singapore         Asia      75.1        79.5                5         25581\n",
       "Finland         Europe      73.0        80.1                5         24453\n",
       "Hong.Kong         Asia      76.1        81.8                5         22898\n",
       "Australia      Oceania      75.4        81.2                6         20046"
      ]
     },
     "execution_count": 42,
     "metadata": {},
     "output_type": "execute_result"
    }
   ],
   "source": [
    "## Find all countries with GDP more than 20000 and sort based on GDP!\n",
    "\n",
    "df[df.GDPperCapita > 20000].sort_values(\"GDPperCapita\",ascending=False)"
   ]
  },
  {
   "cell_type": "code",
   "execution_count": 43,
   "id": "6b979e64-0fe7-4584-a4f5-149152a83fe6",
   "metadata": {},
   "outputs": [
    {
     "data": {
      "text/html": [
       "<div>\n",
       "<style scoped>\n",
       "    .dataframe tbody tr th:only-of-type {\n",
       "        vertical-align: middle;\n",
       "    }\n",
       "\n",
       "    .dataframe tbody tr th {\n",
       "        vertical-align: top;\n",
       "    }\n",
       "\n",
       "    .dataframe thead th {\n",
       "        text-align: right;\n",
       "    }\n",
       "</style>\n",
       "<table border=\"1\" class=\"dataframe\">\n",
       "  <thead>\n",
       "    <tr style=\"text-align: right;\">\n",
       "      <th></th>\n",
       "      <th>region</th>\n",
       "      <th>lifeMale</th>\n",
       "      <th>lifeFemale</th>\n",
       "      <th>infantMortality</th>\n",
       "      <th>GDPperCapita</th>\n",
       "    </tr>\n",
       "    <tr>\n",
       "      <th>country</th>\n",
       "      <th></th>\n",
       "      <th></th>\n",
       "      <th></th>\n",
       "      <th></th>\n",
       "      <th></th>\n",
       "    </tr>\n",
       "  </thead>\n",
       "  <tbody>\n",
       "    <tr>\n",
       "      <th>India</th>\n",
       "      <td>Asia</td>\n",
       "      <td>62.1</td>\n",
       "      <td>62.7</td>\n",
       "      <td>72</td>\n",
       "      <td>365</td>\n",
       "    </tr>\n",
       "  </tbody>\n",
       "</table>\n",
       "</div>"
      ],
      "text/plain": [
       "        region  lifeMale  lifeFemale  infantMortality  GDPperCapita\n",
       "country                                                            \n",
       "India     Asia      62.1        62.7               72           365"
      ]
     },
     "execution_count": 43,
     "metadata": {},
     "output_type": "execute_result"
    }
   ],
   "source": [
    "df[df.index == \"India\"]"
   ]
  },
  {
   "cell_type": "code",
   "execution_count": 44,
   "id": "f2169c68-1b23-4e16-98c7-928cf9c8a706",
   "metadata": {},
   "outputs": [
    {
     "data": {
      "text/plain": [
       "region             Asia\n",
       "lifeMale           62.1\n",
       "lifeFemale         62.7\n",
       "infantMortality      72\n",
       "GDPperCapita        365\n",
       "Name: India, dtype: object"
      ]
     },
     "execution_count": 44,
     "metadata": {},
     "output_type": "execute_result"
    }
   ],
   "source": [
    "df.loc[\"India\"]"
   ]
  },
  {
   "cell_type": "code",
   "execution_count": 45,
   "id": "a25239a5-4702-4e15-ab84-a099384b7416",
   "metadata": {},
   "outputs": [],
   "source": [
    "## Can we correlate GDP with infant mortality?"
   ]
  },
  {
   "cell_type": "code",
   "execution_count": 46,
   "id": "e166341a-6dc9-49c9-8306-9d1ad1dfaa48",
   "metadata": {},
   "outputs": [
    {
     "data": {
      "text/plain": [
       "<Axes: xlabel='GDPperCapita', ylabel='infantMortality'>"
      ]
     },
     "execution_count": 46,
     "metadata": {},
     "output_type": "execute_result"
    },
    {
     "data": {
      "image/png": "[encoded data removed]",
      "text/plain": [
       "<Figure size 640x480 with 1 Axes>"
      ]
     },
     "metadata": {},
     "output_type": "display_data"
    }
   ],
   "source": [
    "df.plot(kind=\"scatter\",x=\"GDPperCapita\", y=\"infantMortality\")"
   ]
  },
  {
   "cell_type": "code",
   "execution_count": 47,
   "id": "a17e376c-4c1d-4347-9abf-725a7074a2aa",
   "metadata": {},
   "outputs": [
    {
     "data": {
      "text/html": [
       "<div>\n",
       "<style scoped>\n",
       "    .dataframe tbody tr th:only-of-type {\n",
       "        vertical-align: middle;\n",
       "    }\n",
       "\n",
       "    .dataframe tbody tr th {\n",
       "        vertical-align: top;\n",
       "    }\n",
       "\n",
       "    .dataframe thead th {\n",
       "        text-align: right;\n",
       "    }\n",
       "</style>\n",
       "<table border=\"1\" class=\"dataframe\">\n",
       "  <thead>\n",
       "    <tr style=\"text-align: right;\">\n",
       "      <th></th>\n",
       "      <th>region</th>\n",
       "      <th>lifeMale</th>\n",
       "      <th>lifeFemale</th>\n",
       "      <th>infantMortality</th>\n",
       "      <th>GDPperCapita</th>\n",
       "    </tr>\n",
       "    <tr>\n",
       "      <th>country</th>\n",
       "      <th></th>\n",
       "      <th></th>\n",
       "      <th></th>\n",
       "      <th></th>\n",
       "      <th></th>\n",
       "    </tr>\n",
       "  </thead>\n",
       "  <tbody>\n",
       "    <tr>\n",
       "      <th>Iraq</th>\n",
       "      <td>Asia</td>\n",
       "      <td>60.9</td>\n",
       "      <td>63.9</td>\n",
       "      <td>95</td>\n",
       "      <td>11308</td>\n",
       "    </tr>\n",
       "  </tbody>\n",
       "</table>\n",
       "</div>"
      ],
      "text/plain": [
       "        region  lifeMale  lifeFemale  infantMortality  GDPperCapita\n",
       "country                                                            \n",
       "Iraq      Asia      60.9        63.9               95         11308"
      ]
     },
     "execution_count": 47,
     "metadata": {},
     "output_type": "execute_result"
    }
   ],
   "source": [
    "df[(df.GDPperCapita > 10000) & (df.infantMortality > 75)]"
   ]
  },
  {
   "cell_type": "code",
   "execution_count": 48,
   "id": "b21305de-3b3d-46ce-a8dd-ad3be27c63e7",
   "metadata": {},
   "outputs": [
    {
     "data": {
      "text/html": [
       "<div>\n",
       "<style scoped>\n",
       "    .dataframe tbody tr th:only-of-type {\n",
       "        vertical-align: middle;\n",
       "    }\n",
       "\n",
       "    .dataframe tbody tr th {\n",
       "        vertical-align: top;\n",
       "    }\n",
       "\n",
       "    .dataframe thead th {\n",
       "        text-align: right;\n",
       "    }\n",
       "</style>\n",
       "<table border=\"1\" class=\"dataframe\">\n",
       "  <thead>\n",
       "    <tr style=\"text-align: right;\">\n",
       "      <th></th>\n",
       "      <th>region</th>\n",
       "      <th>lifeMale</th>\n",
       "      <th>lifeFemale</th>\n",
       "      <th>infantMortality</th>\n",
       "      <th>GDPperCapita</th>\n",
       "    </tr>\n",
       "    <tr>\n",
       "      <th>country</th>\n",
       "      <th></th>\n",
       "      <th></th>\n",
       "      <th></th>\n",
       "      <th></th>\n",
       "      <th></th>\n",
       "    </tr>\n",
       "  </thead>\n",
       "  <tbody>\n",
       "    <tr>\n",
       "      <th>Afghanistan</th>\n",
       "      <td>Asia</td>\n",
       "      <td>45.0</td>\n",
       "      <td>46.0</td>\n",
       "      <td>154</td>\n",
       "      <td>2848</td>\n",
       "    </tr>\n",
       "    <tr>\n",
       "      <th>Albania</th>\n",
       "      <td>Europe</td>\n",
       "      <td>68.0</td>\n",
       "      <td>74.0</td>\n",
       "      <td>32</td>\n",
       "      <td>863</td>\n",
       "    </tr>\n",
       "    <tr>\n",
       "      <th>Algeria</th>\n",
       "      <td>Africa</td>\n",
       "      <td>67.5</td>\n",
       "      <td>70.3</td>\n",
       "      <td>44</td>\n",
       "      <td>1531</td>\n",
       "    </tr>\n",
       "    <tr>\n",
       "      <th>Angola</th>\n",
       "      <td>Africa</td>\n",
       "      <td>44.9</td>\n",
       "      <td>48.1</td>\n",
       "      <td>124</td>\n",
       "      <td>355</td>\n",
       "    </tr>\n",
       "    <tr>\n",
       "      <th>Argentina</th>\n",
       "      <td>America</td>\n",
       "      <td>69.6</td>\n",
       "      <td>76.8</td>\n",
       "      <td>22</td>\n",
       "      <td>8055</td>\n",
       "    </tr>\n",
       "  </tbody>\n",
       "</table>\n",
       "</div>"
      ],
      "text/plain": [
       "              region  lifeMale  lifeFemale  infantMortality  GDPperCapita\n",
       "country                                                                  \n",
       "Afghanistan     Asia      45.0        46.0              154          2848\n",
       "Albania       Europe      68.0        74.0               32           863\n",
       "Algeria       Africa      67.5        70.3               44          1531\n",
       "Angola        Africa      44.9        48.1              124           355\n",
       "Argentina    America      69.6        76.8               22          8055"
      ]
     },
     "execution_count": 48,
     "metadata": {},
     "output_type": "execute_result"
    }
   ],
   "source": [
    "df.head()"
   ]
  },
  {
   "cell_type": "code",
   "execution_count": 49,
   "id": "a110e4a8-3bbf-4db1-b5cb-5d69cd09ec4e",
   "metadata": {},
   "outputs": [
    {
     "data": {
      "text/plain": [
       "<Axes: xlabel='GDPperCapita', ylabel='infantMortality'>"
      ]
     },
     "execution_count": 49,
     "metadata": {},
     "output_type": "execute_result"
    },
    {
     "data": {
      "image/png": "[encoded data removed]",
      "text/plain": [
       "<Figure size 640x480 with 1 Axes>"
      ]
     },
     "metadata": {},
     "output_type": "display_data"
    }
   ],
   "source": [
    "df[df.region == 'Africa'].plot(kind=\"scatter\", x=\"GDPperCapita\", y=\"infantMortality\")"
   ]
  },
  {
   "cell_type": "code",
   "execution_count": 51,
   "id": "7d733c1b-6498-4b4c-bd82-ba1701a6f3a5",
   "metadata": {},
   "outputs": [
    {
     "data": {
      "text/plain": [
       "country\n",
       "Afghanistan       Asia\n",
       "Albania         Europe\n",
       "Algeria         Africa\n",
       "Angola          Africa\n",
       "Argentina      America\n",
       "Armenia         Europe\n",
       "Australia      Oceania\n",
       "Austria         Europe\n",
       "Azerbaijan        Asia\n",
       "Bahamas        America\n",
       "Name: region, dtype: object"
      ]
     },
     "execution_count": 51,
     "metadata": {},
     "output_type": "execute_result"
    }
   ],
   "source": [
    "df['region'].head(10)"
   ]
  },
  {
   "cell_type": "code",
   "execution_count": 54,
   "id": "855ed4c0-1a93-4010-9e07-a81baed80455",
   "metadata": {},
   "outputs": [
    {
     "data": {
      "text/html": [
       "<div>\n",
       "<style scoped>\n",
       "    .dataframe tbody tr th:only-of-type {\n",
       "        vertical-align: middle;\n",
       "    }\n",
       "\n",
       "    .dataframe tbody tr th {\n",
       "        vertical-align: top;\n",
       "    }\n",
       "\n",
       "    .dataframe thead th {\n",
       "        text-align: right;\n",
       "    }\n",
       "</style>\n",
       "<table border=\"1\" class=\"dataframe\">\n",
       "  <thead>\n",
       "    <tr style=\"text-align: right;\">\n",
       "      <th></th>\n",
       "      <th>lifeMale</th>\n",
       "      <th>lifeFemale</th>\n",
       "      <th>infantMortality</th>\n",
       "      <th>GDPperCapita</th>\n",
       "    </tr>\n",
       "    <tr>\n",
       "      <th>region</th>\n",
       "      <th></th>\n",
       "      <th></th>\n",
       "      <th></th>\n",
       "      <th></th>\n",
       "    </tr>\n",
       "  </thead>\n",
       "  <tbody>\n",
       "    <tr>\n",
       "      <th>Africa</th>\n",
       "      <td>52.052830</td>\n",
       "      <td>55.286792</td>\n",
       "      <td>86.320755</td>\n",
       "      <td>1217.641509</td>\n",
       "    </tr>\n",
       "    <tr>\n",
       "      <th>America</th>\n",
       "      <td>69.082857</td>\n",
       "      <td>74.474286</td>\n",
       "      <td>26.657143</td>\n",
       "      <td>5080.085714</td>\n",
       "    </tr>\n",
       "    <tr>\n",
       "      <th>Asia</th>\n",
       "      <td>65.373913</td>\n",
       "      <td>69.439130</td>\n",
       "      <td>43.782609</td>\n",
       "      <td>5453.195652</td>\n",
       "    </tr>\n",
       "    <tr>\n",
       "      <th>Europe</th>\n",
       "      <td>70.362500</td>\n",
       "      <td>77.545000</td>\n",
       "      <td>11.575000</td>\n",
       "      <td>12860.050000</td>\n",
       "    </tr>\n",
       "    <tr>\n",
       "      <th>Oceania</th>\n",
       "      <td>67.464286</td>\n",
       "      <td>72.092857</td>\n",
       "      <td>24.642857</td>\n",
       "      <td>7131.785714</td>\n",
       "    </tr>\n",
       "  </tbody>\n",
       "</table>\n",
       "</div>"
      ],
      "text/plain": [
       "          lifeMale  lifeFemale  infantMortality  GDPperCapita\n",
       "region                                                       \n",
       "Africa   52.052830   55.286792        86.320755   1217.641509\n",
       "America  69.082857   74.474286        26.657143   5080.085714\n",
       "Asia     65.373913   69.439130        43.782609   5453.195652\n",
       "Europe   70.362500   77.545000        11.575000  12860.050000\n",
       "Oceania  67.464286   72.092857        24.642857   7131.785714"
      ]
     },
     "execution_count": 54,
     "metadata": {},
     "output_type": "execute_result"
    }
   ],
   "source": [
    "df.groupby('region').mean()"
   ]
  },
  {
   "cell_type": "code",
   "execution_count": 56,
   "id": "e28d1920-6827-4984-bd3c-25450107bf1e",
   "metadata": {},
   "outputs": [],
   "source": [
    "df_region = df.groupby('region').mean()"
   ]
  },
  {
   "cell_type": "code",
   "execution_count": 57,
   "id": "75c2e153-486c-4176-9a4a-f46a0c5d72be",
   "metadata": {},
   "outputs": [
    {
     "data": {
      "text/html": [
       "<div>\n",
       "<style scoped>\n",
       "    .dataframe tbody tr th:only-of-type {\n",
       "        vertical-align: middle;\n",
       "    }\n",
       "\n",
       "    .dataframe tbody tr th {\n",
       "        vertical-align: top;\n",
       "    }\n",
       "\n",
       "    .dataframe thead th {\n",
       "        text-align: right;\n",
       "    }\n",
       "</style>\n",
       "<table border=\"1\" class=\"dataframe\">\n",
       "  <thead>\n",
       "    <tr style=\"text-align: right;\">\n",
       "      <th></th>\n",
       "      <th>lifeMale</th>\n",
       "      <th>lifeFemale</th>\n",
       "      <th>infantMortality</th>\n",
       "      <th>GDPperCapita</th>\n",
       "    </tr>\n",
       "    <tr>\n",
       "      <th>region</th>\n",
       "      <th></th>\n",
       "      <th></th>\n",
       "      <th></th>\n",
       "      <th></th>\n",
       "    </tr>\n",
       "  </thead>\n",
       "  <tbody>\n",
       "    <tr>\n",
       "      <th>Africa</th>\n",
       "      <td>52.052830</td>\n",
       "      <td>55.286792</td>\n",
       "      <td>86.320755</td>\n",
       "      <td>1217.641509</td>\n",
       "    </tr>\n",
       "    <tr>\n",
       "      <th>America</th>\n",
       "      <td>69.082857</td>\n",
       "      <td>74.474286</td>\n",
       "      <td>26.657143</td>\n",
       "      <td>5080.085714</td>\n",
       "    </tr>\n",
       "    <tr>\n",
       "      <th>Asia</th>\n",
       "      <td>65.373913</td>\n",
       "      <td>69.439130</td>\n",
       "      <td>43.782609</td>\n",
       "      <td>5453.195652</td>\n",
       "    </tr>\n",
       "    <tr>\n",
       "      <th>Europe</th>\n",
       "      <td>70.362500</td>\n",
       "      <td>77.545000</td>\n",
       "      <td>11.575000</td>\n",
       "      <td>12860.050000</td>\n",
       "    </tr>\n",
       "    <tr>\n",
       "      <th>Oceania</th>\n",
       "      <td>67.464286</td>\n",
       "      <td>72.092857</td>\n",
       "      <td>24.642857</td>\n",
       "      <td>7131.785714</td>\n",
       "    </tr>\n",
       "  </tbody>\n",
       "</table>\n",
       "</div>"
      ],
      "text/plain": [
       "          lifeMale  lifeFemale  infantMortality  GDPperCapita\n",
       "region                                                       \n",
       "Africa   52.052830   55.286792        86.320755   1217.641509\n",
       "America  69.082857   74.474286        26.657143   5080.085714\n",
       "Asia     65.373913   69.439130        43.782609   5453.195652\n",
       "Europe   70.362500   77.545000        11.575000  12860.050000\n",
       "Oceania  67.464286   72.092857        24.642857   7131.785714"
      ]
     },
     "execution_count": 57,
     "metadata": {},
     "output_type": "execute_result"
    }
   ],
   "source": [
    "df_region"
   ]
  },
  {
   "cell_type": "code",
   "execution_count": 59,
   "id": "82fdcad5-0f75-4f33-af92-f171850d6a5b",
   "metadata": {},
   "outputs": [
    {
     "data": {
      "text/plain": [
       "<Axes: ylabel='region'>"
      ]
     },
     "execution_count": 59,
     "metadata": {},
     "output_type": "execute_result"
    },
    {
     "data": {
      "image/png": "[encoded data removed]",
      "text/plain": [
       "<Figure size 640x480 with 1 Axes>"
      ]
     },
     "metadata": {},
     "output_type": "display_data"
    }
   ],
   "source": [
    "df_region.GDPperCapita.plot(kind=\"barh\")"
   ]
  },
  {
   "cell_type": "code",
   "execution_count": 60,
   "id": "1cd57655-0ff4-46f5-8164-5ad7e84ba273",
   "metadata": {},
   "outputs": [],
   "source": [
    "df['lifeMean'] = (df.lifeMale + df.lifeFemale) / 2"
   ]
  },
  {
   "cell_type": "code",
   "execution_count": 63,
   "id": "d40534f4-9b94-4937-8573-09e021be23bf",
   "metadata": {},
   "outputs": [],
   "source": [
    "df['lifeRatio'] = (df.lifeMale / df.lifeFemale)"
   ]
  },
  {
   "cell_type": "code",
   "execution_count": 68,
   "id": "2047b280-3ed9-4485-80d3-1f5f40f171c0",
   "metadata": {},
   "outputs": [
    {
     "data": {
      "text/html": [
       "<div>\n",
       "<style scoped>\n",
       "    .dataframe tbody tr th:only-of-type {\n",
       "        vertical-align: middle;\n",
       "    }\n",
       "\n",
       "    .dataframe tbody tr th {\n",
       "        vertical-align: top;\n",
       "    }\n",
       "\n",
       "    .dataframe thead th {\n",
       "        text-align: right;\n",
       "    }\n",
       "</style>\n",
       "<table border=\"1\" class=\"dataframe\">\n",
       "  <thead>\n",
       "    <tr style=\"text-align: right;\">\n",
       "      <th></th>\n",
       "      <th>region</th>\n",
       "      <th>lifeMale</th>\n",
       "      <th>lifeFemale</th>\n",
       "      <th>infantMortality</th>\n",
       "      <th>GDPperCapita</th>\n",
       "      <th>lifeMean</th>\n",
       "      <th>lifeRatio</th>\n",
       "    </tr>\n",
       "    <tr>\n",
       "      <th>country</th>\n",
       "      <th></th>\n",
       "      <th></th>\n",
       "      <th></th>\n",
       "      <th></th>\n",
       "      <th></th>\n",
       "      <th></th>\n",
       "      <th></th>\n",
       "    </tr>\n",
       "  </thead>\n",
       "  <tbody>\n",
       "    <tr>\n",
       "      <th>Maldives</th>\n",
       "      <td>Asia</td>\n",
       "      <td>65.7</td>\n",
       "      <td>63.3</td>\n",
       "      <td>49</td>\n",
       "      <td>1079</td>\n",
       "      <td>64.50</td>\n",
       "      <td>1.037915</td>\n",
       "    </tr>\n",
       "    <tr>\n",
       "      <th>Nepal</th>\n",
       "      <td>Asia</td>\n",
       "      <td>57.6</td>\n",
       "      <td>57.1</td>\n",
       "      <td>82</td>\n",
       "      <td>203</td>\n",
       "      <td>57.35</td>\n",
       "      <td>1.008757</td>\n",
       "    </tr>\n",
       "  </tbody>\n",
       "</table>\n",
       "</div>"
      ],
      "text/plain": [
       "         region  lifeMale  lifeFemale  infantMortality  GDPperCapita  \\\n",
       "country                                                                \n",
       "Maldives   Asia      65.7        63.3               49          1079   \n",
       "Nepal      Asia      57.6        57.1               82           203   \n",
       "\n",
       "          lifeMean  lifeRatio  \n",
       "country                        \n",
       "Maldives     64.50   1.037915  \n",
       "Nepal        57.35   1.008757  "
      ]
     },
     "execution_count": 68,
     "metadata": {},
     "output_type": "execute_result"
    }
   ],
   "source": [
    "## Countries where men live longer than women\n",
    "df[df.lifeRatio > 1]"
   ]
  },
  {
   "cell_type": "code",
   "execution_count": 69,
   "id": "7ae934b1-6c5d-44e1-844f-c3a5ce4cd7cc",
   "metadata": {},
   "outputs": [
    {
     "data": {
      "text/html": [
       "<div>\n",
       "<style scoped>\n",
       "    .dataframe tbody tr th:only-of-type {\n",
       "        vertical-align: middle;\n",
       "    }\n",
       "\n",
       "    .dataframe tbody tr th {\n",
       "        vertical-align: top;\n",
       "    }\n",
       "\n",
       "    .dataframe thead th {\n",
       "        text-align: right;\n",
       "    }\n",
       "</style>\n",
       "<table border=\"1\" class=\"dataframe\">\n",
       "  <thead>\n",
       "    <tr style=\"text-align: right;\">\n",
       "      <th></th>\n",
       "      <th>region</th>\n",
       "      <th>lifeMale</th>\n",
       "      <th>lifeFemale</th>\n",
       "      <th>infantMortality</th>\n",
       "      <th>GDPperCapita</th>\n",
       "      <th>lifeMean</th>\n",
       "      <th>lifeRatio</th>\n",
       "    </tr>\n",
       "    <tr>\n",
       "      <th>country</th>\n",
       "      <th></th>\n",
       "      <th></th>\n",
       "      <th></th>\n",
       "      <th></th>\n",
       "      <th></th>\n",
       "      <th></th>\n",
       "      <th></th>\n",
       "    </tr>\n",
       "  </thead>\n",
       "  <tbody>\n",
       "    <tr>\n",
       "      <th>Russia</th>\n",
       "      <td>Europe</td>\n",
       "      <td>58.0</td>\n",
       "      <td>71.5</td>\n",
       "      <td>19</td>\n",
       "      <td>2451</td>\n",
       "      <td>64.75</td>\n",
       "      <td>0.811189</td>\n",
       "    </tr>\n",
       "    <tr>\n",
       "      <th>Latvia</th>\n",
       "      <td>Europe</td>\n",
       "      <td>62.5</td>\n",
       "      <td>74.3</td>\n",
       "      <td>16</td>\n",
       "      <td>1764</td>\n",
       "      <td>68.40</td>\n",
       "      <td>0.841184</td>\n",
       "    </tr>\n",
       "    <tr>\n",
       "      <th>Estonia</th>\n",
       "      <td>Europe</td>\n",
       "      <td>63.9</td>\n",
       "      <td>75.0</td>\n",
       "      <td>12</td>\n",
       "      <td>2433</td>\n",
       "      <td>69.45</td>\n",
       "      <td>0.852000</td>\n",
       "    </tr>\n",
       "    <tr>\n",
       "      <th>Lithuania</th>\n",
       "      <td>Europe</td>\n",
       "      <td>64.9</td>\n",
       "      <td>76.0</td>\n",
       "      <td>13</td>\n",
       "      <td>1595</td>\n",
       "      <td>70.45</td>\n",
       "      <td>0.853947</td>\n",
       "    </tr>\n",
       "    <tr>\n",
       "      <th>Ukraine</th>\n",
       "      <td>Europe</td>\n",
       "      <td>63.6</td>\n",
       "      <td>74.0</td>\n",
       "      <td>18</td>\n",
       "      <td>694</td>\n",
       "      <td>68.80</td>\n",
       "      <td>0.859459</td>\n",
       "    </tr>\n",
       "  </tbody>\n",
       "</table>\n",
       "</div>"
      ],
      "text/plain": [
       "           region  lifeMale  lifeFemale  infantMortality  GDPperCapita  \\\n",
       "country                                                                  \n",
       "Russia     Europe      58.0        71.5               19          2451   \n",
       "Latvia     Europe      62.5        74.3               16          1764   \n",
       "Estonia    Europe      63.9        75.0               12          2433   \n",
       "Lithuania  Europe      64.9        76.0               13          1595   \n",
       "Ukraine    Europe      63.6        74.0               18           694   \n",
       "\n",
       "           lifeMean  lifeRatio  \n",
       "country                         \n",
       "Russia        64.75   0.811189  \n",
       "Latvia        68.40   0.841184  \n",
       "Estonia       69.45   0.852000  \n",
       "Lithuania     70.45   0.853947  \n",
       "Ukraine       68.80   0.859459  "
      ]
     },
     "execution_count": 69,
     "metadata": {},
     "output_type": "execute_result"
    }
   ],
   "source": [
    "df.sort_values(\"lifeRatio\").head()"
   ]
  },
  {
   "cell_type": "code",
   "execution_count": 71,
   "id": "64387940-8948-4160-a075-2fce0fdd5b90",
   "metadata": {},
   "outputs": [
    {
     "data": {
      "text/plain": [
       "<Axes: >"
      ]
     },
     "execution_count": 71,
     "metadata": {},
     "output_type": "execute_result"
    },
    {
     "data": {
      "image/png": "[encoded data removed]",
      "text/plain": [
       "<Figure size 640x480 with 1 Axes>"
      ]
     },
     "metadata": {},
     "output_type": "display_data"
    }
   ],
   "source": [
    "df['lifeRatio'].hist()"
   ]
  },
  {
   "cell_type": "code",
   "execution_count": null,
   "id": "615a0bb2-1d05-40b0-8cfe-9344a4eee309",
   "metadata": {},
   "outputs": [],
   "source": []
  }
 ],
 "metadata": {
  "kernelspec": {
   "display_name": "Python 3 (ipykernel)",
   "language": "python",
   "name": "python3"
  },
  "language_info": {
   "codemirror_mode": {
    "name": "ipython",
    "version": 3
   },
   "file_extension": ".py",
   "mimetype": "text/x-python",
   "name": "python",
   "nbconvert_exporter": "python",
   "pygments_lexer": "ipython3",
   "version": "3.12.5"
  }
 },
 "nbformat": 4,
 "nbformat_minor": 5
}
