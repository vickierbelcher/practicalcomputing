{
 "cells": [
  {
   "cell_type": "markdown",
   "metadata": {},
   "source": [
    "# Assignment 03"
   ]
  },
  {
   "cell_type": "markdown",
   "metadata": {},
   "source": []
  },
  {
   "cell_type": "markdown",
   "metadata": {},
   "source": [
    "## Problem 1: Countdown"
   ]
  },
  {
   "attachments": {},
   "cell_type": "markdown",
   "metadata": {},
   "source": [
    "Write a program `countdown.py` to print numbers from `n` to 1.\n",
    "\n",
    "The program should take the number `n` as command-line argument.\n",
    "\n",
    "```\n",
    "$ python countdown.py 5\n",
    "5\n",
    "4\n",
    "3\n",
    "2\n",
    "1\n",
    "```"
   ]
  },
  {
   "cell_type": "code",
   "execution_count": 47,
   "metadata": {},
   "outputs": [
    {
     "name": "stdout",
     "output_type": "stream",
     "text": [
      "Overwriting countdown.py\n"
     ]
    }
   ],
   "source": [
    "%%file countdown.py\n",
    "import sys\n",
    "n = int(sys.argv[1])\n",
    "c = list(range(n,0,-1))\n",
    "for number in c:\n",
    "    print(number)"
   ]
  },
  {
   "cell_type": "code",
   "execution_count": 48,
   "metadata": {},
   "outputs": [
    {
     "name": "stdout",
     "output_type": "stream",
     "text": [
      "3\n",
      "2\n",
      "1\n"
     ]
    }
   ],
   "source": [
    "! python countdown.py 3"
   ]
  },
  {
   "cell_type": "code",
   "execution_count": null,
   "metadata": {},
   "outputs": [],
   "source": []
  },
  {
   "attachments": {},
   "cell_type": "markdown",
   "metadata": {},
   "source": [
    "## Probelm 2: Sum of Arguments"
   ]
  },
  {
   "attachments": {},
   "cell_type": "markdown",
   "metadata": {},
   "source": [
    "Write a program `sum.py` that takes one or more numbers as command-line arguments and prints their sum.\n",
    "\n",
    "```\n",
    "$ python sum.py 1 2 3 4\n",
    "10\n",
    "\n",
    "$ python sum.py 1 2 3 4 5\n",
    "15\n",
    "```"
   ]
  },
  {
   "cell_type": "code",
   "execution_count": 74,
   "metadata": {},
   "outputs": [
    {
     "name": "stdout",
     "output_type": "stream",
     "text": [
      "Overwriting sum.py\n"
     ]
    }
   ],
   "source": [
    "%%file sum.py\n",
    "import sys\n",
    "total = sum(int(arg) for arg in sys.argv[1:])\n",
    "print(total)"
   ]
  },
  {
   "cell_type": "code",
   "execution_count": 75,
   "metadata": {},
   "outputs": [
    {
     "name": "stdout",
     "output_type": "stream",
     "text": [
      "10\n"
     ]
    }
   ],
   "source": [
    "! python sum.py 3 5 2"
   ]
  },
  {
   "cell_type": "code",
   "execution_count": null,
   "metadata": {},
   "outputs": [],
   "source": []
  },
  {
   "cell_type": "markdown",
   "metadata": {},
   "source": [
    "## Problem 3: Uppercase"
   ]
  },
  {
   "attachments": {},
   "cell_type": "markdown",
   "metadata": {},
   "source": [
    "Write a program uppercase.py that takes a filename as command-line argument and prints all the contents of the file in uppercase.\n",
    "\n",
    "```\n",
    "$ python uppercase.py five.txt\n",
    "ONE\n",
    "TWO\n",
    "THREE\n",
    "FOUR\n",
    "FIVE\n",
    "```"
   ]
  },
  {
   "cell_type": "code",
   "execution_count": 84,
   "metadata": {},
   "outputs": [
    {
     "name": "stdout",
     "output_type": "stream",
     "text": [
      "Overwriting five.txt\n"
     ]
    }
   ],
   "source": [
    "%%file five.txt\n",
    "one\n",
    "two\n",
    "three\n",
    "four\n",
    "five"
   ]
  },
  {
   "cell_type": "code",
   "execution_count": 102,
   "metadata": {},
   "outputs": [
    {
     "name": "stdout",
     "output_type": "stream",
     "text": [
      "Overwriting upper.py\n"
     ]
    }
   ],
   "source": [
    "%%file upper.py\n",
    "import sys\n",
    "filename = sys.argv[1]\n",
    "print(open(filename).read().upper())"
   ]
  },
  {
   "cell_type": "code",
   "execution_count": 103,
   "metadata": {},
   "outputs": [
    {
     "name": "stdout",
     "output_type": "stream",
     "text": [
      "ONE\n",
      "TWO\n",
      "THREE\n",
      "FOUR\n",
      "FIVE\n",
      "\n"
     ]
    }
   ],
   "source": [
    "! python upper.py \"five.txt\""
   ]
  },
  {
   "cell_type": "code",
   "execution_count": null,
   "metadata": {},
   "outputs": [],
   "source": []
  },
  {
   "attachments": {},
   "cell_type": "markdown",
   "metadata": {},
   "source": [
    "## Problem 4: Concatinate two files"
   ]
  },
  {
   "attachments": {},
   "cell_type": "markdown",
   "metadata": {},
   "source": [
    "Write a program `concat.py` that takes three filenames as argument and concatinates the contents first two files and writes them into the last one.\n",
    "\n",
    "For example, the following would concatinate the contents of `a.txt` and `b.txt` and writes them to `ab.txt`.\n",
    "\n",
    "```\n",
    "$ python combine.py a.txt b.txt ab.txt\n",
    "```\n",
    "\n",
    "After running this, the file `ab.txt will have the following contents.\n",
    "\n",
    "```\n",
    "A1\n",
    "A2\n",
    "B1\n",
    "B2\n",
    "B3\n",
    "```"
   ]
  },
  {
   "cell_type": "code",
   "execution_count": 118,
   "metadata": {},
   "outputs": [
    {
     "name": "stdout",
     "output_type": "stream",
     "text": [
      "Overwriting a.txt\n"
     ]
    }
   ],
   "source": [
    "%%file a.txt\n",
    "A1\n",
    "A2"
   ]
  },
  {
   "cell_type": "code",
   "execution_count": 117,
   "metadata": {},
   "outputs": [
    {
     "name": "stdout",
     "output_type": "stream",
     "text": [
      "Writing b.txt\n"
     ]
    }
   ],
   "source": [
    "%%file b.txt\n",
    "B1\n",
    "B2\n",
    "B3"
   ]
  },
  {
   "cell_type": "code",
   "execution_count": 134,
   "metadata": {},
   "outputs": [
    {
     "name": "stdout",
     "output_type": "stream",
     "text": [
      "Overwriting concat.py\n"
     ]
    }
   ],
   "source": [
    "%%file concat.py\n",
    "import sys\n",
    "a = sys.argv[1]\n",
    "b = sys.argv[2]\n",
    "ab = sys.argv[3]\n",
    "reada = open(a).read()\n",
    "readb = open(b).read()\n",
    "with open (ab,\"w\") as f:\n",
    "    f.write(reada)\n",
    "    f.write(readb)\n",
    "print(open(ab).read())\n"
   ]
  },
  {
   "cell_type": "code",
   "execution_count": 135,
   "metadata": {},
   "outputs": [
    {
     "name": "stdout",
     "output_type": "stream",
     "text": [
      "A1\n",
      "A2\n",
      "B1\n",
      "B2\n",
      "B3\n",
      "\n"
     ]
    }
   ],
   "source": [
    "! python concat.py \"a.txt\" \"b.txt\" \"ab.txt\""
   ]
  },
  {
   "cell_type": "code",
   "execution_count": null,
   "metadata": {},
   "outputs": [],
   "source": []
  },
  {
   "attachments": {},
   "cell_type": "markdown",
   "metadata": {},
   "source": [
    "## Problem 5: Reverse Lines"
   ]
  },
  {
   "attachments": {},
   "cell_type": "markdown",
   "metadata": {},
   "source": [
    "Write a program `reverse.py` that takes a filename as command-line argument and prints all the lines in that file in the reverse order.\n",
    "\n",
    "```\n",
    "$ python reverse.py files/five.txt\n",
    "five\n",
    "four\n",
    "three\n",
    "two\n",
    "one\n",
    "```\n"
   ]
  },
  {
   "cell_type": "code",
   "execution_count": 3,
   "metadata": {},
   "outputs": [
    {
     "name": "stdout",
     "output_type": "stream",
     "text": [
      "Overwriting five.txt\n"
     ]
    }
   ],
   "source": [
    "%%file five.txt\n",
    "one\n",
    "two\n",
    "three\n",
    "four\n",
    "five"
   ]
  },
  {
   "cell_type": "code",
   "execution_count": 162,
   "metadata": {},
   "outputs": [
    {
     "name": "stdout",
     "output_type": "stream",
     "text": [
      "Overwriting reverse.py\n"
     ]
    }
   ],
   "source": [
    "%%file reverse.py\n",
    "import sys\n",
    "text = sys.argv[1]\n",
    "lista = list(open(text).readlines())\n",
    "reverselist = lista[::-1]\n",
    "for item in reverselist:\n",
    "    print(item)"
   ]
  },
  {
   "cell_type": "code",
   "execution_count": 163,
   "metadata": {},
   "outputs": [
    {
     "name": "stdout",
     "output_type": "stream",
     "text": [
      "five\n",
      "\n",
      "four\n",
      "\n",
      "three\n",
      "\n",
      "two\n",
      "\n",
      "one\n",
      "\n"
     ]
    }
   ],
   "source": [
    "! python reverse.py \"five.txt\""
   ]
  },
  {
   "attachments": {},
   "cell_type": "markdown",
   "metadata": {},
   "source": [
    "## Problem 6: Generate Password"
   ]
  },
  {
   "cell_type": "markdown",
   "metadata": {},
   "source": [
    "Write a function `generate_password` to generate random password of given length.\n",
    "\n",
    "The function should take length `n` as argument and generate a password using mix of letters from lowercase, uppercase from English alphabet and digits. It should not have any other characters.\n",
    "\n",
    "```\n",
    ">>> generate_password(8)\n",
    "'rBZLcP8V'\n",
    ">>> generate_password(25)\n",
    "'JU938tUT36QRvVEPh9OLrxlrB'\n",
    "```\n",
    "\n",
    "**Hint**\n",
    "\n",
    "* See `random.choice` function from the `random` module\n",
    "* See `string.ascii_letters` and `string.digits` from the string module"
   ]
  },
  {
   "cell_type": "code",
   "execution_count": 201,
   "metadata": {},
   "outputs": [
    {
     "name": "stdout",
     "output_type": "stream",
     "text": [
      "Overwriting generate_password.py\n"
     ]
    }
   ],
   "source": [
    "%%file generate_password.py\n",
    "import sys\n",
    "import string\n",
    "import random\n",
    "n = int(sys.argv[1])\n",
    "possiblevalues = (list(string.ascii_letters) + list(string.digits))\n",
    "passwordlength = list(range(1,n+1,1))\n",
    "password = []\n",
    "for p in passwordlength:\n",
    "    randomvalue = random.choice(possiblevalues)\n",
    "    password.append(randomvalue)\n",
    "print(\"\".join(password))\n"
   ]
  },
  {
   "cell_type": "code",
   "execution_count": 202,
   "metadata": {},
   "outputs": [
    {
     "name": "stdout",
     "output_type": "stream",
     "text": [
      "uRBhsbOQ7Cr7GshcmwpeGw65t\n"
     ]
    }
   ],
   "source": [
    "! python generate_password.py 25"
   ]
  },
  {
   "cell_type": "code",
   "execution_count": null,
   "metadata": {},
   "outputs": [],
   "source": []
  },
  {
   "cell_type": "code",
   "execution_count": null,
   "metadata": {},
   "outputs": [],
   "source": []
  },
  {
   "attachments": {},
   "cell_type": "markdown",
   "metadata": {},
   "source": [
    "## Problem 7: Fortune"
   ]
  },
  {
   "attachments": {},
   "cell_type": "markdown",
   "metadata": {},
   "source": [
    "`fortune` is popular program on Unix that displays a random message from a database of quotations. These  quotes are often funny and witty. \n",
    "\n",
    "Your task is a implement a simpler version of the _fortune_ command. Write a program `fortune.py` that prints a random quote from `fortune.txt` file. The file contains quotes separated by `%`. A sample `fortune.txt` is provided below.\n",
    "\n",
    "This is how it is suppose to work.\n",
    "\n",
    "```\n",
    "$ python fortune.py\n",
    "You are taking yourself far too seriously.\n",
    "\n",
    "$ python fortune.py\n",
    "It usually takes more than three weeks to prepare a good impromptu speech.\n",
    "                -- Mark Twain\n",
    "```\n",
    "\n",
    "**Hint:**\n",
    "\n",
    "Python has a built-in module `random`. It can be used to pick a random item from a list of items.\n",
    "\n",
    "```python\n",
    ">>> import random\n",
    ">>> names = [\"alice\", \"bob\", \"charlie\", \"dave\"]\n",
    ">>> random.choice(names)\n",
    "'charlie'\n",
    ">>> random.choice(names)\n",
    "'alice'\n",
    "```"
   ]
  },
  {
   "cell_type": "code",
   "execution_count": 203,
   "metadata": {},
   "outputs": [
    {
     "name": "stdout",
     "output_type": "stream",
     "text": [
      "Writing fortune.txt\n"
     ]
    }
   ],
   "source": [
    "%%file fortune.txt\n",
    "You will soon forget this.\n",
    "%\n",
    "Too much is just enough.\n",
    "                -- Mark Twain, on whiskey\n",
    "%\n",
    "Q:      Why did the astrophysicist order three hamburgers?\n",
    "A:      Because he was hungry.\n",
    "%\n",
    "You will be aided greatly by a person whom you thought to be unimportant.\n",
    "%\n",
    "Communicate!  It can't make things any worse.\n",
    "%\n",
    "It usually takes more than three weeks to prepare a good impromptu speech.\n",
    "                -- Mark Twain\n",
    "%\n",
    "Write yourself a threatening letter and pen a defiant reply.\n",
    "%\n",
    "You should go home.\n",
    "%\n",
    "You are taking yourself far too seriously.\n",
    "%\n",
    "Q:      Do you know what the death rate around here is?\n",
    "A:      One per person.\n",
    "%\n",
    "You need no longer worry about the future.  This time tomorrow you'll be dead.                "
   ]
  },
  {
   "cell_type": "code",
   "execution_count": 223,
   "metadata": {},
   "outputs": [
    {
     "name": "stdout",
     "output_type": "stream",
     "text": [
      "Overwriting fortune.py\n"
     ]
    }
   ],
   "source": [
    "%%file fortune.py\n",
    "import sys\n",
    "import random\n",
    "text = sys.argv[1]\n",
    "lista = list(open(text).read().split(\"%\"))\n",
    "print(random.choice(lista))"
   ]
  },
  {
   "cell_type": "code",
   "execution_count": 228,
   "metadata": {},
   "outputs": [
    {
     "name": "stdout",
     "output_type": "stream",
     "text": [
      "\n",
      "Write yourself a threatening letter and pen a defiant reply.\n",
      "\n"
     ]
    }
   ],
   "source": [
    "! python fortune.py \"fortune.txt\""
   ]
  },
  {
   "cell_type": "code",
   "execution_count": null,
   "metadata": {},
   "outputs": [],
   "source": []
  },
  {
   "attachments": {},
   "cell_type": "markdown",
   "metadata": {},
   "source": [
    "## Problem 8:  Nominatim OSM Search"
   ]
  },
  {
   "attachments": {},
   "cell_type": "markdown",
   "metadata": {},
   "source": [
    "Write a program `nominatim.py` to search for a place in Open Street Map using [Nominatim API][1].\n",
    "\n",
    "[1]: https://nominatim.org/release-docs/develop/api/Search/\n",
    "\n",
    "#### The API\n",
    "\n",
    "```\n",
    "$ curl 'https://nominatim.openstreetmap.org/search.php?q=bangalore&format=jsonv2'\n",
    "[\n",
    "  {\n",
    "    \"place_id\": 216751017,\n",
    "    \"licence\": \"Data © OpenStreetMap contributors, ODbL 1.0. http://osm.org/copyright\",\n",
    "    \"osm_type\": \"relation\",\n",
    "    \"osm_id\": 7902476,\n",
    "    \"lat\": \"12.9767936\",\n",
    "    \"lon\": \"77.590082\",\n",
    "    \"category\": \"boundary\",\n",
    "    \"type\": \"administrative\",\n",
    "    \"place_rank\": 16,\n",
    "    \"importance\": 0.6094348238975636,\n",
    "    \"addresstype\": \"city\",\n",
    "    \"name\": \"Bengaluru\",\n",
    "    \"display_name\": \"Bengaluru, Bangalore North, Bengaluru Urban District, Karnataka, India\",\n",
    "    \"boundingbox\": [\n",
    "      \"12.8340125\",\n",
    "      \"13.1436649\",\n",
    "      \"77.4601025\",\n",
    "      \"77.7840515\"\n",
    "    ]\n",
    "  }\n",
    "]\n",
    "```\n",
    "\n",
    "The Nominatum API returns the information about the matched locations. There could be zero, one, or more matches.\n",
    "\n",
    "#### The Program\n",
    "\n",
    "The program is expected to take the place name as a command-line argument and print the `display_name`, `type`, `lat` and `lon` for every match from the nominatum search for that place, as shown in the examples below.\n",
    "\n",
    "```\n",
    "$ python nominatum.py Bangalore\n",
    "Bengaluru, Bangalore North, Bengaluru Urban District, Karnataka, India\n",
    "Type: administrative\n",
    "Latitude: 12.9767936\n",
    "Longitude: 77.590082\n",
    "\n",
    "```\n",
    "\n",
    "When there are multiple matches, they are separated by a new line.\n",
    "\n",
    "```\n",
    "$ python nominatum.py \"silk board\"\n",
    "Silk Board, Outer Ring Road, BTM 2nd Stage, BTM Layout Ward, South Zone, Bengaluru, Bangalore South, Bengaluru Urban District, Karnataka, 560034, India\n",
    "Type: bus_stop\n",
    "Latitude: 12.9170295\n",
    "Longitude: 77.6223209\n",
    "\n",
    "Silk Board, Srinagar - Kanyakumari Highway, HSR Layout Ward, Bommanahalli Zone, Bengaluru, Bangalore South, Bengaluru Urban District, Karnataka, 560034, India\n",
    "Type: bus_stop\n",
    "Latitude: 12.9167972\n",
    "Longitude: 77.6235628\n",
    "\n",
    "```\n",
    "\n",
    "Sometimes there could be a lot of matches.\n",
    "\n",
    "```\n",
    "$ python nominatum.py Google\n",
    "Google, 355, Main Street, East Cambridge, Cambridge, Middlesex County, Massachusetts, 02142, United States\n",
    "Type: company\n",
    "Latitude: 42.3627717\n",
    "Longitude: -71.087257\n",
    "\n",
    "Google, West Bluff Creek Drive, Playa Vista, Los Angeles, Los Angeles County, California, 90094, United States\n",
    "Type: company\n",
    "Latitude: 33.977092\n",
    "Longitude: -118.4092133\n",
    "\n",
    "Google, Mountain View, Santa Clara County, California, United States\n",
    "Type: commercial\n",
    "Latitude: 37.419000999999994\n",
    "Longitude: -122.08237596053958\n",
    "\n",
    "Google, 150, Broadway, East Cambridge, Cambridge, Middlesex County, Massachusetts, 02142, United States\n",
    "Type: company\n",
    "Latitude: 42.3642662\n",
    "Longitude: -71.0887198\n",
    "\n",
    "Googal, Devadurga taluk, Raichur District, Karnataka, India\n",
    "Type: village\n",
    "Latitude: 16.4693278\n",
    "Longitude: 77.1442219\n",
    "\n",
    "Google, Kirkland, King County, Washington, United States\n",
    "Type: commercial\n",
    "Latitude: 47.6705578\n",
    "Longitude: -122.19707375045999\n",
    "\n",
    "```\n",
    "\n"
   ]
  },
  {
   "cell_type": "code",
   "execution_count": null,
   "metadata": {},
   "outputs": [],
   "source": []
  },
  {
   "cell_type": "code",
   "execution_count": null,
   "metadata": {},
   "outputs": [],
   "source": []
  },
  {
   "cell_type": "code",
   "execution_count": null,
   "metadata": {},
   "outputs": [],
   "source": []
  },
  {
   "attachments": {},
   "cell_type": "markdown",
   "metadata": {},
   "source": [
    "## Problem 9: Client for Free Dictionary API"
   ]
  },
  {
   "attachments": {},
   "cell_type": "markdown",
   "metadata": {},
   "source": [
    "Write a program `dict.py` to find the meaning of a word using the [Free Dictionary API][1].\n",
    "\n",
    "[1]: https://dictionaryapi.dev/\n",
    "\n",
    "#### Expected Usage\n",
    "\n",
    "The program should take one word as argument and display the phonetics and meaning of that word using the Free Dictionary API.\n",
    "\n",
    "```\n",
    "$ python dict.py obscure\n",
    "onscure /əbˈskjɔː(ɹ)/\n",
    "\n",
    "VERB\n",
    "\n",
    "To render obscure; to darken; to make dim; to keep in the dark; to hide; to make less visible, intelligible, legible, glorious, beautiful, or illustrious.\n",
    "\n",
    "To hide, put out of sight etc.\n",
    "\n",
    "To conceal oneself; to hide.\n",
    "\n",
    "ADJECTIVE\n",
    "\n",
    "Dark, faint or indistinct.\n",
    "\n",
    "Hidden, out of sight or inconspicuous.\n",
    "```\n",
    "\n",
    "As you can see, The first line contains the word and its phonetic.\n",
    "For each part of speech, the part of speech is shown in uppercase, followed by each of the meaning provided in the response. There will be exactly one new line after each meaning and part-of-speech line."
   ]
  },
  {
   "cell_type": "code",
   "execution_count": null,
   "metadata": {},
   "outputs": [],
   "source": []
  },
  {
   "cell_type": "code",
   "execution_count": null,
   "metadata": {},
   "outputs": [],
   "source": []
  },
  {
   "cell_type": "code",
   "execution_count": null,
   "metadata": {},
   "outputs": [],
   "source": []
  },
  {
   "cell_type": "code",
   "execution_count": null,
   "metadata": {},
   "outputs": [],
   "source": []
  },
  {
   "attachments": {},
   "cell_type": "markdown",
   "metadata": {},
   "source": [
    "## Problem 10: Exchange Rates"
   ]
  },
  {
   "attachments": {},
   "cell_type": "markdown",
   "metadata": {},
   "source": [
    "Write a program `exchange-rates.py` that takes year as an argument and prints minimum and maximum exchange rate of `INR` against `USD` for every month of that year.\n",
    "\n",
    "```\n",
    "$ python exchange-rates.py 2023\n",
    "2023-01 81.12 82.89\n",
    "2023-02 81.8 82.9\n",
    "2023-03 81.82 82.8\n",
    "2023-04 81.72 82.31\n",
    "2023-05 81.71 82.86\n",
    "2023-06 81.89 82.63\n",
    "2023-07 81.81 82.71\n",
    "2023-08 82.28 83.34\n",
    "2023-09 82.68 83.31\n",
    "2023-10 83.06 83.3\n",
    "2023-11 83.08 83.4\n",
    "2023-12 83.08 83.41\n",
    "```\n",
    "\n",
    "You can use the [Frarkfurter Time Series API](https://frankfurter.dev/). For example, the following example gives the exchange rates of INR against USD from 2023-01-01 to 2023-01-10. Please note that some days may be missing as no data will be available on weekends. You can change the date range in the URL to get values of a different date range.\n",
    "\n",
    "```\n",
    "$ curl -s 'https://api.frankfurter.app/2023-01-01..2023-01-10?base=USD&symbols=INR'\n",
    "{\n",
    "  \"amount\": 1,\n",
    "  \"base\": \"USD\",\n",
    "  \"start_date\": \"2023-01-02\",\n",
    "  \"end_date\": \"2023-01-10\",\n",
    "  \"rates\": {\n",
    "    \"2023-01-02\": {\n",
    "      \"INR\": 82.78\n",
    "    },\n",
    "    \"2023-01-03\": {\n",
    "      \"INR\": 82.89\n",
    "    },\n",
    "    \"2023-01-04\": {\n",
    "      \"INR\": 82.83\n",
    "    },\n",
    "    \"2023-01-05\": {\n",
    "      \"INR\": 82.52\n",
    "    },\n",
    "    \"2023-01-06\": {\n",
    "      \"INR\": 82.77\n",
    "    },\n",
    "    \"2023-01-09\": {\n",
    "      \"INR\": 82.35\n",
    "    },\n",
    "    \"2023-01-10\": {\n",
    "      \"INR\": 81.79\n",
    "    }\n",
    "  }\n",
    "}\n",
    "```\n",
    "\n",
    "**Hints:**\n",
    "\n",
    "You can iterate over the keys of a dictionary using a for loop.\n",
    "\n",
    "```python\n",
    "data = {\"x\": 10, \"y\": 20, \"z\": 30}\n",
    "for k in data: \n",
    "    print(k)\n",
    "```\n",
    "\n",
    "Or you can usem in a list comprehension.\n",
    "\n",
    "```python\n",
    "[k for k in data if data[k] > 15]\n",
    "```"
   ]
  },
  {
   "cell_type": "code",
   "execution_count": null,
   "metadata": {},
   "outputs": [],
   "source": []
  },
  {
   "cell_type": "code",
   "execution_count": null,
   "metadata": {},
   "outputs": [],
   "source": []
  },
  {
   "cell_type": "code",
   "execution_count": null,
   "metadata": {},
   "outputs": [],
   "source": []
  },
  {
   "cell_type": "code",
   "execution_count": null,
   "metadata": {},
   "outputs": [],
   "source": []
  }
 ],
 "metadata": {
  "kernelspec": {
   "display_name": "Python 3",
   "language": "python",
   "name": "python3"
  },
  "language_info": {
   "codemirror_mode": {
    "name": "ipython",
    "version": 3
   },
   "file_extension": ".py",
   "mimetype": "text/x-python",
   "name": "python",
   "nbconvert_exporter": "python",
   "pygments_lexer": "ipython3",
   "version": "3.13.0"
  },
  "orig_nbformat": 4
 },
 "nbformat": 4,
 "nbformat_minor": 2
}
