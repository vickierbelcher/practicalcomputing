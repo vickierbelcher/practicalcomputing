{
  "cells": [
    {
      "cell_type": "markdown",
      "metadata": {},
      "source": [
        "---\n",
        "execute:\n",
        "    error: true\n",
        "    cache: true\n",
        "---\n",
        "\n",
        "# A Taste of Python\n",
        "\n",
        "Welcome to the world of Python.\n",
        "\n",
        "Python is very simple language to learn, yet it is quite powerful.\n",
        "\n",
        "Let's get a taste of Python by looking at a couple of examples.\n",
        "\n",
        "## Python is Simple\n",
        "\n",
        "Python is a very simple programming language and it is quite easy to learn.\n",
        "\n",
        "Writing a hello-world program just takes a single line of code."
      ]
    },
    {
      "cell_type": "code",
      "metadata": {},
      "source": [
        "print(\"hello, world!\")"
      ],
      "execution_count": null,
      "outputs": []
    },
    {
      "cell_type": "markdown",
      "metadata": {},
      "source": [
        "It is very handy to use Python as a calculator."
      ]
    },
    {
      "cell_type": "code",
      "metadata": {},
      "source": [
        "print(1 + 2)"
      ],
      "execution_count": null,
      "outputs": []
    },
    {
      "cell_type": "markdown",
      "metadata": {},
      "source": [
        "## Python is Dynamically Typed\n",
        "\n",
        "Python is a dynamically typed programming language, so you don't need to declare type of variables."
      ]
    },
    {
      "cell_type": "code",
      "metadata": {},
      "source": [
        "x = 1\n",
        "y = 2\n",
        "print(x + y)"
      ],
      "execution_count": null,
      "outputs": []
    },
    {
      "cell_type": "markdown",
      "metadata": {},
      "source": [
        "It is perfectly fine to reassign a variable to a value of a different type."
      ]
    },
    {
      "cell_type": "code",
      "metadata": {},
      "source": [
        "x = 1\n",
        "print(x)\n",
        "\n",
        "x = \"foo\"\n",
        "print(x)"
      ],
      "execution_count": null,
      "outputs": []
    },
    {
      "cell_type": "markdown",
      "metadata": {},
      "source": [
        "While the variables do not have types associated with them, the values do have types. Python is strict about them and it doesn't allow operations on incompatible datatypes."
      ]
    },
    {
      "cell_type": "code",
      "metadata": {},
      "source": [
        "1 + \"2\""
      ],
      "execution_count": null,
      "outputs": []
    },
    {
      "cell_type": "markdown",
      "metadata": {},
      "source": [
        "People often assume that a dynamically-typed language is also weekly-typed, which is the case for languages like Perl, PHP and even Javascript. Python is dynamically-typed, but also strongly-typed.\n",
        "\n",
        "## Python uses Indentation\n",
        "\n",
        "Python uses indentation to identify the code that is part of a block."
      ]
    },
    {
      "cell_type": "code",
      "metadata": {},
      "source": [
        "marks = 50\n",
        "\n",
        "if marks > 35:\n",
        "    print(\"pass\")\n",
        "else:\n",
        "    print(\"fail\")"
      ],
      "execution_count": null,
      "outputs": []
    },
    {
      "cell_type": "markdown",
      "metadata": {},
      "source": [
        "Notice that Python doesn't use the usual `{` and `}` characters to\n",
        "identify code blocks. It just uses indentation to identify the block of code that is part of compound statements like `if`, `else`, etc.\n",
        "\n",
        "Here is another example:"
      ]
    },
    {
      "cell_type": "code",
      "metadata": {},
      "source": [
        "numbers = [1, 2, 3, 4]\n",
        "\n",
        "for n in numbers:\n",
        "    print(n)\n",
        "print(\"done\")"
      ],
      "execution_count": null,
      "outputs": []
    },
    {
      "cell_type": "markdown",
      "metadata": {},
      "source": [
        "## Python is Expressive\n",
        "\n",
        "Python has elegant data strucutres and many built-in functions.\n",
        "\n",
        "Using them the right way leads to very elegant code.\n",
        "\n",
        "For example, the following example computes the sum of squares of all even numbers below one million."
      ]
    },
    {
      "cell_type": "code",
      "metadata": {},
      "source": [
        "# sum of squares of all even numbers below one million\n",
        "sum([n*n for n in range(1000000) if n % 2 == 0])"
      ],
      "execution_count": null,
      "outputs": []
    },
    {
      "cell_type": "markdown",
      "metadata": {},
      "source": [
        "Isn't that almost like restating the problem?\n",
        "\n",
        "Not impressed yet? Here is another gem to find the longest word in the english dictionary[^dict]."
      ]
    },
    {
      "cell_type": "code",
      "metadata": {},
      "source": [
        "# what is the lonest word in the dictioanary\n",
        "max(open(\"/usr/share/dict/words\"), key=len)"
      ],
      "execution_count": null,
      "outputs": []
    },
    {
      "cell_type": "markdown",
      "metadata": {},
      "source": [
        "[^dict]: On unix machines, the words in the dictionary are usually available in the file `/usr/share/dict/words`.\n",
        "\n",
        "## Python is Productive\n",
        "\n",
        "Python has an extensive standard library and many third-party libraries.\n",
        "\n",
        "The following example find the most popular repositories on github.\n"
      ]
    },
    {
      "cell_type": "code",
      "metadata": {},
      "source": [
        "import requests\n",
        "\n",
        "url = \"https://api.github.com/search/repositories\"\n",
        "params = {\n",
        "    \"q\": \"language:python\"\n",
        "}\n",
        "\n",
        "data = requests.get(url, params=params).json()\n",
        "\n",
        "for repo in data['items'][:10]:\n",
        "    print(repo['full_name'])"
      ],
      "execution_count": null,
      "outputs": []
    }
  ],
  "metadata": {
    "kernelspec": {
      "name": "python3",
      "language": "python",
      "display_name": "Python 3 (ipykernel)",
      "path": "/home/anand/.rye/py/cpython@3.12.3/share/jupyter/kernels/python3"
    }
  },
  "nbformat": 4,
  "nbformat_minor": 4
}