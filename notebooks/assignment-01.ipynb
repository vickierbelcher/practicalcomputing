{
 "cells": [
  {
   "cell_type": "markdown",
   "id": "6663b411-823f-4bf2-a4a6-cd61a0c64b72",
   "metadata": {},
   "source": [
    "# Assignment 01"
   ]
  },
  {
   "cell_type": "markdown",
   "id": "9f8100c5-de32-4c12-8d54-460154544467",
   "metadata": {},
   "source": [
    "This notebook contains some examples for you try out and some problems to solve."
   ]
  },
  {
   "cell_type": "markdown",
   "id": "31296599-8570-4961-a676-71bdb1f6887c",
   "metadata": {},
   "source": [
    "## Fun with strings"
   ]
  },
  {
   "cell_type": "markdown",
   "id": "7fd5eadd-3f83-434b-8876-86d9b61a7f61",
   "metadata": {},
   "source": [
    "In python strings are enclosed in either single quotes or double quotes. Both are equivalant and python usually displays it with single quotes."
   ]
  },
  {
   "cell_type": "code",
   "execution_count": 5,
   "id": "151a2f18-0a64-402a-80ff-bc9e008e2f4d",
   "metadata": {},
   "outputs": [
    {
     "data": {
      "text/plain": [
       "'hello'"
      ]
     },
     "execution_count": 5,
     "metadata": {},
     "output_type": "execute_result"
    }
   ],
   "source": [
    "\"hello\""
   ]
  },
  {
   "cell_type": "code",
   "execution_count": 6,
   "id": "d4695b1e-b999-4b55-b4be-5568e62cb5ee",
   "metadata": {},
   "outputs": [
    {
     "data": {
      "text/plain": [
       "'hello'"
      ]
     },
     "execution_count": 6,
     "metadata": {},
     "output_type": "execute_result"
    }
   ],
   "source": [
    "'hello'"
   ]
  },
  {
   "cell_type": "markdown",
   "id": "266e5f61-8ded-4210-be80-5490cef695db",
   "metadata": {},
   "source": [
    "### Adding Strings"
   ]
  },
  {
   "cell_type": "markdown",
   "id": "27223f8a-8ff4-4934-b8f7-47aa79394b09",
   "metadata": {},
   "source": [
    "You can add two strings."
   ]
  },
  {
   "cell_type": "code",
   "execution_count": 7,
   "id": "c81469d0-5f56-41d0-aa41-29827d5ac168",
   "metadata": {},
   "outputs": [
    {
     "data": {
      "text/plain": [
       "'helloworld'"
      ]
     },
     "execution_count": 7,
     "metadata": {},
     "output_type": "execute_result"
    }
   ],
   "source": [
    "\"hello\" + \"world\""
   ]
  },
  {
   "cell_type": "code",
   "execution_count": 8,
   "id": "61f90b21-c3b0-4f07-b7b4-45735dd6b4d0",
   "metadata": {},
   "outputs": [
    {
     "data": {
      "text/plain": [
       "'hello--world'"
      ]
     },
     "execution_count": 8,
     "metadata": {},
     "output_type": "execute_result"
    }
   ],
   "source": [
    "\"hello\" + \"--\" + \"world\""
   ]
  },
  {
   "cell_type": "markdown",
   "id": "844abf26-4df5-40e2-abe7-d73f69c02a11",
   "metadata": {},
   "source": [
    "We can also use variables."
   ]
  },
  {
   "cell_type": "code",
   "execution_count": 9,
   "id": "e2081f85-9d87-47c8-91ae-51b82117310a",
   "metadata": {},
   "outputs": [],
   "source": [
    "name = \"Alice\""
   ]
  },
  {
   "cell_type": "code",
   "execution_count": 12,
   "id": "7e5a95f8-dc52-441e-9a98-c4970bd2cd9f",
   "metadata": {},
   "outputs": [],
   "source": [
    "message = \"Hello, \" + name + \"!\""
   ]
  },
  {
   "cell_type": "code",
   "execution_count": 13,
   "id": "cdec4215-2bc6-454e-94a1-26b8b06282a1",
   "metadata": {},
   "outputs": [
    {
     "data": {
      "text/plain": [
       "'Hello, Alice!'"
      ]
     },
     "execution_count": 13,
     "metadata": {},
     "output_type": "execute_result"
    }
   ],
   "source": [
    "message"
   ]
  },
  {
   "cell_type": "code",
   "execution_count": 14,
   "id": "0a0a458b-547c-4ad8-a816-2a66ecc64261",
   "metadata": {},
   "outputs": [
    {
     "name": "stdout",
     "output_type": "stream",
     "text": [
      "Hello, Alice!\n"
     ]
    }
   ],
   "source": [
    "print(message)"
   ]
  },
  {
   "cell_type": "markdown",
   "id": "ee8cd7d4-8de9-4c72-8528-717571d0214c",
   "metadata": {},
   "source": [
    "Jupyterlab always displays the _representation_ of value. In case of strings, that means with quotes. \n",
    "\n",
    "We can use `print` if we just want to display the text."
   ]
  },
  {
   "cell_type": "markdown",
   "id": "e2e2a0c3-7544-4871-8659-94d598f9401d",
   "metadata": {},
   "source": [
    "### Repeating Strings"
   ]
  },
  {
   "cell_type": "markdown",
   "id": "1f9556d0-8d08-42d2-8fb0-9f6bc4d32edc",
   "metadata": {},
   "source": [
    "We could repeat a string multiple times by using `*` operators. "
   ]
  },
  {
   "cell_type": "code",
   "execution_count": 15,
   "id": "0dae01f7-39e3-49bb-be46-d1cb5da050f9",
   "metadata": {},
   "outputs": [
    {
     "data": {
      "text/plain": [
       "'hellohellohellohellohello'"
      ]
     },
     "execution_count": 15,
     "metadata": {},
     "output_type": "execute_result"
    }
   ],
   "source": [
    "\"hello\" * 5"
   ]
  },
  {
   "cell_type": "markdown",
   "id": "7e7b939b-1545-4b4b-8d8f-b5bf2b01f8f3",
   "metadata": {},
   "source": [
    "You may read that as _hello five times_."
   ]
  },
  {
   "cell_type": "markdown",
   "id": "7a84fa48-46b9-4c04-84d3-4f179aec624c",
   "metadata": {},
   "source": [
    "Got it! You deserve 5 stars!!"
   ]
  },
  {
   "cell_type": "code",
   "execution_count": 16,
   "id": "7f7ceeeb-8095-421b-ba9c-ad56d0734187",
   "metadata": {},
   "outputs": [
    {
     "data": {
      "text/plain": [
       "'*****'"
      ]
     },
     "execution_count": 16,
     "metadata": {},
     "output_type": "execute_result"
    }
   ],
   "source": [
    "'*' * 5"
   ]
  },
  {
   "cell_type": "code",
   "execution_count": null,
   "id": "a0ba2aac-f961-4bb3-9ae2-f6c9e77ab6a4",
   "metadata": {},
   "outputs": [],
   "source": []
  },
  {
   "cell_type": "code",
   "execution_count": null,
   "id": "4138a8c2-3612-4a68-8207-c37323cb1ce4",
   "metadata": {},
   "outputs": [],
   "source": []
  },
  {
   "cell_type": "markdown",
   "id": "c0ab3885-ef35-4e36-840b-9dc64b0cc432",
   "metadata": {},
   "source": [
    "### Special Characters"
   ]
  },
  {
   "cell_type": "markdown",
   "id": "eb0b3327-ca32-4977-b948-9b3a2efd0f3a",
   "metadata": {},
   "source": [
    "Sometimes we have to deal with some special characters like newline. Python uses a special syntax for describing them. For example, a new-line character is written as `\\n`. Even thought that looks like two characters, python treatst that as a single character."
   ]
  },
  {
   "cell_type": "code",
   "execution_count": 27,
   "id": "69cc7b8b-16b2-49d6-88d4-619440137efb",
   "metadata": {},
   "outputs": [
    {
     "data": {
      "text/plain": [
       "'a\\nb'"
      ]
     },
     "execution_count": 27,
     "metadata": {},
     "output_type": "execute_result"
    }
   ],
   "source": [
    "'a\\nb'"
   ]
  },
  {
   "cell_type": "code",
   "execution_count": 28,
   "id": "26326445-deaf-4703-a712-87739d0c8d9e",
   "metadata": {},
   "outputs": [
    {
     "name": "stdout",
     "output_type": "stream",
     "text": [
      "a\n",
      "b\n"
     ]
    }
   ],
   "source": [
    "print('a\\nb')"
   ]
  },
  {
   "cell_type": "markdown",
   "id": "da07a969-3f3a-4476-ab26-aab34cf79f77",
   "metadata": {},
   "source": [
    "The `\\n` is a special character when printed moved the subsequent text to the next line."
   ]
  },
  {
   "cell_type": "code",
   "execution_count": 29,
   "id": "550f2a12-89ac-4656-abc0-5420c28f15ab",
   "metadata": {},
   "outputs": [
    {
     "name": "stdout",
     "output_type": "stream",
     "text": [
      "*\n",
      "**\n",
      "***\n"
     ]
    }
   ],
   "source": [
    "print(\"*\\n**\\n***\")"
   ]
  },
  {
   "cell_type": "code",
   "execution_count": null,
   "id": "b0771c9e-6958-42b6-a270-870e12424b6d",
   "metadata": {},
   "outputs": [],
   "source": []
  },
  {
   "cell_type": "code",
   "execution_count": 30,
   "id": "039c569e-e252-4005-adb8-0f6bae27a0b1",
   "metadata": {},
   "outputs": [
    {
     "name": "stdout",
     "output_type": "stream",
     "text": [
      "Lay Zy\n",
      "Eva Lu Ator\n"
     ]
    }
   ],
   "source": [
    "name1 = \"Lay Zy\"\n",
    "name2 = \"Eva Lu Ator\"\n",
    "\n",
    "print(name1 + \"\\n\" + name2)"
   ]
  },
  {
   "cell_type": "code",
   "execution_count": null,
   "id": "aa13578e-767f-48f2-bcf0-7e2e74918c31",
   "metadata": {},
   "outputs": [],
   "source": []
  },
  {
   "cell_type": "code",
   "execution_count": null,
   "id": "70c058ea-ea94-4a5e-91dc-20ec74f5a818",
   "metadata": {},
   "outputs": [],
   "source": []
  },
  {
   "cell_type": "markdown",
   "id": "aa255e58-ed53-4501-8a70-e435c2eae62f",
   "metadata": {},
   "source": [
    "**Problem 1:** Can you display 5 starts without the quotes?"
   ]
  },
  {
   "cell_type": "code",
   "execution_count": null,
   "id": "386878eb-ce88-4bb3-a14e-d60c8c0d6fea",
   "metadata": {},
   "outputs": [],
   "source": []
  },
  {
   "cell_type": "code",
   "execution_count": null,
   "id": "a2ff15e1-73a1-4f35-ad52-da287aedcd97",
   "metadata": {},
   "outputs": [],
   "source": []
  },
  {
   "cell_type": "code",
   "execution_count": null,
   "id": "115f2708-c68e-40b0-b0f3-41e9c810f6b4",
   "metadata": {},
   "outputs": [],
   "source": []
  },
  {
   "cell_type": "markdown",
   "id": "5b803993-de34-4529-a87a-69cfbf0854b6",
   "metadata": {},
   "source": [
    "**Problem 2:** _Le Zy_, a young programmer, is trying to print a line as shows below. It is made of hyphen (`-`) characters and there are exactly 40 of them. She finds it too confusing to count the number of characters. Can you help her generate that with some Python code?\n",
    "\n",
    "```\n",
    "----------------------------------------\n",
    "```"
   ]
  },
  {
   "cell_type": "code",
   "execution_count": null,
   "id": "c8d172af-e219-4da4-8997-e1c16a0a8b16",
   "metadata": {},
   "outputs": [],
   "source": []
  },
  {
   "cell_type": "code",
   "execution_count": null,
   "id": "fb140030-56b9-4c1e-a83c-5fa6e62fcaa9",
   "metadata": {},
   "outputs": [],
   "source": []
  },
  {
   "cell_type": "code",
   "execution_count": null,
   "id": "03b3c4ca-b5a1-4f7f-8e3b-d38bde4922ce",
   "metadata": {},
   "outputs": [],
   "source": []
  },
  {
   "cell_type": "markdown",
   "id": "8c9c1cba-7891-4a3c-940e-dc79c763f8aa",
   "metadata": {},
   "source": [
    "**Problem 3:** Can you try to generate the following pattern using python code? It has exactly 20 hyphen (`-`) characters.\n",
    "\n",
    "```\n",
    "@-@-@-@-@-@-@-@-@-@-@-@-@-@-@-@-@-@-@-@-@\n",
    "```"
   ]
  },
  {
   "cell_type": "code",
   "execution_count": null,
   "id": "28d7ab16-e0a2-4899-a8ed-17bd56f86f96",
   "metadata": {},
   "outputs": [],
   "source": []
  },
  {
   "cell_type": "code",
   "execution_count": null,
   "id": "a30382fa-1640-40bd-b0e9-5c49203d28d1",
   "metadata": {},
   "outputs": [],
   "source": []
  },
  {
   "cell_type": "code",
   "execution_count": null,
   "id": "eaed8f89-fda6-463e-be2f-014e7837f58e",
   "metadata": {},
   "outputs": [],
   "source": []
  },
  {
   "cell_type": "code",
   "execution_count": null,
   "id": "361f48fd-6a49-4033-ad1d-0a111a938ed0",
   "metadata": {},
   "outputs": [],
   "source": []
  },
  {
   "cell_type": "markdown",
   "id": "9d7656f6-d110-463f-9616-5afec7e436a0",
   "metadata": {},
   "source": [
    "**Problem 4:** `Lay Zy` has been generating the lines like you did in the above problem. She is not particularly happy doing the same thing again and again. Can you help her with a generalized solution to generate the pattern given a value of `n` indicating the number of hyphens in the pattern?  \n",
    "\n",
    "She wants to be able to change the value of `n` to generate a new pattern with a different length."
   ]
  },
  {
   "cell_type": "code",
   "execution_count": 22,
   "id": "7f0b8864-24da-4d42-a68c-fd5aa0b13a51",
   "metadata": {},
   "outputs": [],
   "source": [
    "n = 25"
   ]
  },
  {
   "cell_type": "code",
   "execution_count": 25,
   "id": "5da6cadd-fe22-45b1-9a1a-7621b825b971",
   "metadata": {},
   "outputs": [],
   "source": [
    "# please write your code below to generate pattern with n hyphens\n",
    "\n",
    "\n",
    "\n",
    "\n"
   ]
  },
  {
   "cell_type": "code",
   "execution_count": null,
   "id": "b9208e55-2dca-45cc-b481-6d4db79caafb",
   "metadata": {},
   "outputs": [],
   "source": []
  },
  {
   "cell_type": "code",
   "execution_count": null,
   "id": "8a8ad9a9-4b4b-445f-bc13-e5a8c033fe9c",
   "metadata": {},
   "outputs": [],
   "source": []
  },
  {
   "cell_type": "markdown",
   "id": "52e6a339-27ba-4ba1-94f4-24769bff5198",
   "metadata": {},
   "source": [
    "**Problem 5:** _Lay Zy_ is very exicted about the above solution and she showed it to her friend _Eva Lu Ator_. _Eva_ chanllenged her to extend it further \n",
    "by repeating the same pattern in multiple lines. \n",
    "\n",
    "```\n",
    "@-@-@-@-@-@-@-@-@-@-@-@-@-@-@-@-@-@-@-@-@\n",
    "@-@-@-@-@-@-@-@-@-@-@-@-@-@-@-@-@-@-@-@-@\n",
    "@-@-@-@-@-@-@-@-@-@-@-@-@-@-@-@-@-@-@-@-@\n",
    "@-@-@-@-@-@-@-@-@-@-@-@-@-@-@-@-@-@-@-@-@\n",
    "@-@-@-@-@-@-@-@-@-@-@-@-@-@-@-@-@-@-@-@-@\n",
    "```\n",
    "\n",
    "This has the pattern repeated in 5 lines with each line having 20 hyphens. _Eva_ wanted to specify these two numbers as `m` and `n`. Can you help _Lay_ solve this?"
   ]
  },
  {
   "cell_type": "code",
   "execution_count": 31,
   "id": "343c4640-614f-46d7-b98a-309d0ac719c4",
   "metadata": {},
   "outputs": [],
   "source": [
    "# pattern repeated in 5 lines with each pattern having 20 hyphens\n",
    "m = 5\n",
    "n = 20"
   ]
  },
  {
   "cell_type": "code",
   "execution_count": null,
   "id": "e8b42779-6c21-4cb3-ad54-05add0694d23",
   "metadata": {},
   "outputs": [],
   "source": [
    "# your code below this line\n",
    "\n",
    "\n",
    "\n",
    "\n"
   ]
  },
  {
   "cell_type": "code",
   "execution_count": null,
   "id": "74357e79-692b-408e-8ae9-fcbf0c79223a",
   "metadata": {},
   "outputs": [],
   "source": []
  },
  {
   "cell_type": "code",
   "execution_count": null,
   "id": "d1d8df13-59d0-48b7-be77-da86b5ec2248",
   "metadata": {},
   "outputs": [],
   "source": []
  },
  {
   "cell_type": "code",
   "execution_count": null,
   "id": "442d1f71-31b2-40d8-8f42-13cb1e7acacf",
   "metadata": {},
   "outputs": [],
   "source": []
  },
  {
   "cell_type": "code",
   "execution_count": null,
   "id": "1c4a4dc6-713c-4708-8ccf-79ee2ce99cf5",
   "metadata": {},
   "outputs": [],
   "source": []
  },
  {
   "cell_type": "markdown",
   "id": "fb853fef-4e0b-40f4-b804-fdcdb5538d4d",
   "metadata": {},
   "source": [
    "## Counting Up and Down"
   ]
  },
  {
   "cell_type": "markdown",
   "id": "50ea6589-d2f3-40ce-a3a1-9967784d2374",
   "metadata": {},
   "source": [
    "Python has a `range` function that is used to loop over a sequence of numbers."
   ]
  },
  {
   "cell_type": "markdown",
   "id": "d370a93c-d008-4c45-9e00-50e599426ead",
   "metadata": {},
   "source": [
    "### `range(n)` - numbers from `0` to `n-1`"
   ]
  },
  {
   "cell_type": "markdown",
   "id": "7153186d-18fb-48f3-9efc-5f153552b5e2",
   "metadata": {},
   "source": [
    "The following example prints numbers from 0 to 4."
   ]
  },
  {
   "cell_type": "code",
   "execution_count": 1,
   "id": "d71d023f-4fe2-4407-b650-af59dfd5d37f",
   "metadata": {},
   "outputs": [
    {
     "name": "stdout",
     "output_type": "stream",
     "text": [
      "0\n",
      "1\n",
      "2\n",
      "3\n",
      "4\n"
     ]
    }
   ],
   "source": [
    "for i in range(5):\n",
    "    print(i)"
   ]
  },
  {
   "cell_type": "markdown",
   "id": "71106dd1-9d09-4cda-a700-36d4f7227403",
   "metadata": {},
   "source": [
    "Please note that `range(n)` contains numbers from `0` to `n-1`. A total of `n` numbers, but the number `n` is not included.\n",
    "\n",
    "If you try with `range(3)`, you will get numbers `0`, `1` and `2`."
   ]
  },
  {
   "cell_type": "markdown",
   "id": "1ca56b1b-2cd6-406e-a740-70fd0e7bb55a",
   "metadata": {},
   "source": [
    "Please remember that we are using a `for` loop here and the body of the for loop must be indented.\n",
    "\n",
    "For example, the following is a WRONG way to write it. \n",
    "\n",
    "```\n",
    "for i in range(5):\n",
    "print(i)\n",
    "```\n",
    "\n",
    "Python would complain if you write it like that. You need to give spaces before each line that is part of the `for` loop. Typically 4 spaces are used. However, you can also press the `Tab` key and most editors replace that with 4 spaces."
   ]
  },
  {
   "cell_type": "code",
   "execution_count": null,
   "id": "fc5e5769-931a-4a1a-abd3-055204365fdf",
   "metadata": {},
   "outputs": [],
   "source": []
  },
  {
   "cell_type": "code",
   "execution_count": null,
   "id": "b279764c-6847-4d8b-96d9-9b03c38f0175",
   "metadata": {},
   "outputs": [],
   "source": []
  },
  {
   "cell_type": "code",
   "execution_count": null,
   "id": "5c8ffa5b-3ea7-48df-b31b-696afb7ba29e",
   "metadata": {},
   "outputs": [],
   "source": []
  },
  {
   "cell_type": "code",
   "execution_count": null,
   "id": "bf504639-65ba-4289-96f7-ace18fb9dd30",
   "metadata": {},
   "outputs": [],
   "source": []
  },
  {
   "cell_type": "markdown",
   "id": "ebf1ce82-d349-4697-87db-488f0bd08975",
   "metadata": {},
   "source": [
    "### `range(a, b)` - numbers from `a` to `b-1`"
   ]
  },
  {
   "cell_type": "markdown",
   "id": "6ba1b00e-acaf-49c3-986e-d854c27b3872",
   "metadata": {},
   "source": [
    "The `range` function can be called with two arguments - `begin` and `end`. \n",
    "\n",
    "`range(a, b)` gives numbers `a`, `a+1`, ..., `b-1`. Again the end number `b` is not inlcuded."
   ]
  },
  {
   "cell_type": "code",
   "execution_count": 2,
   "id": "9db404ab-e081-4ada-a662-74d154642374",
   "metadata": {},
   "outputs": [
    {
     "name": "stdout",
     "output_type": "stream",
     "text": [
      "2\n",
      "3\n",
      "4\n"
     ]
    }
   ],
   "source": [
    "for i in range(2, 5):\n",
    "    print(i)"
   ]
  },
  {
   "cell_type": "code",
   "execution_count": null,
   "id": "7b4287f9-ef83-4f74-9934-0ca0f11ae2b4",
   "metadata": {},
   "outputs": [],
   "source": []
  },
  {
   "cell_type": "code",
   "execution_count": null,
   "id": "203383ef-5345-4206-aa46-e7f807a4afa0",
   "metadata": {},
   "outputs": [],
   "source": []
  },
  {
   "cell_type": "markdown",
   "id": "3ec69808-ca71-4dab-be92-34fdbc726754",
   "metadata": {},
   "source": [
    "### range(a, b, c) - numbers from `a` until `b-1` in steps of `c` "
   ]
  },
  {
   "cell_type": "markdown",
   "id": "628f011a-9e03-4930-886b-af98a92fbc6e",
   "metadata": {},
   "source": [
    "All even numbers below 10."
   ]
  },
  {
   "cell_type": "code",
   "execution_count": 3,
   "id": "63d4cdf4-8302-460d-9036-184002e7ea2f",
   "metadata": {},
   "outputs": [
    {
     "name": "stdout",
     "output_type": "stream",
     "text": [
      "0\n",
      "2\n",
      "4\n",
      "6\n",
      "8\n"
     ]
    }
   ],
   "source": [
    "for i in range(0, 10, 2):\n",
    "    print(i)"
   ]
  },
  {
   "cell_type": "markdown",
   "id": "9fc44390-b755-456c-916b-3f936bc21e41",
   "metadata": {},
   "source": [
    "Numbers from 2 to 20 in steps of 3."
   ]
  },
  {
   "cell_type": "code",
   "execution_count": 4,
   "id": "70da82a0-850e-4c4a-a6d2-67d20c445258",
   "metadata": {},
   "outputs": [
    {
     "name": "stdout",
     "output_type": "stream",
     "text": [
      "2\n",
      "5\n",
      "8\n",
      "11\n",
      "14\n",
      "17\n"
     ]
    }
   ],
   "source": [
    "for i in range(2, 20, 3):\n",
    "    print(i)"
   ]
  },
  {
   "cell_type": "code",
   "execution_count": null,
   "id": "60fd2401-5ae4-4e54-b95d-849b57dd9e79",
   "metadata": {},
   "outputs": [],
   "source": []
  },
  {
   "cell_type": "markdown",
   "id": "f2815cb3-a133-4b69-a6f8-e74f53771f59",
   "metadata": {},
   "source": [
    "If we want to count down, we could do by using `-1` for the third argument."
   ]
  },
  {
   "cell_type": "code",
   "execution_count": 32,
   "id": "2bb9ca18-efb1-4b67-833e-6f70d0a7c93a",
   "metadata": {},
   "outputs": [
    {
     "name": "stdout",
     "output_type": "stream",
     "text": [
      "5\n",
      "4\n",
      "3\n",
      "2\n",
      "1\n"
     ]
    }
   ],
   "source": [
    "for i in range(5, 0, -1):\n",
    "    print(i)"
   ]
  },
  {
   "cell_type": "markdown",
   "id": "6f27b7d0-3f76-4ab5-af0b-b37da0c79aa0",
   "metadata": {},
   "source": [
    "`range(5, 0, -1)` starts from `5` goes up to 0 (the `0` itself is not included) and changes the number by `-` in each step."
   ]
  },
  {
   "cell_type": "code",
   "execution_count": null,
   "id": "914be3d1-3c00-4050-808a-1d5fcc3fb204",
   "metadata": {},
   "outputs": [],
   "source": []
  },
  {
   "cell_type": "code",
   "execution_count": null,
   "id": "aa0644d7-dcdc-4409-8c1c-1aa5c8f326e6",
   "metadata": {},
   "outputs": [],
   "source": []
  },
  {
   "cell_type": "code",
   "execution_count": null,
   "id": "3ffcce13-2602-4afb-a075-7f0d9a0123c6",
   "metadata": {},
   "outputs": [],
   "source": []
  },
  {
   "cell_type": "markdown",
   "id": "7a05579b-c126-4f9d-9424-149ae91c4262",
   "metadata": {},
   "source": [
    "**Problem 6:** Write a program to all multiples of 5 less than 100."
   ]
  },
  {
   "cell_type": "code",
   "execution_count": null,
   "id": "64110de2-ca1a-4d76-8b8c-0cab5b27ffea",
   "metadata": {},
   "outputs": [],
   "source": []
  },
  {
   "cell_type": "code",
   "execution_count": null,
   "id": "9e31972a-d876-4736-ba9d-66bcb1feaf73",
   "metadata": {},
   "outputs": [],
   "source": []
  },
  {
   "cell_type": "code",
   "execution_count": null,
   "id": "46920273-d3ab-4616-903d-c50c8c7b8777",
   "metadata": {},
   "outputs": [],
   "source": []
  },
  {
   "cell_type": "code",
   "execution_count": null,
   "id": "9ec9cba7-de7d-43b4-9ae5-9eface1ead98",
   "metadata": {},
   "outputs": [],
   "source": []
  },
  {
   "cell_type": "code",
   "execution_count": null,
   "id": "9b58d360-c52e-4115-a145-ddb0c3e0f8b0",
   "metadata": {},
   "outputs": [],
   "source": []
  },
  {
   "cell_type": "markdown",
   "id": "f752ba3a-d92f-4dce-9ecf-3d8cb45328f1",
   "metadata": {},
   "source": [
    "**Problem 7:** Write a program to print the following pattern.\n",
    "\n",
    "\n",
    "```\n",
    "*\n",
    "**\n",
    "***\n",
    "****\n",
    "*****\n",
    "```"
   ]
  },
  {
   "cell_type": "code",
   "execution_count": null,
   "id": "6343fd76-57b8-459a-af9c-5cce5b49f624",
   "metadata": {},
   "outputs": [],
   "source": []
  },
  {
   "cell_type": "code",
   "execution_count": null,
   "id": "e7ecef47-3175-4740-bb44-00b8a059ea0b",
   "metadata": {},
   "outputs": [],
   "source": []
  },
  {
   "cell_type": "code",
   "execution_count": null,
   "id": "a8c818b5-4427-41d7-9de3-a01646eb6ca6",
   "metadata": {},
   "outputs": [],
   "source": []
  },
  {
   "cell_type": "code",
   "execution_count": null,
   "id": "d12aa0bf-1b10-45c5-95c9-827156a08acd",
   "metadata": {},
   "outputs": [],
   "source": []
  },
  {
   "cell_type": "code",
   "execution_count": null,
   "id": "98e4b92b-4e07-4721-a2db-531185b4c29f",
   "metadata": {},
   "outputs": [],
   "source": []
  },
  {
   "cell_type": "markdown",
   "id": "5fb0cd58-cbea-465f-be20-3487ee1c52d9",
   "metadata": {},
   "source": [
    "**Problem 8:** Write a program to print the following pattern.\n",
    "\n",
    "```\n",
    "*****\n",
    "****\n",
    "***\n",
    "**\n",
    "*\n",
    "```"
   ]
  },
  {
   "cell_type": "code",
   "execution_count": null,
   "id": "db51f1c4-a34b-4e4e-b74d-d5446a00233d",
   "metadata": {},
   "outputs": [],
   "source": []
  },
  {
   "cell_type": "code",
   "execution_count": null,
   "id": "15ccf9d7-a89c-4d1f-961c-fc7630758f8f",
   "metadata": {},
   "outputs": [],
   "source": []
  },
  {
   "cell_type": "code",
   "execution_count": null,
   "id": "c85ad52c-0dab-4e4c-b215-b5555df715a1",
   "metadata": {},
   "outputs": [],
   "source": []
  },
  {
   "cell_type": "code",
   "execution_count": null,
   "id": "91ea433d-c094-4277-9960-1d3802bf2b22",
   "metadata": {},
   "outputs": [],
   "source": []
  },
  {
   "cell_type": "markdown",
   "id": "d9de84b6-2541-4bae-8977-97ae6f46b059",
   "metadata": {},
   "source": [
    "**Problem 9:** Write a program to print the following pattern.\n",
    "\n",
    "```\n",
    "@\n",
    "@-@\n",
    "@-@-@\n",
    "@-@-@-@\n",
    "@-@-@-@-@\n",
    "@-@-@-@-@-@\n",
    "```"
   ]
  },
  {
   "cell_type": "code",
   "execution_count": null,
   "id": "5a50df7c-efb7-49d3-a8ba-0362d135d03c",
   "metadata": {},
   "outputs": [],
   "source": []
  },
  {
   "cell_type": "code",
   "execution_count": null,
   "id": "1452951f-c102-4d31-96a9-9117a8276e69",
   "metadata": {},
   "outputs": [],
   "source": []
  },
  {
   "cell_type": "code",
   "execution_count": null,
   "id": "a9cbbb85-1982-43d8-b340-d86a3c7cc323",
   "metadata": {},
   "outputs": [],
   "source": []
  },
  {
   "cell_type": "code",
   "execution_count": null,
   "id": "97151821-f6e6-4103-9dbd-1885bad99c8a",
   "metadata": {},
   "outputs": [],
   "source": []
  },
  {
   "cell_type": "markdown",
   "id": "da8b35eb-5859-49a0-b8c5-5079e1bae989",
   "metadata": {},
   "source": [
    "**Problem 10:** Write a program that uses the value of variable `n` to starts from `1` to `n` and back to `1`.\n",
    "\n",
    "If `n` is 5, the output would be the following:\n",
    "\n",
    "```\n",
    "*\n",
    "**\n",
    "***\n",
    "****\n",
    "*****\n",
    "****\n",
    "***\n",
    "**\n",
    "*\n",
    "```\n",
    "\n",
    "If you change the value of `n`, the number of lines would change accordingly."
   ]
  },
  {
   "cell_type": "code",
   "execution_count": 34,
   "id": "25155c8a-7892-4d67-87ec-f18034496fc2",
   "metadata": {},
   "outputs": [],
   "source": [
    "n = 5"
   ]
  },
  {
   "cell_type": "code",
   "execution_count": 36,
   "id": "9f452dbf-cba0-4b0a-913a-68236465a694",
   "metadata": {},
   "outputs": [],
   "source": [
    "# your code below this line\n",
    "\n",
    "\n",
    "\n"
   ]
  },
  {
   "cell_type": "code",
   "execution_count": null,
   "id": "ec5b659b-2f49-4eb0-aab9-5f875766940e",
   "metadata": {},
   "outputs": [],
   "source": []
  },
  {
   "cell_type": "code",
   "execution_count": null,
   "id": "7d8dffdf-040b-4068-8ab4-4f66b4c487a9",
   "metadata": {},
   "outputs": [],
   "source": []
  },
  {
   "cell_type": "code",
   "execution_count": null,
   "id": "fdb39f4c-7591-4fc3-916d-e8cf57544bdb",
   "metadata": {},
   "outputs": [],
   "source": []
  },
  {
   "cell_type": "markdown",
   "id": "19f15f4f-30b6-4c93-bfb8-28cb7465f456",
   "metadata": {},
   "source": [
    "**Problem 11:** _Lay Zy_ is very impressed with the her solution to the above problem. When she showed it to her friend _Eva_, she challenged her to make this pattern.\n",
    "\n",
    "For `n=5`:\n",
    "\n",
    "```\n",
    "@\n",
    "@-@\n",
    "@-@-@\n",
    "@-@-@-@\n",
    "@-@-@-@-@\n",
    "@-@-@-@-@-@\n",
    "@-@-@-@-@\n",
    "@-@-@-@\n",
    "@-@-@\n",
    "@-@\n",
    "@\n",
    "```\n",
    "\n",
    "Again, if you change the value of `n`, the number of lines would change accodingly."
   ]
  },
  {
   "cell_type": "code",
   "execution_count": null,
   "id": "41e342b5-1212-409b-99ba-cec9aaae7c22",
   "metadata": {},
   "outputs": [],
   "source": [
    "n = 5"
   ]
  },
  {
   "cell_type": "code",
   "execution_count": 35,
   "id": "f5671484-b3c4-4b9f-abd7-9a7fb9e7ba37",
   "metadata": {},
   "outputs": [],
   "source": [
    "# your code below this line\n",
    "\n",
    "\n",
    "\n",
    "\n",
    "\n"
   ]
  },
  {
   "cell_type": "code",
   "execution_count": null,
   "id": "f348a7f1-3dac-4754-a45e-69c779737689",
   "metadata": {},
   "outputs": [],
   "source": []
  },
  {
   "cell_type": "code",
   "execution_count": null,
   "id": "4a2e45b2-6a66-49d0-987c-a31b0142770a",
   "metadata": {},
   "outputs": [],
   "source": []
  },
  {
   "cell_type": "code",
   "execution_count": null,
   "id": "0ba1bfac-515d-46b1-a921-30c6c56b8639",
   "metadata": {},
   "outputs": [],
   "source": []
  }
 ],
 "metadata": {
  "kernelspec": {
   "display_name": "Python 3 (ipykernel)",
   "language": "python",
   "name": "python3"
  },
  "language_info": {
   "codemirror_mode": {
    "name": "ipython",
    "version": 3
   },
   "file_extension": ".py",
   "mimetype": "text/x-python",
   "name": "python",
   "nbconvert_exporter": "python",
   "pygments_lexer": "ipython3",
   "version": "3.10.6"
  }
 },
 "nbformat": 4,
 "nbformat_minor": 5
}
