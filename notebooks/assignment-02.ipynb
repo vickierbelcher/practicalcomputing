{
 "cells": [
  {
   "cell_type": "markdown",
   "id": "b03b1f98-fea8-4e2f-8f2c-26c7252d750f",
   "metadata": {},
   "source": [
    "# Assignment 02"
   ]
  },
  {
   "attachments": {},
   "cell_type": "markdown",
   "id": "16bf256a",
   "metadata": {},
   "source": [
    "Some of the problems in this assignment require additional files to test them. The sample files are created using `%%file` right after the problem desciption. \n",
    "\n",
    "Please clik on the `Run All Cells` menu item from the `Run` menu to execute all the cells and create the required files before you start solving the problems. Please note that you just need to do that only once."
   ]
  },
  {
   "cell_type": "markdown",
   "id": "51b4d2b2-6d73-4a5f-85a6-e4a1b8a2a3e4",
   "metadata": {},
   "source": [
    "## Problem 1: Digit Count"
   ]
  },
  {
   "attachments": {},
   "cell_type": "markdown",
   "id": "5bd354c1",
   "metadata": {},
   "source": [
    "Write a function `digit_count` that takes a number and a digit as argument and returns the number of times the digit is present in that number.\n",
    "\n",
    "```python\n",
    ">>> digit_count(1231, 1)\n",
    "2\n",
    ">>> digit_count(1231, 3)\n",
    "1\n",
    ">>> digit_count(1231, 9)\n",
    "0\n",
    "```\n",
    "\n",
    "**Hint:**\n",
    "\n",
    "```python\n",
    ">>> \"mathematics\".count(\"mat\")\n",
    "2\n",
    "```"
   ]
  },
  {
   "cell_type": "code",
   "execution_count": null,
   "id": "930632aa",
   "metadata": {},
   "outputs": [],
   "source": []
  },
  {
   "cell_type": "code",
   "execution_count": null,
   "id": "5ae4a893",
   "metadata": {},
   "outputs": [],
   "source": []
  },
  {
   "cell_type": "code",
   "execution_count": null,
   "id": "0788982f",
   "metadata": {},
   "outputs": [],
   "source": []
  },
  {
   "cell_type": "code",
   "execution_count": null,
   "id": "1b4bb6c3",
   "metadata": {},
   "outputs": [],
   "source": []
  },
  {
   "cell_type": "markdown",
   "id": "7b4e0faf",
   "metadata": {},
   "source": [
    "## Problem 2: Despace\n",
    "\n",
    "Write a function `despace` to remove all the spaces from a string.\n",
    "\n",
    "```python\n",
    ">>> despace(\"hello world\")\n",
    "'helloworld'\n",
    ">>> despace(\"a b c d e\")\n",
    "'abcde'\n",
    ">>> despace(\"pi seconds is a nano century\")\n",
    "'pisecondsisananocentury'\n",
    "```"
   ]
  },
  {
   "cell_type": "code",
   "execution_count": 36,
   "id": "3ca96d8b",
   "metadata": {},
   "outputs": [],
   "source": [
    "sentence = \"tests are so so so so fun\"\n",
    "def despace(sentence):\n",
    "    y = print(\"\".join(sentence.split()))\n",
    "    return y"
   ]
  },
  {
   "cell_type": "code",
   "execution_count": 37,
   "id": "d924248a",
   "metadata": {},
   "outputs": [
    {
     "name": "stdout",
     "output_type": "stream",
     "text": [
      "testsaresosososofun\n"
     ]
    }
   ],
   "source": [
    "despace(sentence)"
   ]
  },
  {
   "cell_type": "code",
   "execution_count": null,
   "id": "4b4e4043",
   "metadata": {},
   "outputs": [],
   "source": []
  },
  {
   "attachments": {},
   "cell_type": "markdown",
   "id": "fa3a6d98",
   "metadata": {},
   "source": [
    "## Problem 3: Reverse Words"
   ]
  },
  {
   "attachments": {},
   "cell_type": "markdown",
   "id": "3f39a626",
   "metadata": {},
   "source": [
    "Write a function `reverse_words` that takes a sentence and returns a new sentence with all the words in the reserse order.\n",
    "\n",
    "```\n",
    ">>> reverse_words(\"joy of programming\")\n",
    "'programming of joy'\n",
    "\n",
    ">>> reverse_words(\"less is more\")\n",
    "'more is less'\n",
    "\n",
    ">>> reverse_words(\"road goes ever on and on\")\n",
    "'on and on ever goes road'\n",
    "```\n",
    "\n",
    "Please note that only the order of the words in the sentence is reversed, not the letters in each word."
   ]
  },
  {
   "cell_type": "code",
   "execution_count": 67,
   "id": "a1476745",
   "metadata": {},
   "outputs": [],
   "source": [
    "phrase = \"this is a fun problem\"\n",
    "def reverse_words(phrase):\n",
    "    y = (phrase.split())\n",
    "    return \" \".join(y[::-1])"
   ]
  },
  {
   "cell_type": "code",
   "execution_count": 68,
   "id": "37a9d321-9413-4b24-89b2-923bd9bdacd7",
   "metadata": {},
   "outputs": [
    {
     "data": {
      "text/plain": [
       "'problem fun a is this'"
      ]
     },
     "execution_count": 68,
     "metadata": {},
     "output_type": "execute_result"
    }
   ],
   "source": [
    "reverse_words(phrase)"
   ]
  },
  {
   "cell_type": "code",
   "execution_count": null,
   "id": "a06024a1",
   "metadata": {},
   "outputs": [],
   "source": []
  },
  {
   "cell_type": "markdown",
   "id": "32667917",
   "metadata": {},
   "source": [
    "## Problem 4: Five Words"
   ]
  },
  {
   "attachments": {},
   "cell_type": "markdown",
   "id": "1252ac2c",
   "metadata": {},
   "source": [
    "Write a function `five_words` that takes a sentence as an argument and returns the part of the sentence with just the first five words.\n",
    "\n",
    "```\n",
    ">>> five_words(\"one two three four five six seven\")\n",
    "'one two three four five'\n",
    "\n",
    ">>> five_words(\"pi seconds is a nano century\")\n",
    "'pi seconds is a nano'\n",
    "\n",
    ">>> five_words(\"Anything that can go wrong, will go wrong.\")\n",
    "'Anythong that can go wrong,'\n",
    "\n",
    ">>> five_words(\"This is fun!\")\n",
    "'This is fun!'\n",
    "```\n",
    "\n",
    "Please note that if the sentence has less than 5 words, than it returns the same sentence."
   ]
  },
  {
   "cell_type": "code",
   "execution_count": 78,
   "id": "ef8afa72",
   "metadata": {},
   "outputs": [],
   "source": [
    "sentence = \"This sentence contains more than five words\"\n",
    "def five_words(sentence):\n",
    "    y = sentence.split()\n",
    "    return \" \".join(y[0:5])"
   ]
  },
  {
   "cell_type": "code",
   "execution_count": 79,
   "id": "773af334",
   "metadata": {},
   "outputs": [
    {
     "data": {
      "text/plain": [
       "'This sentence contains more than'"
      ]
     },
     "execution_count": 79,
     "metadata": {},
     "output_type": "execute_result"
    }
   ],
   "source": [
    "five_words(sentence)"
   ]
  },
  {
   "cell_type": "code",
   "execution_count": null,
   "id": "267eb1d4",
   "metadata": {},
   "outputs": [],
   "source": []
  },
  {
   "cell_type": "code",
   "execution_count": null,
   "id": "8f7af87a",
   "metadata": {},
   "outputs": [],
   "source": []
  },
  {
   "cell_type": "code",
   "execution_count": null,
   "id": "1eafc531",
   "metadata": {},
   "outputs": [],
   "source": []
  },
  {
   "attachments": {},
   "cell_type": "markdown",
   "id": "2d829ab6",
   "metadata": {},
   "source": [
    "## Problem 5: Get Extension"
   ]
  },
  {
   "attachments": {},
   "cell_type": "markdown",
   "id": "c3836718",
   "metadata": {},
   "source": [
    "Write a function `getext` that takes a filename as argument and returns the extension of the file. The suffix after the last `.` character in a filename is considered as the extension. For simplicity, assume that given filename will always have an extension.\n",
    "\n",
    "```\n",
    ">>> getext(\"hello.py\")\n",
    "'py'\n",
    ">>> getext(\"code.zip\")\n",
    "'zip'\n",
    ">>> getext(\"code.tar.gz\")\n",
    "'gz'"
   ]
  },
  {
   "cell_type": "code",
   "execution_count": 117,
   "id": "9e63bb55",
   "metadata": {},
   "outputs": [],
   "source": [
    "filename = \"code.tar.gz.file\"\n",
    "def getext(filename):\n",
    "    y = filename.split(\".\")\n",
    "    return y[-1]\n"
   ]
  },
  {
   "cell_type": "code",
   "execution_count": 118,
   "id": "e03b0756",
   "metadata": {},
   "outputs": [
    {
     "data": {
      "text/plain": [
       "'file'"
      ]
     },
     "execution_count": 118,
     "metadata": {},
     "output_type": "execute_result"
    }
   ],
   "source": [
    "getext(filename)"
   ]
  },
  {
   "cell_type": "code",
   "execution_count": null,
   "id": "d5b667e0",
   "metadata": {},
   "outputs": [],
   "source": []
  },
  {
   "attachments": {},
   "cell_type": "markdown",
   "id": "382d67c7",
   "metadata": {},
   "source": [
    "## Problem 6: Print Upper"
   ]
  },
  {
   "attachments": {},
   "cell_type": "markdown",
   "id": "5c26bf0d",
   "metadata": {},
   "source": [
    "Write a function `print_upper` that takes a filename as argument and prints all the contents of the file in uppercase.\n",
    "\n",
    "```\n",
    ">>> print_upper(\"five.txt\")\n",
    "ONE\n",
    "TWO\n",
    "THREE\n",
    "FOUR\n",
    "FIVE\n",
    "```"
   ]
  },
  {
   "cell_type": "code",
   "execution_count": 119,
   "id": "ae3761e8",
   "metadata": {},
   "outputs": [
    {
     "name": "stdout",
     "output_type": "stream",
     "text": [
      "Overwriting five.txt\n"
     ]
    }
   ],
   "source": [
    "%%file five.txt\n",
    "one\n",
    "two\n",
    "three\n",
    "four\n",
    "five"
   ]
  },
  {
   "cell_type": "code",
   "execution_count": 132,
   "id": "95a38aef",
   "metadata": {},
   "outputs": [],
   "source": [
    "file = \"five.txt\"\n",
    "def print_upper(file):\n",
    "    y = open(file).read()\n",
    "    return print(y.upper())"
   ]
  },
  {
   "cell_type": "code",
   "execution_count": 133,
   "id": "739ea19b",
   "metadata": {},
   "outputs": [
    {
     "name": "stdout",
     "output_type": "stream",
     "text": [
      "ONE\n",
      "TWO\n",
      "THREE\n",
      "FOUR\n",
      "FIVE\n",
      "\n"
     ]
    }
   ],
   "source": [
    "print_upper(file)"
   ]
  },
  {
   "cell_type": "code",
   "execution_count": null,
   "id": "51860d01",
   "metadata": {},
   "outputs": [],
   "source": []
  },
  {
   "attachments": {},
   "cell_type": "markdown",
   "id": "a6069961",
   "metadata": {},
   "source": [
    "## Problem 7: Largest Number In a File"
   ]
  },
  {
   "attachments": {},
   "cell_type": "markdown",
   "id": "c6e51caf",
   "metadata": {},
   "source": [
    "Write a function `largest_number_in_file` that takes a name of a file containing numbers as an arguments and returns largest number in that file.\n",
    "\n",
    "```\n",
    ">>> largest_number_in_file(\"5.txt\")\n",
    "5\n",
    ">>> largest_number_in_file(\"numbers.txt\")\n",
    "9\n",
    "```\n",
    "\n",
    "The sample input files are provided below.\n",
    "\n",
    "**Hint:**\n",
    "\n",
    "The built-in function `max` takes a list a numbers as arguments and returns the maximum among them.\n",
    "\n",
    "\n",
    "```\n",
    ">>> max([1, 2, 3, 4, 5])\n",
    "5\n",
    "```"
   ]
  },
  {
   "cell_type": "markdown",
   "id": "0fb43ac7",
   "metadata": {},
   "source": [
    "Sample Input Files:"
   ]
  },
  {
   "cell_type": "code",
   "execution_count": 135,
   "id": "3f2f56cf",
   "metadata": {},
   "outputs": [
    {
     "name": "stdout",
     "output_type": "stream",
     "text": [
      "Overwriting 5.txt\n"
     ]
    }
   ],
   "source": [
    "%%file 5.txt\n",
    "1\n",
    "2\n",
    "3\n",
    "4\n",
    "5"
   ]
  },
  {
   "cell_type": "code",
   "execution_count": 134,
   "id": "3073901e",
   "metadata": {},
   "outputs": [
    {
     "name": "stdout",
     "output_type": "stream",
     "text": [
      "Overwriting numbers.txt\n"
     ]
    }
   ],
   "source": [
    "%%file numbers.txt\n",
    "6\n",
    "1\n",
    "9 \n",
    "2 \n",
    "0\n",
    "5"
   ]
  },
  {
   "cell_type": "markdown",
   "id": "9e37e4de",
   "metadata": {},
   "source": [
    "Your Code:"
   ]
  },
  {
   "cell_type": "code",
   "execution_count": 152,
   "id": "32ddbad2",
   "metadata": {},
   "outputs": [],
   "source": [
    "filename = \"numbers.txt\"\n",
    "def largest_number_in_file(filename):\n",
    "    y = open(filename).read().split(\"\\n\")\n",
    "    return print(max(y))"
   ]
  },
  {
   "cell_type": "code",
   "execution_count": 153,
   "id": "6d708562",
   "metadata": {},
   "outputs": [
    {
     "name": "stdout",
     "output_type": "stream",
     "text": [
      "9 \n"
     ]
    }
   ],
   "source": [
    "largest_number_in_file(filename)"
   ]
  },
  {
   "cell_type": "code",
   "execution_count": null,
   "id": "43fa53cf",
   "metadata": {},
   "outputs": [],
   "source": []
  },
  {
   "attachments": {},
   "cell_type": "markdown",
   "id": "5cf3c89e",
   "metadata": {},
   "source": [
    "## Problem 8: Word Count"
   ]
  },
  {
   "attachments": {},
   "cell_type": "markdown",
   "id": "2cad4174",
   "metadata": {},
   "source": [
    "Write a function `word_count` that takes a filename as an argument and returns the number of words present in that file.\n",
    "\n",
    "\n",
    "```\n",
    ">>> word_count(\"words.txt\")\n",
    "10\n",
    ">>> word_count(\"5.txt\")\n",
    "5\n",
    "```"
   ]
  },
  {
   "cell_type": "markdown",
   "id": "f89b01fb",
   "metadata": {},
   "source": [
    "Sample input files:"
   ]
  },
  {
   "cell_type": "code",
   "execution_count": 197,
   "id": "7cf01a94",
   "metadata": {},
   "outputs": [
    {
     "name": "stdout",
     "output_type": "stream",
     "text": [
      "Overwriting words.txt\n"
     ]
    }
   ],
   "source": [
    "%%file words.txt\n",
    "one\n",
    "one two\n",
    "one two three\n",
    "one two three four\n",
    "test"
   ]
  },
  {
   "cell_type": "code",
   "execution_count": 154,
   "id": "71b4ca39",
   "metadata": {},
   "outputs": [
    {
     "name": "stdout",
     "output_type": "stream",
     "text": [
      "Overwriting 5.txt\n"
     ]
    }
   ],
   "source": [
    "%%file 5.txt\n",
    "1\n",
    "2\n",
    "3\n",
    "4\n",
    "5"
   ]
  },
  {
   "attachments": {},
   "cell_type": "markdown",
   "id": "594d7d65",
   "metadata": {},
   "source": [
    "Your code:"
   ]
  },
  {
   "cell_type": "code",
   "execution_count": 217,
   "id": "9a619f86",
   "metadata": {},
   "outputs": [],
   "source": [
    "filename = \"words.txt\"\n",
    "def word_count(filename):\n",
    "    y = list_one = open(filename).read().split()\n",
    "    return len(y)\n",
    "    "
   ]
  },
  {
   "cell_type": "code",
   "execution_count": 218,
   "id": "31ddb124",
   "metadata": {},
   "outputs": [
    {
     "data": {
      "text/plain": [
       "11"
      ]
     },
     "execution_count": 218,
     "metadata": {},
     "output_type": "execute_result"
    }
   ],
   "source": [
    "word_count(filename)"
   ]
  },
  {
   "cell_type": "code",
   "execution_count": null,
   "id": "3e305e54",
   "metadata": {},
   "outputs": [],
   "source": []
  },
  {
   "attachments": {},
   "cell_type": "markdown",
   "id": "d8660845",
   "metadata": {},
   "source": [
    "## Problem 9: List Files"
   ]
  },
  {
   "attachments": {},
   "cell_type": "markdown",
   "id": "89f82e05",
   "metadata": {},
   "source": [
    "Write a function `list_files` that takes path to a directory and an extension as arguments and returns the list of files in that directory that has the specified extension.\n",
    "\n",
    "```\n",
    ">>> list_files(\"testdata\", \"txt\")\n",
    "[\"a.txt\", \"b.txt\", \"c.txt\"]\n",
    "\n",
    ">>> list_files(\"testdata\", \"py\")\n",
    "[\"hello.py\", \"square.py\"]\n",
    "```"
   ]
  },
  {
   "attachments": {},
   "cell_type": "markdown",
   "id": "bd33a92d",
   "metadata": {},
   "source": [
    "The following commands create the required files for this problem."
   ]
  },
  {
   "cell_type": "code",
   "execution_count": 219,
   "id": "ae2e0715",
   "metadata": {},
   "outputs": [
    {
     "name": "stderr",
     "output_type": "stream",
     "text": [
      "A subdirectory or file testdata already exists.\n"
     ]
    }
   ],
   "source": [
    "!mkdir testdata\n",
    "!echo > testdata/a.txt\n",
    "!echo > testdata/b.txt\n",
    "!echo > testdata/c.txt\n",
    "!echo > testdata/hello.py\n",
    "!echo > testdata/square.py"
   ]
  },
  {
   "cell_type": "markdown",
   "id": "9759ee06",
   "metadata": {},
   "source": [
    "Your code:"
   ]
  },
  {
   "cell_type": "code",
   "execution_count": 233,
   "id": "55c7242e",
   "metadata": {},
   "outputs": [
    {
     "data": {
      "text/plain": [
       "'C:\\\\Users\\\\vicki\\\\OneDrive\\\\Documents\\\\Github\\\\practicalcomputing\\\\notebooks'"
      ]
     },
     "execution_count": 233,
     "metadata": {},
     "output_type": "execute_result"
    }
   ],
   "source": [
    "os.getcwd()"
   ]
  },
  {
   "cell_type": "code",
   "execution_count": 244,
   "id": "c922c402",
   "metadata": {},
   "outputs": [],
   "source": [
    "filetype = \"py\"\n",
    "def list_files(os):\n",
    "    import os\n",
    "    os.listdir()\n",
    "    list_1 = os.listdir(path=r\"testdata\")\n",
    "    for i in list_1:\n",
    "        if filetype in i:\n",
    "            print(i)"
   ]
  },
  {
   "cell_type": "code",
   "execution_count": 245,
   "id": "422746b9",
   "metadata": {},
   "outputs": [
    {
     "name": "stdout",
     "output_type": "stream",
     "text": [
      "hello.py\n",
      "square.py\n"
     ]
    }
   ],
   "source": [
    "list_files(os)"
   ]
  },
  {
   "cell_type": "code",
   "execution_count": null,
   "id": "2ffa7d07",
   "metadata": {},
   "outputs": [],
   "source": []
  },
  {
   "attachments": {},
   "cell_type": "markdown",
   "id": "2b9551f3",
   "metadata": {},
   "source": [
    "## Problem 10: Grep "
   ]
  },
  {
   "attachments": {},
   "cell_type": "markdown",
   "id": "848f6dd3",
   "metadata": {},
   "source": [
    "Write a function `grep` that takes a pattern and a filename as argument and returns all the lines that contain that pattern.\n",
    "\n",
    "```\n",
    ">>> grep('pipe', 'poem.txt')\n",
    "['So I piped with merry chear,\\n',\n",
    " 'Piper pipe that song again-\\n',\n",
    " 'So I piped, he wept to hear.\\n']\n",
    "\n",
    ">>> grep('hear', 'poem.txt')\n",
    "['So I piped with merry chear,\\n', \n",
    " 'So I piped, he wept to hear.\\n']\n",
    "```"
   ]
  },
  {
   "cell_type": "code",
   "execution_count": 17,
   "id": "a2b2a3ff",
   "metadata": {},
   "outputs": [
    {
     "name": "stdout",
     "output_type": "stream",
     "text": [
      "Writing poem.txt\n"
     ]
    }
   ],
   "source": [
    "%%file poem.txt\n",
    "Piping down the valleys wild\n",
    "Piping songs of pleasant glee\n",
    "On a cloud I saw a child.\n",
    "And he laughing said to me.\n",
    "\n",
    "Pipe a song about a Lamb;\n",
    "So I piped with merry chear,\n",
    "Piper pipe that song again-\n",
    "So I piped, he wept to hear."
   ]
  },
  {
   "cell_type": "code",
   "execution_count": 248,
   "id": "aaf1d907",
   "metadata": {},
   "outputs": [],
   "source": [
    "filename = \n",
    "def grep(os):\n",
    "    import os\n",
    "    os.listdir()\n",
    "    list_1 = os.listdir(\"poem.txt\")\n",
    "    for i in list_1:\n",
    "        if filetype in i:\n",
    "            print(i)"
   ]
  },
  {
   "cell_type": "code",
   "execution_count": 249,
   "id": "a4dca317",
   "metadata": {},
   "outputs": [
    {
     "ename": "NotADirectoryError",
     "evalue": "[WinError 267] The directory name is invalid: 'poem.txt'",
     "output_type": "error",
     "traceback": [
      "\u001b[1;31m---------------------------------------------------------------------------\u001b[0m",
      "\u001b[1;31mNotADirectoryError\u001b[0m                        Traceback (most recent call last)",
      "Cell \u001b[1;32mIn[249], line 1\u001b[0m\n\u001b[1;32m----> 1\u001b[0m \u001b[43mgrep\u001b[49m\u001b[43m(\u001b[49m\u001b[43mos\u001b[49m\u001b[43m)\u001b[49m\n",
      "Cell \u001b[1;32mIn[248], line 4\u001b[0m, in \u001b[0;36mgrep\u001b[1;34m(os)\u001b[0m\n\u001b[0;32m      2\u001b[0m \u001b[38;5;28;01mimport\u001b[39;00m \u001b[38;5;21;01mos\u001b[39;00m\n\u001b[0;32m      3\u001b[0m os\u001b[38;5;241m.\u001b[39mlistdir()\n\u001b[1;32m----> 4\u001b[0m list_1 \u001b[38;5;241m=\u001b[39m \u001b[43mos\u001b[49m\u001b[38;5;241;43m.\u001b[39;49m\u001b[43mlistdir\u001b[49m\u001b[43m(\u001b[49m\u001b[38;5;124;43m\"\u001b[39;49m\u001b[38;5;124;43mpoem.txt\u001b[39;49m\u001b[38;5;124;43m\"\u001b[39;49m\u001b[43m)\u001b[49m\n\u001b[0;32m      5\u001b[0m \u001b[38;5;28;01mfor\u001b[39;00m i \u001b[38;5;129;01min\u001b[39;00m list_1:\n\u001b[0;32m      6\u001b[0m     \u001b[38;5;28;01mif\u001b[39;00m filetype \u001b[38;5;129;01min\u001b[39;00m i:\n",
      "\u001b[1;31mNotADirectoryError\u001b[0m: [WinError 267] The directory name is invalid: 'poem.txt'"
     ]
    }
   ],
   "source": [
    "grep(os)"
   ]
  },
  {
   "cell_type": "code",
   "execution_count": null,
   "id": "cd703291",
   "metadata": {},
   "outputs": [],
   "source": []
  },
  {
   "cell_type": "code",
   "execution_count": null,
   "id": "cc74a744",
   "metadata": {},
   "outputs": [],
   "source": []
  }
 ],
 "metadata": {
  "kernelspec": {
   "display_name": "Python 3 (ipykernel)",
   "language": "python",
   "name": "python3"
  },
  "language_info": {
   "codemirror_mode": {
    "name": "ipython",
    "version": 3
   },
   "file_extension": ".py",
   "mimetype": "text/x-python",
   "name": "python",
   "nbconvert_exporter": "python",
   "pygments_lexer": "ipython3",
   "version": "3.12.5"
  }
 },
 "nbformat": 4,
 "nbformat_minor": 5
}
