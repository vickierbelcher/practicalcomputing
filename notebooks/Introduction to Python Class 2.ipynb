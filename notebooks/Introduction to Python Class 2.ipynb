{
 "cells": [
  {
   "cell_type": "code",
   "execution_count": 6,
   "id": "e5ef3af3-ca82-4516-8726-931d63633160",
   "metadata": {},
   "outputs": [],
   "source": [
    "#Introduction to Python"
   ]
  },
  {
   "cell_type": "markdown",
   "id": "4c1acd4c-c573-49ee-a0bd-e6aa7c796a51",
   "metadata": {},
   "source": [
    "## Numbers, Strings, and Lists"
   ]
  },
  {
   "cell_type": "code",
   "execution_count": 7,
   "id": "389ef5a0-5614-4bd8-aaeb-42c9dd375e88",
   "metadata": {},
   "outputs": [
    {
     "data": {
      "text/plain": [
       "0.30000000000000004"
      ]
     },
     "execution_count": 7,
     "metadata": {},
     "output_type": "execute_result"
    }
   ],
   "source": [
    "0.1 + 0.2"
   ]
  },
  {
   "cell_type": "markdown",
   "id": "d75be592-979f-474d-a087-e4d053b9462e",
   "metadata": {},
   "source": [
    "Pay attention to division of number."
   ]
  },
  {
   "cell_type": "code",
   "execution_count": 8,
   "id": "30f0c027-6e9a-488c-9b13-bf7455cd24e2",
   "metadata": {},
   "outputs": [
    {
     "data": {
      "text/plain": [
       "3.5"
      ]
     },
     "execution_count": 8,
     "metadata": {},
     "output_type": "execute_result"
    }
   ],
   "source": [
    "7 / 2"
   ]
  },
  {
   "cell_type": "markdown",
   "id": "e23c9f90-db39-4dfe-80ae-181a39332d5e",
   "metadata": {},
   "source": [
    "If you want to do integer division use \"//\" operator"
   ]
  },
  {
   "cell_type": "code",
   "execution_count": 11,
   "id": "7c0a2dcc-e3a6-4e31-9929-7836aa8f0752",
   "metadata": {},
   "outputs": [
    {
     "data": {
      "text/plain": [
       "3"
      ]
     },
     "execution_count": 11,
     "metadata": {},
     "output_type": "execute_result"
    }
   ],
   "source": [
    "7 // 2"
   ]
  },
  {
   "cell_type": "code",
   "execution_count": 12,
   "id": "373f4803-4125-4275-948f-ec560a8ff091",
   "metadata": {},
   "outputs": [],
   "source": [
    "### Strings"
   ]
  },
  {
   "cell_type": "code",
   "execution_count": 13,
   "id": "c4a26d0a-7a59-4e79-ada2-a07aac6faced",
   "metadata": {},
   "outputs": [
    {
     "data": {
      "text/plain": [
       "'hello'"
      ]
     },
     "execution_count": 13,
     "metadata": {},
     "output_type": "execute_result"
    }
   ],
   "source": [
    "\"hello\""
   ]
  },
  {
   "cell_type": "code",
   "execution_count": 14,
   "id": "997b4725-d7b4-49fb-aecd-577db2244cc7",
   "metadata": {},
   "outputs": [
    {
     "data": {
      "text/plain": [
       "'hello'"
      ]
     },
     "execution_count": 14,
     "metadata": {},
     "output_type": "execute_result"
    }
   ],
   "source": [
    "'hello'"
   ]
  },
  {
   "cell_type": "code",
   "execution_count": 15,
   "id": "ef292d02-d8f4-4461-b7d4-37e115b97535",
   "metadata": {},
   "outputs": [
    {
     "data": {
      "text/plain": [
       "'helloworld'"
      ]
     },
     "execution_count": 15,
     "metadata": {},
     "output_type": "execute_result"
    }
   ],
   "source": [
    "\"hello\" + 'world'"
   ]
  },
  {
   "cell_type": "code",
   "execution_count": 16,
   "id": "8fc1e49a-e4de-41fb-838f-1a724b2d171c",
   "metadata": {},
   "outputs": [
    {
     "data": {
      "text/plain": [
       "'hellohellohellohellohello'"
      ]
     },
     "execution_count": 16,
     "metadata": {},
     "output_type": "execute_result"
    }
   ],
   "source": [
    "\"hello\" * 5"
   ]
  },
  {
   "cell_type": "code",
   "execution_count": 17,
   "id": "240c7ef7-a933-4b1e-ac3b-8d201677982a",
   "metadata": {},
   "outputs": [
    {
     "data": {
      "text/plain": [
       "\"let's play\""
      ]
     },
     "execution_count": 17,
     "metadata": {},
     "output_type": "execute_result"
    }
   ],
   "source": [
    "\"let's play\""
   ]
  },
  {
   "cell_type": "code",
   "execution_count": 18,
   "id": "5fbf24c5-1e6b-41b3-9001-0e3069ae58b1",
   "metadata": {},
   "outputs": [],
   "source": [
    "message = \"\"\"\n",
    "Hello everyone,\n",
    "\n",
    "Welcome to the practice computing course\"\"\""
   ]
  },
  {
   "cell_type": "code",
   "execution_count": 19,
   "id": "976fc947-2d17-4045-8aa8-37a66c48b9ea",
   "metadata": {},
   "outputs": [
    {
     "name": "stdout",
     "output_type": "stream",
     "text": [
      "\n",
      "Hello everyone,\n",
      "\n",
      "Welcome to the practice computing course\n"
     ]
    }
   ],
   "source": [
    "print(message)"
   ]
  },
  {
   "cell_type": "markdown",
   "id": "869e8b0f-865b-486a-b2dd-a52d16e1759c",
   "metadata": {},
   "source": [
    "### String Formatting"
   ]
  },
  {
   "cell_type": "code",
   "execution_count": 21,
   "id": "47a2c6be-dfcd-4467-8c9e-129d5e12a214",
   "metadata": {},
   "outputs": [
    {
     "data": {
      "text/plain": [
       "'Hello python'"
      ]
     },
     "execution_count": 21,
     "metadata": {},
     "output_type": "execute_result"
    }
   ],
   "source": [
    "name = \"python\"\n",
    "message = f\"Hello {name}\"\n",
    "message"
   ]
  },
  {
   "cell_type": "markdown",
   "id": "cd466ecb-e452-4e95-a1ae-e0ea2bc13f3f",
   "metadata": {},
   "source": [
    "This is using f \" and { for format"
   ]
  },
  {
   "cell_type": "code",
   "execution_count": 24,
   "id": "42ea97ca-a497-43c9-8099-176b4c61c54b",
   "metadata": {},
   "outputs": [
    {
     "name": "stdout",
     "output_type": "stream",
     "text": [
      "5 x 1 = 5\n",
      "5 x 2 = 10\n",
      "5 x 3 = 15\n",
      "5 x 4 = 20\n",
      "5 x 5 = 25\n",
      "5 x 6 = 30\n",
      "5 x 7 = 35\n",
      "5 x 8 = 40\n",
      "5 x 9 = 45\n",
      "5 x 10 = 50\n"
     ]
    }
   ],
   "source": [
    "n = 5\n",
    "for i in range (1,11):\n",
    "    print(f\"{n} x {i} = {n*i}\")"
   ]
  },
  {
   "cell_type": "code",
   "execution_count": 25,
   "id": "ce8a9106-c81b-40e0-8873-12b488327635",
   "metadata": {},
   "outputs": [
    {
     "name": "stdout",
     "output_type": "stream",
     "text": [
      "12 x  1 =  12\n",
      "12 x  2 =  24\n",
      "12 x  3 =  36\n",
      "12 x  4 =  48\n",
      "12 x  5 =  60\n",
      "12 x  6 =  72\n",
      "12 x  7 =  84\n",
      "12 x  8 =  96\n",
      "12 x  9 = 108\n",
      "12 x 10 = 120\n"
     ]
    }
   ],
   "source": [
    "n = 12\n",
    "for i in range (1,11):\n",
    "    print(f\"{n:2d} x {i:2d} = {n*i:3d}\")"
   ]
  },
  {
   "cell_type": "markdown",
   "id": "2142e947-2b22-4738-bb53-c81b287eb330",
   "metadata": {},
   "source": [
    "Python supports unicode text too, like Kannada"
   ]
  },
  {
   "cell_type": "code",
   "execution_count": 28,
   "id": "d4132a97-9e95-4ffb-8900-e6aee0a29a8e",
   "metadata": {},
   "outputs": [
    {
     "name": "stdout",
     "output_type": "stream",
     "text": [
      "ಅಆಇ\n"
     ]
    }
   ],
   "source": [
    "print(\"\\u0c85\\u0c86\\u0c87\") # kannada"
   ]
  },
  {
   "cell_type": "code",
   "execution_count": 31,
   "id": "d61238da-1313-44db-9b49-40490d4b7110",
   "metadata": {},
   "outputs": [
    {
     "name": "stdout",
     "output_type": "stream",
     "text": [
      "😸😸😸😸😸😸😸😸😸😸\n"
     ]
    }
   ],
   "source": [
    "cat = \"\\U0001f638\"\n",
    "print(cat * 10)"
   ]
  },
  {
   "cell_type": "markdown",
   "id": "b38144a1-1b2b-40fa-bf20-8bbec51480f3",
   "metadata": {},
   "source": [
    "Anythime we use \\ it means it is like a special thing to read. If you want one \\ actually have to type it two times \\\\"
   ]
  },
  {
   "cell_type": "code",
   "execution_count": 32,
   "id": "ff2ad4a6-53cf-460e-ac3a-e45f355518e4",
   "metadata": {},
   "outputs": [
    {
     "name": "stdout",
     "output_type": "stream",
     "text": [
      "\\test\n"
     ]
    }
   ],
   "source": [
    "print(\"\\\\test\")"
   ]
  },
  {
   "cell_type": "markdown",
   "id": "4aac584e-cd5b-4f3e-bde6-693111fc69a2",
   "metadata": {},
   "source": [
    "## Lists"
   ]
  },
  {
   "cell_type": "code",
   "execution_count": 33,
   "id": "f0bc05ab-fae5-4115-9bae-207349c603c9",
   "metadata": {},
   "outputs": [],
   "source": [
    "x = [1, 2, 3, 4]"
   ]
  },
  {
   "cell_type": "code",
   "execution_count": 34,
   "id": "8d19a501-ac57-4e29-ba96-bf33f56773e2",
   "metadata": {},
   "outputs": [
    {
     "data": {
      "text/plain": [
       "[1, 2, 3, 4]"
      ]
     },
     "execution_count": 34,
     "metadata": {},
     "output_type": "execute_result"
    }
   ],
   "source": [
    "x"
   ]
  },
  {
   "cell_type": "code",
   "execution_count": 35,
   "id": "b5ee2322-640a-41b8-9306-e94421b4df3f",
   "metadata": {},
   "outputs": [
    {
     "data": {
      "text/plain": [
       "4"
      ]
     },
     "execution_count": 35,
     "metadata": {},
     "output_type": "execute_result"
    }
   ],
   "source": [
    "len(x)"
   ]
  },
  {
   "cell_type": "code",
   "execution_count": 36,
   "id": "7ab2bded-322e-47f1-80cb-6d6d99774b5c",
   "metadata": {},
   "outputs": [
    {
     "data": {
      "text/plain": [
       "5"
      ]
     },
     "execution_count": 36,
     "metadata": {},
     "output_type": "execute_result"
    }
   ],
   "source": [
    "len(\"hello\")"
   ]
  },
  {
   "cell_type": "code",
   "execution_count": 37,
   "id": "9b1df338-b447-47c0-8b58-6972516dda94",
   "metadata": {},
   "outputs": [
    {
     "data": {
      "text/plain": [
       "10"
      ]
     },
     "execution_count": 37,
     "metadata": {},
     "output_type": "execute_result"
    }
   ],
   "source": [
    "sum(x)"
   ]
  },
  {
   "cell_type": "code",
   "execution_count": 38,
   "id": "5f0fd700-e53d-4009-ad97-7c255e8144b2",
   "metadata": {},
   "outputs": [],
   "source": [
    "names = [\"Alice\", \"Bob\", \"Charlie\", \"Dave\"]"
   ]
  },
  {
   "cell_type": "code",
   "execution_count": 39,
   "id": "c58a9df5-04f3-45a9-ac77-e15147493817",
   "metadata": {},
   "outputs": [
    {
     "data": {
      "text/plain": [
       "4"
      ]
     },
     "execution_count": 39,
     "metadata": {},
     "output_type": "execute_result"
    }
   ],
   "source": [
    "len(names)"
   ]
  },
  {
   "cell_type": "code",
   "execution_count": 40,
   "id": "cd5f5d55-c650-4b61-838f-f3e8e709e809",
   "metadata": {},
   "outputs": [
    {
     "data": {
      "text/plain": [
       "'Alice'"
      ]
     },
     "execution_count": 40,
     "metadata": {},
     "output_type": "execute_result"
    }
   ],
   "source": [
    "names[0]"
   ]
  },
  {
   "cell_type": "code",
   "execution_count": 41,
   "id": "379af22b-69a5-4b45-ac98-2f99e76b26ea",
   "metadata": {},
   "outputs": [
    {
     "data": {
      "text/plain": [
       "'Bob'"
      ]
     },
     "execution_count": 41,
     "metadata": {},
     "output_type": "execute_result"
    }
   ],
   "source": [
    "names[1]"
   ]
  },
  {
   "cell_type": "code",
   "execution_count": 42,
   "id": "a9171355-3a5a-460c-b7aa-4d4d59405dfc",
   "metadata": {},
   "outputs": [
    {
     "data": {
      "text/plain": [
       "'Charlie'"
      ]
     },
     "execution_count": 42,
     "metadata": {},
     "output_type": "execute_result"
    }
   ],
   "source": [
    "names[2]"
   ]
  },
  {
   "cell_type": "code",
   "execution_count": 43,
   "id": "dc49ea93-e2cd-4d34-a76e-6a8283c322e2",
   "metadata": {},
   "outputs": [
    {
     "data": {
      "text/plain": [
       "'Dave'"
      ]
     },
     "execution_count": 43,
     "metadata": {},
     "output_type": "execute_result"
    }
   ],
   "source": [
    "names[3]"
   ]
  },
  {
   "cell_type": "code",
   "execution_count": 44,
   "id": "3349251d-680a-40b1-ab39-3c5af984e47d",
   "metadata": {},
   "outputs": [
    {
     "ename": "IndexError",
     "evalue": "list index out of range",
     "output_type": "error",
     "traceback": [
      "\u001b[1;31m---------------------------------------------------------------------------\u001b[0m",
      "\u001b[1;31mIndexError\u001b[0m                                Traceback (most recent call last)",
      "Cell \u001b[1;32mIn[44], line 1\u001b[0m\n\u001b[1;32m----> 1\u001b[0m \u001b[43mnames\u001b[49m\u001b[43m[\u001b[49m\u001b[38;5;241;43m4\u001b[39;49m\u001b[43m]\u001b[49m\n",
      "\u001b[1;31mIndexError\u001b[0m: list index out of range"
     ]
    }
   ],
   "source": [
    "names[4]"
   ]
  },
  {
   "cell_type": "markdown",
   "id": "16350d6a-f60c-43a1-9b18-51a9906c5246",
   "metadata": {},
   "source": [
    "We can use a for loop to iterate over values of a list"
   ]
  },
  {
   "cell_type": "code",
   "execution_count": 46,
   "id": "86ab99ad-2ba0-4cdb-9799-095a2843710b",
   "metadata": {},
   "outputs": [
    {
     "name": "stdout",
     "output_type": "stream",
     "text": [
      "Hello Alice\n",
      "Hello Bob\n",
      "Hello Charlie\n",
      "Hello Dave\n"
     ]
    }
   ],
   "source": [
    "for potato in names:\n",
    "    print(\"Hello\", potato)"
   ]
  },
  {
   "cell_type": "markdown",
   "id": "62feadb1-3e20-4638-936e-f48aaf039c84",
   "metadata": {},
   "source": [
    "^ that is a \"for loop\" and it recognizes you want to talk about the items in list!"
   ]
  },
  {
   "cell_type": "markdown",
   "id": "6bbf6610-2986-4411-b000-a975d979f3e2",
   "metadata": {},
   "source": [
    "### Dictionaries"
   ]
  },
  {
   "cell_type": "code",
   "execution_count": 52,
   "id": "03cb15f2-ca38-4472-9e99-9b55ef7a453f",
   "metadata": {},
   "outputs": [],
   "source": [
    "phone_numbers = {\n",
    "    \"Alice\": 1234,\n",
    "    \"Bob\": 2345,\n",
    "    \"Charlie\": 3456,\n",
    "    \"Dave\": 4567\n",
    "}"
   ]
  },
  {
   "cell_type": "code",
   "execution_count": 48,
   "id": "9d1aed71-7902-4a7a-b817-0b638c6101f4",
   "metadata": {},
   "outputs": [
    {
     "data": {
      "text/plain": [
       "1234"
      ]
     },
     "execution_count": 48,
     "metadata": {},
     "output_type": "execute_result"
    }
   ],
   "source": [
    "phone_numbers[\"Alice\"]"
   ]
  },
  {
   "cell_type": "code",
   "execution_count": 49,
   "id": "0f9c06ad-44b5-4b3b-8914-c0a310e6c757",
   "metadata": {},
   "outputs": [
    {
     "data": {
      "text/plain": [
       "3456"
      ]
     },
     "execution_count": 49,
     "metadata": {},
     "output_type": "execute_result"
    }
   ],
   "source": [
    "phone_numbers[\"Charlie\"]"
   ]
  },
  {
   "cell_type": "code",
   "execution_count": 50,
   "id": "e777915c-3e77-4078-9acc-bf4030a80ef0",
   "metadata": {},
   "outputs": [
    {
     "data": {
      "text/plain": [
       "True"
      ]
     },
     "execution_count": 50,
     "metadata": {},
     "output_type": "execute_result"
    }
   ],
   "source": [
    "\"Alice\" in phone_numbers"
   ]
  },
  {
   "cell_type": "code",
   "execution_count": 51,
   "id": "232edca5-c65c-4de7-9e71-44093ec0b281",
   "metadata": {},
   "outputs": [
    {
     "data": {
      "text/plain": [
       "False"
      ]
     },
     "execution_count": 51,
     "metadata": {},
     "output_type": "execute_result"
    }
   ],
   "source": [
    "\"Zoe\" in phone_numbers"
   ]
  },
  {
   "cell_type": "code",
   "execution_count": 54,
   "id": "b4548483-2f1a-4380-bb73-9da472d50fd6",
   "metadata": {},
   "outputs": [
    {
     "data": {
      "text/plain": [
       "False"
      ]
     },
     "execution_count": 54,
     "metadata": {},
     "output_type": "execute_result"
    }
   ],
   "source": [
    "\"Dave\" not in phone_numbers"
   ]
  },
  {
   "cell_type": "code",
   "execution_count": 60,
   "id": "4271d577-7a85-4538-9ad8-925882f7b55a",
   "metadata": {},
   "outputs": [
    {
     "data": {
      "text/plain": [
       "True"
      ]
     },
     "execution_count": 60,
     "metadata": {},
     "output_type": "execute_result"
    }
   ],
   "source": [
    "(\"Alice\" and \"Dave\") in phone_numbers"
   ]
  },
  {
   "cell_type": "code",
   "execution_count": 58,
   "id": "6ee9048b-32c6-4d56-85ba-22ed60e525b0",
   "metadata": {},
   "outputs": [
    {
     "data": {
      "text/plain": [
       "True"
      ]
     },
     "execution_count": 58,
     "metadata": {},
     "output_type": "execute_result"
    }
   ],
   "source": [
    "(\"Alice\" or \"Zoe\") in phone_numbers"
   ]
  },
  {
   "cell_type": "code",
   "execution_count": 59,
   "id": "1de4fe07-beb9-4876-9c9a-0340df4eb63e",
   "metadata": {},
   "outputs": [
    {
     "data": {
      "text/plain": [
       "False"
      ]
     },
     "execution_count": 59,
     "metadata": {},
     "output_type": "execute_result"
    }
   ],
   "source": [
    "(\"John\" or \"Zoe\") in phone_numbers"
   ]
  },
  {
   "cell_type": "markdown",
   "id": "2ffe6b01-4584-43d0-b7fe-2424b30ffd29",
   "metadata": {},
   "source": [
    "Lists and dictionaries could be nested"
   ]
  },
  {
   "cell_type": "code",
   "execution_count": 61,
   "id": "f9c156f0-e921-46b8-a5df-5400bc3770a3",
   "metadata": {},
   "outputs": [],
   "source": [
    "records = [\n",
    "    {\"name\": \"Alice\", \"phone\": 1234},\n",
    "    {\"name\": \"Bob\", \"phone\": 2345},\n",
    "    {\"name\": \"Charlie\", \"phone\": 5678},\n",
    "    {\"name\": \"Dave\", \"phone\": 9876},]"
   ]
  },
  {
   "cell_type": "code",
   "execution_count": 62,
   "id": "d56936ad-36f1-4ab7-a1aa-8cd01c0499c1",
   "metadata": {},
   "outputs": [
    {
     "data": {
      "text/plain": [
       "1234"
      ]
     },
     "execution_count": 62,
     "metadata": {},
     "output_type": "execute_result"
    }
   ],
   "source": [
    "records[0]['phone']"
   ]
  },
  {
   "cell_type": "markdown",
   "id": "c25ef9c5-2399-411f-9d82-364915b6d9d8",
   "metadata": {},
   "source": [
    "Dictionary can just keep one defintion per term, like \"Alice\" will only have one value\n"
   ]
  },
  {
   "cell_type": "markdown",
   "id": "5831d3f3-9855-4150-a96d-49c992bf4072",
   "metadata": {},
   "source": [
    "## Functions, Methos & Modules"
   ]
  },
  {
   "cell_type": "code",
   "execution_count": 64,
   "id": "f0a9f552-c434-42f6-8c5e-84e963d2c92a",
   "metadata": {},
   "outputs": [
    {
     "data": {
      "text/plain": [
       "15"
      ]
     },
     "execution_count": 64,
     "metadata": {},
     "output_type": "execute_result"
    }
   ],
   "source": [
    "sum([1,2,3,4,5])"
   ]
  },
  {
   "cell_type": "markdown",
   "id": "ef6b49ba-c56e-45b1-a95b-d5fd387c956d",
   "metadata": {},
   "source": [
    "Python does not support operations on incompatible data types"
   ]
  },
  {
   "cell_type": "code",
   "execution_count": 65,
   "id": "abb5ccb3-3a38-4673-9fee-07a83df9e74c",
   "metadata": {},
   "outputs": [
    {
     "ename": "TypeError",
     "evalue": "unsupported operand type(s) for +: 'int' and 'str'",
     "output_type": "error",
     "traceback": [
      "\u001b[1;31m---------------------------------------------------------------------------\u001b[0m",
      "\u001b[1;31mTypeError\u001b[0m                                 Traceback (most recent call last)",
      "Cell \u001b[1;32mIn[65], line 1\u001b[0m\n\u001b[1;32m----> 1\u001b[0m \u001b[38;5;241;43m1\u001b[39;49m\u001b[43m \u001b[49m\u001b[38;5;241;43m+\u001b[39;49m\u001b[43m \u001b[49m\u001b[38;5;124;43m\"\u001b[39;49m\u001b[38;5;124;43m2\u001b[39;49m\u001b[38;5;124;43m\"\u001b[39;49m\n",
      "\u001b[1;31mTypeError\u001b[0m: unsupported operand type(s) for +: 'int' and 'str'"
     ]
    }
   ],
   "source": [
    "1 + \"2\""
   ]
  },
  {
   "cell_type": "code",
   "execution_count": 66,
   "id": "e701700e-2fd6-4f46-acc7-3deb56905a25",
   "metadata": {},
   "outputs": [
    {
     "data": {
      "text/plain": [
       "'12'"
      ]
     },
     "execution_count": 66,
     "metadata": {},
     "output_type": "execute_result"
    }
   ],
   "source": [
    "str(1) + \"2\""
   ]
  },
  {
   "cell_type": "code",
   "execution_count": 68,
   "id": "cd4e0d00-c69e-4514-855f-b5c91efb5d82",
   "metadata": {},
   "outputs": [
    {
     "data": {
      "text/plain": [
       "3"
      ]
     },
     "execution_count": 68,
     "metadata": {},
     "output_type": "execute_result"
    }
   ],
   "source": [
    "1 + int(\"2\")"
   ]
  },
  {
   "cell_type": "markdown",
   "id": "184dc36d-7725-4c37-a9c2-948d7223527d",
   "metadata": {},
   "source": [
    "#### Example: Counting number of digits in a number"
   ]
  },
  {
   "cell_type": "code",
   "execution_count": 69,
   "id": "f92777b6-be9c-46f7-9222-df540705b859",
   "metadata": {},
   "outputs": [
    {
     "data": {
      "text/plain": [
       "10715086071862673209484250490600018105614048117055336074437503883703510511249361224931983788156958581275946729175531468251871452856923140435984577574698574803934567774824230985421074605062371141877954182153046474983581941267398767559165543946077062914571196477686542167660429831652624386837205668069376"
      ]
     },
     "execution_count": 69,
     "metadata": {},
     "output_type": "execute_result"
    }
   ],
   "source": [
    "2**1000"
   ]
  },
  {
   "cell_type": "code",
   "execution_count": 70,
   "id": "c1d76238-59ad-4fc4-9682-a470c0030ef0",
   "metadata": {},
   "outputs": [
    {
     "data": {
      "text/plain": [
       "5"
      ]
     },
     "execution_count": 70,
     "metadata": {},
     "output_type": "execute_result"
    }
   ],
   "source": [
    "len(str(12345))"
   ]
  },
  {
   "cell_type": "code",
   "execution_count": 71,
   "id": "52588f4d-d161-4861-b7fc-c8cff1430bbf",
   "metadata": {},
   "outputs": [
    {
     "data": {
      "text/plain": [
       "302"
      ]
     },
     "execution_count": 71,
     "metadata": {},
     "output_type": "execute_result"
    }
   ],
   "source": [
    "len(str(2**1000))"
   ]
  },
  {
   "cell_type": "markdown",
   "id": "f98f6874-8056-483c-b4c7-457dfed28435",
   "metadata": {},
   "source": [
    "### Writing our own functions"
   ]
  },
  {
   "cell_type": "code",
   "execution_count": 72,
   "id": "734e82bc-4153-4f69-a148-dab131dd0340",
   "metadata": {},
   "outputs": [],
   "source": [
    "def square(x):\n",
    "    return x*x"
   ]
  },
  {
   "cell_type": "code",
   "execution_count": 73,
   "id": "720b79fa-185b-4f84-99ec-1b72de1569fe",
   "metadata": {},
   "outputs": [
    {
     "data": {
      "text/plain": [
       "16"
      ]
     },
     "execution_count": 73,
     "metadata": {},
     "output_type": "execute_result"
    }
   ],
   "source": [
    "square(4)"
   ]
  },
  {
   "cell_type": "code",
   "execution_count": 76,
   "id": "82ece308-2185-4c33-824d-71f5e193ca17",
   "metadata": {},
   "outputs": [],
   "source": [
    "def square (x):\n",
    "    y = x*x\n",
    "    return y"
   ]
  },
  {
   "cell_type": "code",
   "execution_count": 77,
   "id": "1ab55cb2-5592-4bbc-98bd-2abe2da98e0a",
   "metadata": {},
   "outputs": [
    {
     "data": {
      "text/plain": [
       "16"
      ]
     },
     "execution_count": 77,
     "metadata": {},
     "output_type": "execute_result"
    }
   ],
   "source": [
    "square(4)"
   ]
  },
  {
   "cell_type": "code",
   "execution_count": 78,
   "id": "2f21c038-fc91-48d7-9885-c7e0232caac2",
   "metadata": {},
   "outputs": [
    {
     "data": {
      "text/plain": [
       "81"
      ]
     },
     "execution_count": 78,
     "metadata": {},
     "output_type": "execute_result"
    }
   ],
   "source": [
    "square(9)"
   ]
  },
  {
   "cell_type": "code",
   "execution_count": 79,
   "id": "f916fdb5-1423-4b1b-aa27-175325c29067",
   "metadata": {},
   "outputs": [],
   "source": [
    "def newguy (x):\n",
    "    y = x*x + 7\n",
    "    return y"
   ]
  },
  {
   "cell_type": "code",
   "execution_count": 80,
   "id": "f3b3a973-915e-46be-9240-9f6db3290a4f",
   "metadata": {},
   "outputs": [
    {
     "data": {
      "text/plain": [
       "16"
      ]
     },
     "execution_count": 80,
     "metadata": {},
     "output_type": "execute_result"
    }
   ],
   "source": [
    "newguy(3)"
   ]
  },
  {
   "cell_type": "code",
   "execution_count": 81,
   "id": "f3d0cbcd-e612-46b5-92f8-c0f4c3fbf0fa",
   "metadata": {},
   "outputs": [],
   "source": [
    "def add(x,y):\n",
    "    z = x + y\n",
    "    return z"
   ]
  },
  {
   "cell_type": "code",
   "execution_count": 82,
   "id": "32461cdd-14cb-4f09-b94e-f12d48f12f3c",
   "metadata": {},
   "outputs": [
    {
     "data": {
      "text/plain": [
       "7"
      ]
     },
     "execution_count": 82,
     "metadata": {},
     "output_type": "execute_result"
    }
   ],
   "source": [
    "add(3,4)"
   ]
  },
  {
   "cell_type": "code",
   "execution_count": 83,
   "id": "2df9112a-e7ac-4f31-a2d3-e9589f74bd10",
   "metadata": {},
   "outputs": [
    {
     "name": "stdout",
     "output_type": "stream",
     "text": [
      "16\n",
      "5\n"
     ]
    }
   ],
   "source": [
    "y = 5\n",
    "def square(x):\n",
    "    y = x*x\n",
    "    return y\n",
    "print(square(4))\n",
    "print(y)"
   ]
  },
  {
   "cell_type": "markdown",
   "id": "7a400eeb-2b28-4e49-8797-2cc5cbeec1db",
   "metadata": {},
   "source": [
    "This works because y in square is a local variable!"
   ]
  },
  {
   "cell_type": "code",
   "execution_count": 84,
   "id": "400bb676-1ead-4ef0-b984-16750e8baced",
   "metadata": {},
   "outputs": [
    {
     "name": "stdout",
     "output_type": "stream",
     "text": [
      "25 5\n"
     ]
    }
   ],
   "source": [
    "print(square(y),y)"
   ]
  },
  {
   "cell_type": "code",
   "execution_count": 85,
   "id": "5ad6818c-e19d-4ad6-9433-7c2e849e1174",
   "metadata": {},
   "outputs": [
    {
     "name": "stdout",
     "output_type": "stream",
     "text": [
      "15\n",
      "25\n"
     ]
    }
   ],
   "source": [
    "def f(x):\n",
    "    z = x + y\n",
    "    return z\n",
    "print(f(10))\n",
    "print(f(20))"
   ]
  },
  {
   "cell_type": "markdown",
   "id": "07f32529-cda8-428d-b9e6-5429478cd4d3",
   "metadata": {},
   "source": [
    "**Problem** Write  function \"count_digits\" that takes a number as argument and reterns # of digits it has"
   ]
  },
  {
   "cell_type": "code",
   "execution_count": 87,
   "id": "8030798e-e8f4-4b5c-a402-0c2ed8d49892",
   "metadata": {},
   "outputs": [],
   "source": [
    "def count_digits(x):\n",
    "    y = len(str(x))\n",
    "    return y\n"
   ]
  },
  {
   "cell_type": "code",
   "execution_count": 88,
   "id": "7fe79358-c0ca-4ca3-a073-3e72eefc8a97",
   "metadata": {},
   "outputs": [
    {
     "data": {
      "text/plain": [
       "24"
      ]
     },
     "execution_count": 88,
     "metadata": {},
     "output_type": "execute_result"
    }
   ],
   "source": [
    "count_digits(172479375623975932759273)"
   ]
  },
  {
   "cell_type": "code",
   "execution_count": 99,
   "id": "832914f2-46c0-4fae-86ee-b3bd57392100",
   "metadata": {},
   "outputs": [
    {
     "data": {
      "text/plain": [
       "21"
      ]
     },
     "execution_count": 99,
     "metadata": {},
     "output_type": "execute_result"
    }
   ],
   "source": [
    "list = [1,2,3,4,5,6]\n",
    "len(list)\n",
    "sum(list)"
   ]
  },
  {
   "cell_type": "code",
   "execution_count": 100,
   "id": "669b1383-3b41-45e2-868d-98968154f810",
   "metadata": {},
   "outputs": [],
   "source": [
    "def mean(list):\n",
    "    y = sum(list)/len(list)\n",
    "    return y"
   ]
  },
  {
   "cell_type": "code",
   "execution_count": 101,
   "id": "8d082d60-eede-4786-ba13-93d595b82d8b",
   "metadata": {},
   "outputs": [
    {
     "data": {
      "text/plain": [
       "3.5"
      ]
     },
     "execution_count": 101,
     "metadata": {},
     "output_type": "execute_result"
    }
   ],
   "source": [
    "mean(list)"
   ]
  },
  {
   "cell_type": "code",
   "execution_count": 102,
   "id": "0809ce4c-8002-4533-9a26-27e206a2ebbc",
   "metadata": {},
   "outputs": [
    {
     "data": {
      "text/plain": [
       "2.75"
      ]
     },
     "execution_count": 102,
     "metadata": {},
     "output_type": "execute_result"
    }
   ],
   "source": [
    "mean([2,3,4,2])"
   ]
  },
  {
   "cell_type": "code",
   "execution_count": null,
   "id": "d548146c-af29-41f8-8de4-ffff83e1ffb0",
   "metadata": {},
   "outputs": [],
   "source": []
  }
 ],
 "metadata": {
  "kernelspec": {
   "display_name": "Python 3 (ipykernel)",
   "language": "python",
   "name": "python3"
  },
  "language_info": {
   "codemirror_mode": {
    "name": "ipython",
    "version": 3
   },
   "file_extension": ".py",
   "mimetype": "text/x-python",
   "name": "python",
   "nbconvert_exporter": "python",
   "pygments_lexer": "ipython3",
   "version": "3.12.5"
  }
 },
 "nbformat": 4,
 "nbformat_minor": 5
}
