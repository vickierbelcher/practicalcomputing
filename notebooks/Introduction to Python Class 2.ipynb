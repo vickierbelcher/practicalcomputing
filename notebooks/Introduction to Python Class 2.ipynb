{
 "cells": [
  {
   "cell_type": "code",
   "execution_count": 6,
   "id": "e5ef3af3-ca82-4516-8726-931d63633160",
   "metadata": {},
   "outputs": [],
   "source": [
    "#Introduction to Python"
   ]
  },
  {
   "cell_type": "markdown",
   "id": "4c1acd4c-c573-49ee-a0bd-e6aa7c796a51",
   "metadata": {},
   "source": [
    "## Numbers, Strings, and Lists"
   ]
  },
  {
   "cell_type": "code",
   "execution_count": 7,
   "id": "389ef5a0-5614-4bd8-aaeb-42c9dd375e88",
   "metadata": {},
   "outputs": [
    {
     "data": {
      "text/plain": [
       "0.30000000000000004"
      ]
     },
     "execution_count": 7,
     "metadata": {},
     "output_type": "execute_result"
    }
   ],
   "source": [
    "0.1 + 0.2"
   ]
  },
  {
   "cell_type": "markdown",
   "id": "d75be592-979f-474d-a087-e4d053b9462e",
   "metadata": {},
   "source": [
    "Pay attention to division of number."
   ]
  },
  {
   "cell_type": "code",
   "execution_count": 8,
   "id": "30f0c027-6e9a-488c-9b13-bf7455cd24e2",
   "metadata": {},
   "outputs": [
    {
     "data": {
      "text/plain": [
       "3.5"
      ]
     },
     "execution_count": 8,
     "metadata": {},
     "output_type": "execute_result"
    }
   ],
   "source": [
    "7 / 2"
   ]
  },
  {
   "cell_type": "markdown",
   "id": "e23c9f90-db39-4dfe-80ae-181a39332d5e",
   "metadata": {},
   "source": [
    "If you want to do integer division use \"//\" operator"
   ]
  },
  {
   "cell_type": "code",
   "execution_count": 11,
   "id": "7c0a2dcc-e3a6-4e31-9929-7836aa8f0752",
   "metadata": {},
   "outputs": [
    {
     "data": {
      "text/plain": [
       "3"
      ]
     },
     "execution_count": 11,
     "metadata": {},
     "output_type": "execute_result"
    }
   ],
   "source": [
    "7 // 2"
   ]
  },
  {
   "cell_type": "code",
   "execution_count": 12,
   "id": "373f4803-4125-4275-948f-ec560a8ff091",
   "metadata": {},
   "outputs": [],
   "source": [
    "### Strings"
   ]
  },
  {
   "cell_type": "code",
   "execution_count": 13,
   "id": "c4a26d0a-7a59-4e79-ada2-a07aac6faced",
   "metadata": {},
   "outputs": [
    {
     "data": {
      "text/plain": [
       "'hello'"
      ]
     },
     "execution_count": 13,
     "metadata": {},
     "output_type": "execute_result"
    }
   ],
   "source": [
    "\"hello\""
   ]
  },
  {
   "cell_type": "code",
   "execution_count": 14,
   "id": "997b4725-d7b4-49fb-aecd-577db2244cc7",
   "metadata": {},
   "outputs": [
    {
     "data": {
      "text/plain": [
       "'hello'"
      ]
     },
     "execution_count": 14,
     "metadata": {},
     "output_type": "execute_result"
    }
   ],
   "source": [
    "'hello'"
   ]
  },
  {
   "cell_type": "code",
   "execution_count": 15,
   "id": "ef292d02-d8f4-4461-b7d4-37e115b97535",
   "metadata": {},
   "outputs": [
    {
     "data": {
      "text/plain": [
       "'helloworld'"
      ]
     },
     "execution_count": 15,
     "metadata": {},
     "output_type": "execute_result"
    }
   ],
   "source": [
    "\"hello\" + 'world'"
   ]
  },
  {
   "cell_type": "code",
   "execution_count": 16,
   "id": "8fc1e49a-e4de-41fb-838f-1a724b2d171c",
   "metadata": {},
   "outputs": [
    {
     "data": {
      "text/plain": [
       "'hellohellohellohellohello'"
      ]
     },
     "execution_count": 16,
     "metadata": {},
     "output_type": "execute_result"
    }
   ],
   "source": [
    "\"hello\" * 5"
   ]
  },
  {
   "cell_type": "code",
   "execution_count": 17,
   "id": "240c7ef7-a933-4b1e-ac3b-8d201677982a",
   "metadata": {},
   "outputs": [
    {
     "data": {
      "text/plain": [
       "\"let's play\""
      ]
     },
     "execution_count": 17,
     "metadata": {},
     "output_type": "execute_result"
    }
   ],
   "source": [
    "\"let's play\""
   ]
  },
  {
   "cell_type": "code",
   "execution_count": 18,
   "id": "5fbf24c5-1e6b-41b3-9001-0e3069ae58b1",
   "metadata": {},
   "outputs": [],
   "source": [
    "message = \"\"\"\n",
    "Hello everyone,\n",
    "\n",
    "Welcome to the practice computing course\"\"\""
   ]
  },
  {
   "cell_type": "code",
   "execution_count": 19,
   "id": "976fc947-2d17-4045-8aa8-37a66c48b9ea",
   "metadata": {},
   "outputs": [
    {
     "name": "stdout",
     "output_type": "stream",
     "text": [
      "\n",
      "Hello everyone,\n",
      "\n",
      "Welcome to the practice computing course\n"
     ]
    }
   ],
   "source": [
    "print(message)"
   ]
  },
  {
   "cell_type": "markdown",
   "id": "869e8b0f-865b-486a-b2dd-a52d16e1759c",
   "metadata": {},
   "source": [
    "### String Formatting"
   ]
  },
  {
   "cell_type": "code",
   "execution_count": 21,
   "id": "47a2c6be-dfcd-4467-8c9e-129d5e12a214",
   "metadata": {},
   "outputs": [
    {
     "data": {
      "text/plain": [
       "'Hello python'"
      ]
     },
     "execution_count": 21,
     "metadata": {},
     "output_type": "execute_result"
    }
   ],
   "source": [
    "name = \"python\"\n",
    "message = f\"Hello {name}\"\n",
    "message"
   ]
  },
  {
   "cell_type": "markdown",
   "id": "cd466ecb-e452-4e95-a1ae-e0ea2bc13f3f",
   "metadata": {},
   "source": [
    "This is using f \" and { for format"
   ]
  },
  {
   "cell_type": "code",
   "execution_count": 24,
   "id": "42ea97ca-a497-43c9-8099-176b4c61c54b",
   "metadata": {},
   "outputs": [
    {
     "name": "stdout",
     "output_type": "stream",
     "text": [
      "5 x 1 = 5\n",
      "5 x 2 = 10\n",
      "5 x 3 = 15\n",
      "5 x 4 = 20\n",
      "5 x 5 = 25\n",
      "5 x 6 = 30\n",
      "5 x 7 = 35\n",
      "5 x 8 = 40\n",
      "5 x 9 = 45\n",
      "5 x 10 = 50\n"
     ]
    }
   ],
   "source": [
    "n = 5\n",
    "for i in range (1,11):\n",
    "    print(f\"{n} x {i} = {n*i}\")"
   ]
  },
  {
   "cell_type": "code",
   "execution_count": 25,
   "id": "ce8a9106-c81b-40e0-8873-12b488327635",
   "metadata": {},
   "outputs": [
    {
     "name": "stdout",
     "output_type": "stream",
     "text": [
      "12 x  1 =  12\n",
      "12 x  2 =  24\n",
      "12 x  3 =  36\n",
      "12 x  4 =  48\n",
      "12 x  5 =  60\n",
      "12 x  6 =  72\n",
      "12 x  7 =  84\n",
      "12 x  8 =  96\n",
      "12 x  9 = 108\n",
      "12 x 10 = 120\n"
     ]
    }
   ],
   "source": [
    "n = 12\n",
    "for i in range (1,11):\n",
    "    print(f\"{n:2d} x {i:2d} = {n*i:3d}\")"
   ]
  },
  {
   "cell_type": "markdown",
   "id": "2142e947-2b22-4738-bb53-c81b287eb330",
   "metadata": {},
   "source": [
    "Python supports unicode text too, like Kannada"
   ]
  },
  {
   "cell_type": "code",
   "execution_count": 28,
   "id": "d4132a97-9e95-4ffb-8900-e6aee0a29a8e",
   "metadata": {},
   "outputs": [
    {
     "name": "stdout",
     "output_type": "stream",
     "text": [
      "ಅಆಇ\n"
     ]
    }
   ],
   "source": [
    "print(\"\\u0c85\\u0c86\\u0c87\") # kannada"
   ]
  },
  {
   "cell_type": "code",
   "execution_count": 31,
   "id": "d61238da-1313-44db-9b49-40490d4b7110",
   "metadata": {},
   "outputs": [
    {
     "name": "stdout",
     "output_type": "stream",
     "text": [
      "😸😸😸😸😸😸😸😸😸😸\n"
     ]
    }
   ],
   "source": [
    "cat = \"\\U0001f638\"\n",
    "print(cat * 10)"
   ]
  },
  {
   "cell_type": "markdown",
   "id": "b38144a1-1b2b-40fa-bf20-8bbec51480f3",
   "metadata": {},
   "source": [
    "Anythime we use \\ it means it is like a special thing to read. If you want one \\ actually have to type it two times \\\\"
   ]
  },
  {
   "cell_type": "code",
   "execution_count": 32,
   "id": "ff2ad4a6-53cf-460e-ac3a-e45f355518e4",
   "metadata": {},
   "outputs": [
    {
     "name": "stdout",
     "output_type": "stream",
     "text": [
      "\\test\n"
     ]
    }
   ],
   "source": [
    "print(\"\\\\test\")"
   ]
  },
  {
   "cell_type": "markdown",
   "id": "4aac584e-cd5b-4f3e-bde6-693111fc69a2",
   "metadata": {},
   "source": [
    "## Lists"
   ]
  },
  {
   "cell_type": "code",
   "execution_count": 33,
   "id": "f0bc05ab-fae5-4115-9bae-207349c603c9",
   "metadata": {},
   "outputs": [],
   "source": [
    "x = [1, 2, 3, 4]"
   ]
  },
  {
   "cell_type": "code",
   "execution_count": 34,
   "id": "8d19a501-ac57-4e29-ba96-bf33f56773e2",
   "metadata": {},
   "outputs": [
    {
     "data": {
      "text/plain": [
       "[1, 2, 3, 4]"
      ]
     },
     "execution_count": 34,
     "metadata": {},
     "output_type": "execute_result"
    }
   ],
   "source": [
    "x"
   ]
  },
  {
   "cell_type": "code",
   "execution_count": 35,
   "id": "b5ee2322-640a-41b8-9306-e94421b4df3f",
   "metadata": {},
   "outputs": [
    {
     "data": {
      "text/plain": [
       "4"
      ]
     },
     "execution_count": 35,
     "metadata": {},
     "output_type": "execute_result"
    }
   ],
   "source": [
    "len(x)"
   ]
  },
  {
   "cell_type": "code",
   "execution_count": 36,
   "id": "7ab2bded-322e-47f1-80cb-6d6d99774b5c",
   "metadata": {},
   "outputs": [
    {
     "data": {
      "text/plain": [
       "5"
      ]
     },
     "execution_count": 36,
     "metadata": {},
     "output_type": "execute_result"
    }
   ],
   "source": [
    "len(\"hello\")"
   ]
  },
  {
   "cell_type": "code",
   "execution_count": 37,
   "id": "9b1df338-b447-47c0-8b58-6972516dda94",
   "metadata": {},
   "outputs": [
    {
     "data": {
      "text/plain": [
       "10"
      ]
     },
     "execution_count": 37,
     "metadata": {},
     "output_type": "execute_result"
    }
   ],
   "source": [
    "sum(x)"
   ]
  },
  {
   "cell_type": "code",
   "execution_count": 38,
   "id": "5f0fd700-e53d-4009-ad97-7c255e8144b2",
   "metadata": {},
   "outputs": [],
   "source": [
    "names = [\"Alice\", \"Bob\", \"Charlie\", \"Dave\"]"
   ]
  },
  {
   "cell_type": "code",
   "execution_count": 39,
   "id": "c58a9df5-04f3-45a9-ac77-e15147493817",
   "metadata": {},
   "outputs": [
    {
     "data": {
      "text/plain": [
       "4"
      ]
     },
     "execution_count": 39,
     "metadata": {},
     "output_type": "execute_result"
    }
   ],
   "source": [
    "len(names)"
   ]
  },
  {
   "cell_type": "code",
   "execution_count": 40,
   "id": "cd5f5d55-c650-4b61-838f-f3e8e709e809",
   "metadata": {},
   "outputs": [
    {
     "data": {
      "text/plain": [
       "'Alice'"
      ]
     },
     "execution_count": 40,
     "metadata": {},
     "output_type": "execute_result"
    }
   ],
   "source": [
    "names[0]"
   ]
  },
  {
   "cell_type": "code",
   "execution_count": 41,
   "id": "379af22b-69a5-4b45-ac98-2f99e76b26ea",
   "metadata": {},
   "outputs": [
    {
     "data": {
      "text/plain": [
       "'Bob'"
      ]
     },
     "execution_count": 41,
     "metadata": {},
     "output_type": "execute_result"
    }
   ],
   "source": [
    "names[1]"
   ]
  },
  {
   "cell_type": "code",
   "execution_count": 42,
   "id": "a9171355-3a5a-460c-b7aa-4d4d59405dfc",
   "metadata": {},
   "outputs": [
    {
     "data": {
      "text/plain": [
       "'Charlie'"
      ]
     },
     "execution_count": 42,
     "metadata": {},
     "output_type": "execute_result"
    }
   ],
   "source": [
    "names[2]"
   ]
  },
  {
   "cell_type": "code",
   "execution_count": 43,
   "id": "dc49ea93-e2cd-4d34-a76e-6a8283c322e2",
   "metadata": {},
   "outputs": [
    {
     "data": {
      "text/plain": [
       "'Dave'"
      ]
     },
     "execution_count": 43,
     "metadata": {},
     "output_type": "execute_result"
    }
   ],
   "source": [
    "names[3]"
   ]
  },
  {
   "cell_type": "code",
   "execution_count": 44,
   "id": "3349251d-680a-40b1-ab39-3c5af984e47d",
   "metadata": {},
   "outputs": [
    {
     "ename": "IndexError",
     "evalue": "list index out of range",
     "output_type": "error",
     "traceback": [
      "\u001b[1;31m---------------------------------------------------------------------------\u001b[0m",
      "\u001b[1;31mIndexError\u001b[0m                                Traceback (most recent call last)",
      "Cell \u001b[1;32mIn[44], line 1\u001b[0m\n\u001b[1;32m----> 1\u001b[0m \u001b[43mnames\u001b[49m\u001b[43m[\u001b[49m\u001b[38;5;241;43m4\u001b[39;49m\u001b[43m]\u001b[49m\n",
      "\u001b[1;31mIndexError\u001b[0m: list index out of range"
     ]
    }
   ],
   "source": [
    "names[4]"
   ]
  },
  {
   "cell_type": "markdown",
   "id": "16350d6a-f60c-43a1-9b18-51a9906c5246",
   "metadata": {},
   "source": [
    "We can use a for loop to iterate over values of a list"
   ]
  },
  {
   "cell_type": "code",
   "execution_count": 46,
   "id": "86ab99ad-2ba0-4cdb-9799-095a2843710b",
   "metadata": {},
   "outputs": [
    {
     "name": "stdout",
     "output_type": "stream",
     "text": [
      "Hello Alice\n",
      "Hello Bob\n",
      "Hello Charlie\n",
      "Hello Dave\n"
     ]
    }
   ],
   "source": [
    "for potato in names:\n",
    "    print(\"Hello\", potato)"
   ]
  },
  {
   "cell_type": "markdown",
   "id": "62feadb1-3e20-4638-936e-f48aaf039c84",
   "metadata": {},
   "source": [
    "^ that is a \"for loop\" and it recognizes you want to talk about the items in list!"
   ]
  },
  {
   "cell_type": "markdown",
   "id": "6bbf6610-2986-4411-b000-a975d979f3e2",
   "metadata": {},
   "source": [
    "### Dictionaries"
   ]
  },
  {
   "cell_type": "code",
   "execution_count": 52,
   "id": "03cb15f2-ca38-4472-9e99-9b55ef7a453f",
   "metadata": {},
   "outputs": [],
   "source": [
    "phone_numbers = {\n",
    "    \"Alice\": 1234,\n",
    "    \"Bob\": 2345,\n",
    "    \"Charlie\": 3456,\n",
    "    \"Dave\": 4567\n",
    "}"
   ]
  },
  {
   "cell_type": "code",
   "execution_count": 48,
   "id": "9d1aed71-7902-4a7a-b817-0b638c6101f4",
   "metadata": {},
   "outputs": [
    {
     "data": {
      "text/plain": [
       "1234"
      ]
     },
     "execution_count": 48,
     "metadata": {},
     "output_type": "execute_result"
    }
   ],
   "source": [
    "phone_numbers[\"Alice\"]"
   ]
  },
  {
   "cell_type": "code",
   "execution_count": 49,
   "id": "0f9c06ad-44b5-4b3b-8914-c0a310e6c757",
   "metadata": {},
   "outputs": [
    {
     "data": {
      "text/plain": [
       "3456"
      ]
     },
     "execution_count": 49,
     "metadata": {},
     "output_type": "execute_result"
    }
   ],
   "source": [
    "phone_numbers[\"Charlie\"]"
   ]
  },
  {
   "cell_type": "code",
   "execution_count": 50,
   "id": "e777915c-3e77-4078-9acc-bf4030a80ef0",
   "metadata": {},
   "outputs": [
    {
     "data": {
      "text/plain": [
       "True"
      ]
     },
     "execution_count": 50,
     "metadata": {},
     "output_type": "execute_result"
    }
   ],
   "source": [
    "\"Alice\" in phone_numbers"
   ]
  },
  {
   "cell_type": "code",
   "execution_count": 51,
   "id": "232edca5-c65c-4de7-9e71-44093ec0b281",
   "metadata": {},
   "outputs": [
    {
     "data": {
      "text/plain": [
       "False"
      ]
     },
     "execution_count": 51,
     "metadata": {},
     "output_type": "execute_result"
    }
   ],
   "source": [
    "\"Zoe\" in phone_numbers"
   ]
  },
  {
   "cell_type": "code",
   "execution_count": 54,
   "id": "b4548483-2f1a-4380-bb73-9da472d50fd6",
   "metadata": {},
   "outputs": [
    {
     "data": {
      "text/plain": [
       "False"
      ]
     },
     "execution_count": 54,
     "metadata": {},
     "output_type": "execute_result"
    }
   ],
   "source": [
    "\"Dave\" not in phone_numbers"
   ]
  },
  {
   "cell_type": "code",
   "execution_count": 60,
   "id": "4271d577-7a85-4538-9ad8-925882f7b55a",
   "metadata": {},
   "outputs": [
    {
     "data": {
      "text/plain": [
       "True"
      ]
     },
     "execution_count": 60,
     "metadata": {},
     "output_type": "execute_result"
    }
   ],
   "source": [
    "(\"Alice\" and \"Dave\") in phone_numbers"
   ]
  },
  {
   "cell_type": "code",
   "execution_count": 58,
   "id": "6ee9048b-32c6-4d56-85ba-22ed60e525b0",
   "metadata": {},
   "outputs": [
    {
     "data": {
      "text/plain": [
       "True"
      ]
     },
     "execution_count": 58,
     "metadata": {},
     "output_type": "execute_result"
    }
   ],
   "source": [
    "(\"Alice\" or \"Zoe\") in phone_numbers"
   ]
  },
  {
   "cell_type": "code",
   "execution_count": 59,
   "id": "1de4fe07-beb9-4876-9c9a-0340df4eb63e",
   "metadata": {},
   "outputs": [
    {
     "data": {
      "text/plain": [
       "False"
      ]
     },
     "execution_count": 59,
     "metadata": {},
     "output_type": "execute_result"
    }
   ],
   "source": [
    "(\"John\" or \"Zoe\") in phone_numbers"
   ]
  },
  {
   "cell_type": "markdown",
   "id": "2ffe6b01-4584-43d0-b7fe-2424b30ffd29",
   "metadata": {},
   "source": [
    "Lists and dictionaries could be nested"
   ]
  },
  {
   "cell_type": "code",
   "execution_count": 61,
   "id": "f9c156f0-e921-46b8-a5df-5400bc3770a3",
   "metadata": {},
   "outputs": [],
   "source": [
    "records = [\n",
    "    {\"name\": \"Alice\", \"phone\": 1234},\n",
    "    {\"name\": \"Bob\", \"phone\": 2345},\n",
    "    {\"name\": \"Charlie\", \"phone\": 5678},\n",
    "    {\"name\": \"Dave\", \"phone\": 9876},]"
   ]
  },
  {
   "cell_type": "code",
   "execution_count": 62,
   "id": "d56936ad-36f1-4ab7-a1aa-8cd01c0499c1",
   "metadata": {},
   "outputs": [
    {
     "data": {
      "text/plain": [
       "1234"
      ]
     },
     "execution_count": 62,
     "metadata": {},
     "output_type": "execute_result"
    }
   ],
   "source": [
    "records[0]['phone']"
   ]
  },
  {
   "cell_type": "markdown",
   "id": "c25ef9c5-2399-411f-9d82-364915b6d9d8",
   "metadata": {},
   "source": [
    "Dictionary can just keep one defintion per term, like \"Alice\" will only have one value\n"
   ]
  },
  {
   "cell_type": "markdown",
   "id": "5831d3f3-9855-4150-a96d-49c992bf4072",
   "metadata": {},
   "source": [
    "## Functions, Methos & Modules"
   ]
  },
  {
   "cell_type": "code",
   "execution_count": 64,
   "id": "f0a9f552-c434-42f6-8c5e-84e963d2c92a",
   "metadata": {},
   "outputs": [
    {
     "data": {
      "text/plain": [
       "15"
      ]
     },
     "execution_count": 64,
     "metadata": {},
     "output_type": "execute_result"
    }
   ],
   "source": [
    "sum([1,2,3,4,5])"
   ]
  },
  {
   "cell_type": "markdown",
   "id": "ef6b49ba-c56e-45b1-a95b-d5fd387c956d",
   "metadata": {},
   "source": [
    "Python does not support operations on incompatible data types"
   ]
  },
  {
   "cell_type": "code",
   "execution_count": 65,
   "id": "abb5ccb3-3a38-4673-9fee-07a83df9e74c",
   "metadata": {},
   "outputs": [
    {
     "ename": "TypeError",
     "evalue": "unsupported operand type(s) for +: 'int' and 'str'",
     "output_type": "error",
     "traceback": [
      "\u001b[1;31m---------------------------------------------------------------------------\u001b[0m",
      "\u001b[1;31mTypeError\u001b[0m                                 Traceback (most recent call last)",
      "Cell \u001b[1;32mIn[65], line 1\u001b[0m\n\u001b[1;32m----> 1\u001b[0m \u001b[38;5;241;43m1\u001b[39;49m\u001b[43m \u001b[49m\u001b[38;5;241;43m+\u001b[39;49m\u001b[43m \u001b[49m\u001b[38;5;124;43m\"\u001b[39;49m\u001b[38;5;124;43m2\u001b[39;49m\u001b[38;5;124;43m\"\u001b[39;49m\n",
      "\u001b[1;31mTypeError\u001b[0m: unsupported operand type(s) for +: 'int' and 'str'"
     ]
    }
   ],
   "source": [
    "1 + \"2\""
   ]
  },
  {
   "cell_type": "code",
   "execution_count": 66,
   "id": "e701700e-2fd6-4f46-acc7-3deb56905a25",
   "metadata": {},
   "outputs": [
    {
     "data": {
      "text/plain": [
       "'12'"
      ]
     },
     "execution_count": 66,
     "metadata": {},
     "output_type": "execute_result"
    }
   ],
   "source": [
    "str(1) + \"2\""
   ]
  },
  {
   "cell_type": "code",
   "execution_count": 68,
   "id": "cd4e0d00-c69e-4514-855f-b5c91efb5d82",
   "metadata": {},
   "outputs": [
    {
     "data": {
      "text/plain": [
       "3"
      ]
     },
     "execution_count": 68,
     "metadata": {},
     "output_type": "execute_result"
    }
   ],
   "source": [
    "1 + int(\"2\")"
   ]
  },
  {
   "cell_type": "markdown",
   "id": "184dc36d-7725-4c37-a9c2-948d7223527d",
   "metadata": {},
   "source": [
    "#### Example: Counting number of digits in a number"
   ]
  },
  {
   "cell_type": "code",
   "execution_count": 69,
   "id": "f92777b6-be9c-46f7-9222-df540705b859",
   "metadata": {},
   "outputs": [
    {
     "data": {
      "text/plain": [
       "10715086071862673209484250490600018105614048117055336074437503883703510511249361224931983788156958581275946729175531468251871452856923140435984577574698574803934567774824230985421074605062371141877954182153046474983581941267398767559165543946077062914571196477686542167660429831652624386837205668069376"
      ]
     },
     "execution_count": 69,
     "metadata": {},
     "output_type": "execute_result"
    }
   ],
   "source": [
    "2**1000"
   ]
  },
  {
   "cell_type": "code",
   "execution_count": 70,
   "id": "c1d76238-59ad-4fc4-9682-a470c0030ef0",
   "metadata": {},
   "outputs": [
    {
     "data": {
      "text/plain": [
       "5"
      ]
     },
     "execution_count": 70,
     "metadata": {},
     "output_type": "execute_result"
    }
   ],
   "source": [
    "len(str(12345))"
   ]
  },
  {
   "cell_type": "code",
   "execution_count": 71,
   "id": "52588f4d-d161-4861-b7fc-c8cff1430bbf",
   "metadata": {},
   "outputs": [
    {
     "data": {
      "text/plain": [
       "302"
      ]
     },
     "execution_count": 71,
     "metadata": {},
     "output_type": "execute_result"
    }
   ],
   "source": [
    "len(str(2**1000))"
   ]
  },
  {
   "cell_type": "markdown",
   "id": "f98f6874-8056-483c-b4c7-457dfed28435",
   "metadata": {},
   "source": [
    "### Writing our own functions"
   ]
  },
  {
   "cell_type": "code",
   "execution_count": 72,
   "id": "734e82bc-4153-4f69-a148-dab131dd0340",
   "metadata": {},
   "outputs": [],
   "source": [
    "def square(x):\n",
    "    return x*x"
   ]
  },
  {
   "cell_type": "code",
   "execution_count": 73,
   "id": "720b79fa-185b-4f84-99ec-1b72de1569fe",
   "metadata": {},
   "outputs": [
    {
     "data": {
      "text/plain": [
       "16"
      ]
     },
     "execution_count": 73,
     "metadata": {},
     "output_type": "execute_result"
    }
   ],
   "source": [
    "square(4)"
   ]
  },
  {
   "cell_type": "code",
   "execution_count": 76,
   "id": "82ece308-2185-4c33-824d-71f5e193ca17",
   "metadata": {},
   "outputs": [],
   "source": [
    "def square (x):\n",
    "    y = x*x\n",
    "    return y"
   ]
  },
  {
   "cell_type": "code",
   "execution_count": 77,
   "id": "1ab55cb2-5592-4bbc-98bd-2abe2da98e0a",
   "metadata": {},
   "outputs": [
    {
     "data": {
      "text/plain": [
       "16"
      ]
     },
     "execution_count": 77,
     "metadata": {},
     "output_type": "execute_result"
    }
   ],
   "source": [
    "square(4)"
   ]
  },
  {
   "cell_type": "code",
   "execution_count": 78,
   "id": "2f21c038-fc91-48d7-9885-c7e0232caac2",
   "metadata": {},
   "outputs": [
    {
     "data": {
      "text/plain": [
       "81"
      ]
     },
     "execution_count": 78,
     "metadata": {},
     "output_type": "execute_result"
    }
   ],
   "source": [
    "square(9)"
   ]
  },
  {
   "cell_type": "code",
   "execution_count": 79,
   "id": "f916fdb5-1423-4b1b-aa27-175325c29067",
   "metadata": {},
   "outputs": [],
   "source": [
    "def newguy (x):\n",
    "    y = x*x + 7\n",
    "    return y"
   ]
  },
  {
   "cell_type": "code",
   "execution_count": 80,
   "id": "f3b3a973-915e-46be-9240-9f6db3290a4f",
   "metadata": {},
   "outputs": [
    {
     "data": {
      "text/plain": [
       "16"
      ]
     },
     "execution_count": 80,
     "metadata": {},
     "output_type": "execute_result"
    }
   ],
   "source": [
    "newguy(3)"
   ]
  },
  {
   "cell_type": "code",
   "execution_count": 81,
   "id": "f3d0cbcd-e612-46b5-92f8-c0f4c3fbf0fa",
   "metadata": {},
   "outputs": [],
   "source": [
    "def add(x,y):\n",
    "    z = x + y\n",
    "    return z"
   ]
  },
  {
   "cell_type": "code",
   "execution_count": 82,
   "id": "32461cdd-14cb-4f09-b94e-f12d48f12f3c",
   "metadata": {},
   "outputs": [
    {
     "data": {
      "text/plain": [
       "7"
      ]
     },
     "execution_count": 82,
     "metadata": {},
     "output_type": "execute_result"
    }
   ],
   "source": [
    "add(3,4)"
   ]
  },
  {
   "cell_type": "code",
   "execution_count": 83,
   "id": "2df9112a-e7ac-4f31-a2d3-e9589f74bd10",
   "metadata": {},
   "outputs": [
    {
     "name": "stdout",
     "output_type": "stream",
     "text": [
      "16\n",
      "5\n"
     ]
    }
   ],
   "source": [
    "y = 5\n",
    "def square(x):\n",
    "    y = x*x\n",
    "    return y\n",
    "print(square(4))\n",
    "print(y)"
   ]
  },
  {
   "cell_type": "markdown",
   "id": "7a400eeb-2b28-4e49-8797-2cc5cbeec1db",
   "metadata": {},
   "source": [
    "This works because y in square is a local variable!"
   ]
  },
  {
   "cell_type": "code",
   "execution_count": 84,
   "id": "400bb676-1ead-4ef0-b984-16750e8baced",
   "metadata": {},
   "outputs": [
    {
     "name": "stdout",
     "output_type": "stream",
     "text": [
      "25 5\n"
     ]
    }
   ],
   "source": [
    "print(square(y),y)"
   ]
  },
  {
   "cell_type": "code",
   "execution_count": 85,
   "id": "5ad6818c-e19d-4ad6-9433-7c2e849e1174",
   "metadata": {},
   "outputs": [
    {
     "name": "stdout",
     "output_type": "stream",
     "text": [
      "15\n",
      "25\n"
     ]
    }
   ],
   "source": [
    "def f(x):\n",
    "    z = x + y\n",
    "    return z\n",
    "print(f(10))\n",
    "print(f(20))"
   ]
  },
  {
   "cell_type": "markdown",
   "id": "07f32529-cda8-428d-b9e6-5429478cd4d3",
   "metadata": {},
   "source": [
    "**Problem** Write  function \"count_digits\" that takes a number as argument and reterns # of digits it has"
   ]
  },
  {
   "cell_type": "code",
   "execution_count": 87,
   "id": "8030798e-e8f4-4b5c-a402-0c2ed8d49892",
   "metadata": {},
   "outputs": [],
   "source": [
    "def count_digits(x):\n",
    "    y = len(str(x))\n",
    "    return y\n"
   ]
  },
  {
   "cell_type": "code",
   "execution_count": 88,
   "id": "7fe79358-c0ca-4ca3-a073-3e72eefc8a97",
   "metadata": {},
   "outputs": [
    {
     "data": {
      "text/plain": [
       "24"
      ]
     },
     "execution_count": 88,
     "metadata": {},
     "output_type": "execute_result"
    }
   ],
   "source": [
    "count_digits(172479375623975932759273)"
   ]
  },
  {
   "cell_type": "code",
   "execution_count": 99,
   "id": "832914f2-46c0-4fae-86ee-b3bd57392100",
   "metadata": {},
   "outputs": [
    {
     "data": {
      "text/plain": [
       "21"
      ]
     },
     "execution_count": 99,
     "metadata": {},
     "output_type": "execute_result"
    }
   ],
   "source": [
    "list = [1,2,3,4,5,6]\n",
    "len(list)\n",
    "sum(list)"
   ]
  },
  {
   "cell_type": "code",
   "execution_count": 100,
   "id": "669b1383-3b41-45e2-868d-98968154f810",
   "metadata": {},
   "outputs": [],
   "source": [
    "def mean(list):\n",
    "    y = sum(list)/len(list)\n",
    "    return y"
   ]
  },
  {
   "cell_type": "code",
   "execution_count": 101,
   "id": "8d082d60-eede-4786-ba13-93d595b82d8b",
   "metadata": {},
   "outputs": [
    {
     "data": {
      "text/plain": [
       "3.5"
      ]
     },
     "execution_count": 101,
     "metadata": {},
     "output_type": "execute_result"
    }
   ],
   "source": [
    "mean(list)"
   ]
  },
  {
   "cell_type": "code",
   "execution_count": 102,
   "id": "0809ce4c-8002-4533-9a26-27e206a2ebbc",
   "metadata": {},
   "outputs": [
    {
     "data": {
      "text/plain": [
       "2.75"
      ]
     },
     "execution_count": 102,
     "metadata": {},
     "output_type": "execute_result"
    }
   ],
   "source": [
    "mean([2,3,4,2])"
   ]
  },
  {
   "cell_type": "markdown",
   "id": "e54288b9-e7b2-4dd8-97c2-5ad6ffc1713d",
   "metadata": {},
   "source": [
    "## Methods"
   ]
  },
  {
   "cell_type": "code",
   "execution_count": 104,
   "id": "90ad58ec-fbb8-4b8b-b4af-ddc45a0c5c14",
   "metadata": {},
   "outputs": [],
   "source": [
    "x = 'hello'"
   ]
  },
  {
   "cell_type": "code",
   "execution_count": 105,
   "id": "5a316f3b-0dae-4e2d-8827-87f60cf90e04",
   "metadata": {},
   "outputs": [
    {
     "data": {
      "text/plain": [
       "5"
      ]
     },
     "execution_count": 105,
     "metadata": {},
     "output_type": "execute_result"
    }
   ],
   "source": [
    "len(x)"
   ]
  },
  {
   "cell_type": "code",
   "execution_count": 106,
   "id": "21d3798b-be1c-4f3d-bf2b-a4d34ac60fe9",
   "metadata": {},
   "outputs": [
    {
     "data": {
      "text/plain": [
       "'HELLO'"
      ]
     },
     "execution_count": 106,
     "metadata": {},
     "output_type": "execute_result"
    }
   ],
   "source": [
    "x.upper()"
   ]
  },
  {
   "cell_type": "markdown",
   "id": "c8600889-d628-482a-ae8f-5e1467e8d5ca",
   "metadata": {},
   "source": [
    "Upper is a method available on string objects. they work on an object. The format is \"something\"\".\"\"Something\""
   ]
  },
  {
   "cell_type": "code",
   "execution_count": 107,
   "id": "0749e564-ce38-4478-ae98-e77728e0bcbe",
   "metadata": {},
   "outputs": [],
   "source": [
    "y = 'good bye'"
   ]
  },
  {
   "cell_type": "code",
   "execution_count": 108,
   "id": "7964fb23-adeb-4d7c-9058-715cb8bdf8c5",
   "metadata": {},
   "outputs": [
    {
     "data": {
      "text/plain": [
       "'GOOD BYE'"
      ]
     },
     "execution_count": 108,
     "metadata": {},
     "output_type": "execute_result"
    }
   ],
   "source": [
    "y.upper()"
   ]
  },
  {
   "cell_type": "markdown",
   "id": "0976fe35-1718-4da1-be46-dfcf4ecea88e",
   "metadata": {},
   "source": [
    "Methods can also take arguments."
   ]
  },
  {
   "cell_type": "code",
   "execution_count": 109,
   "id": "0f69a713-127f-4c22-95f3-deb989aa0c6d",
   "metadata": {},
   "outputs": [
    {
     "data": {
      "text/plain": [
       "2"
      ]
     },
     "execution_count": 109,
     "metadata": {},
     "output_type": "execute_result"
    }
   ],
   "source": [
    "\"mathematics\".count(\"mat\")"
   ]
  },
  {
   "cell_type": "code",
   "execution_count": 110,
   "id": "59d9e883-1b6d-464b-b5cd-d83b843c3ba7",
   "metadata": {},
   "outputs": [
    {
     "data": {
      "text/plain": [
       "'ratheratics'"
      ]
     },
     "execution_count": 110,
     "metadata": {},
     "output_type": "execute_result"
    }
   ],
   "source": [
    "\"mathematics\".replace(\"mat\",\"rat\")"
   ]
  },
  {
   "cell_type": "code",
   "execution_count": 113,
   "id": "0dccb958-2065-4505-a40c-7e6b699ea60e",
   "metadata": {},
   "outputs": [
    {
     "data": {
      "text/plain": [
       "<_io.TextIOWrapper name='five.txt' mode='r' encoding='cp1252'>"
      ]
     },
     "execution_count": 113,
     "metadata": {},
     "output_type": "execute_result"
    }
   ],
   "source": [
    "open(\"five.txt\")\n"
   ]
  },
  {
   "cell_type": "code",
   "execution_count": 114,
   "id": "c760bbf4-a2a9-4e99-82e3-5dd5df86f04e",
   "metadata": {},
   "outputs": [
    {
     "data": {
      "text/plain": [
       "['one']"
      ]
     },
     "execution_count": 114,
     "metadata": {},
     "output_type": "execute_result"
    }
   ],
   "source": [
    "open(\"five.txt\").readline().strip().split()"
   ]
  },
  {
   "cell_type": "code",
   "execution_count": 116,
   "id": "ffc965f0-18d0-4a2c-835a-1a34541d6b14",
   "metadata": {},
   "outputs": [
    {
     "data": {
      "text/plain": [
       "['1', 'one']"
      ]
     },
     "execution_count": 116,
     "metadata": {},
     "output_type": "execute_result"
    }
   ],
   "source": [
    "open(\"five.txt\").readline().strip().split()"
   ]
  },
  {
   "cell_type": "code",
   "execution_count": 117,
   "id": "fbb14e54-9cb4-40a4-a3f1-d1ac58ae417c",
   "metadata": {},
   "outputs": [],
   "source": [
    "sentence = \"Anything that can go wrong, will go wrong.\""
   ]
  },
  {
   "cell_type": "code",
   "execution_count": 118,
   "id": "5402f11b-efed-48fb-a7f8-4490bb9ff494",
   "metadata": {},
   "outputs": [
    {
     "data": {
      "text/plain": [
       "['Anything', 'that', 'can', 'go', 'wrong,', 'will', 'go', 'wrong.']"
      ]
     },
     "execution_count": 118,
     "metadata": {},
     "output_type": "execute_result"
    }
   ],
   "source": [
    "sentence.split()"
   ]
  },
  {
   "cell_type": "markdown",
   "id": "ab528a3d-9d9d-40b0-84e7-11e0dba8f79d",
   "metadata": {},
   "source": [
    "The split() methof splits on white space"
   ]
  },
  {
   "cell_type": "code",
   "execution_count": 120,
   "id": "732cf15e-cac8-4767-9b18-6a54f6c283f7",
   "metadata": {},
   "outputs": [
    {
     "data": {
      "text/plain": [
       "['Anything that can go wrong', ' will go wrong.']"
      ]
     },
     "execution_count": 120,
     "metadata": {},
     "output_type": "execute_result"
    }
   ],
   "source": [
    "sentence.split(\",\")"
   ]
  },
  {
   "cell_type": "code",
   "execution_count": 121,
   "id": "8ccb5728-43c1-4cf8-b3fa-743b45c123b9",
   "metadata": {},
   "outputs": [
    {
     "data": {
      "text/plain": [
       "['Anything that can go wrong', 'will go wrong.']"
      ]
     },
     "execution_count": 121,
     "metadata": {},
     "output_type": "execute_result"
    }
   ],
   "source": [
    "sentence.split(\", \")"
   ]
  },
  {
   "cell_type": "markdown",
   "id": "f684875d-763e-4824-b8da-4a9b3315106a",
   "metadata": {},
   "source": [
    "Let's see how to join back"
   ]
  },
  {
   "cell_type": "code",
   "execution_count": 122,
   "id": "6220592d-4e45-43a6-b6a5-87fffb6c765e",
   "metadata": {},
   "outputs": [],
   "source": [
    "sep = \"-\""
   ]
  },
  {
   "cell_type": "code",
   "execution_count": 123,
   "id": "d70e2d55-5148-4ff5-bdcd-66f2df65a3ff",
   "metadata": {},
   "outputs": [
    {
     "data": {
      "text/plain": [
       "'a-b-c'"
      ]
     },
     "execution_count": 123,
     "metadata": {},
     "output_type": "execute_result"
    }
   ],
   "source": [
    "sep.join([\"a\",\"b\",\"c\"])"
   ]
  },
  {
   "cell_type": "code",
   "execution_count": 124,
   "id": "66504456-3c1d-47e4-9a20-17be727db80f",
   "metadata": {},
   "outputs": [
    {
     "data": {
      "text/plain": [
       "'Anything that can go wrong, will go wrong.'"
      ]
     },
     "execution_count": 124,
     "metadata": {},
     "output_type": "execute_result"
    }
   ],
   "source": [
    "sentence"
   ]
  },
  {
   "cell_type": "code",
   "execution_count": 125,
   "id": "d7e5f8bc-7ecd-4b3b-8b4c-a09b12e576b4",
   "metadata": {},
   "outputs": [
    {
     "data": {
      "text/plain": [
       "'Anything-that-can-go-wrong,-will-go-wrong.'"
      ]
     },
     "execution_count": 125,
     "metadata": {},
     "output_type": "execute_result"
    }
   ],
   "source": [
    "\"-\".join(sentence.split())"
   ]
  },
  {
   "cell_type": "code",
   "execution_count": 126,
   "id": "0ac5deb5-f786-49d3-aa46-1d6e23089a96",
   "metadata": {},
   "outputs": [
    {
     "name": "stdout",
     "output_type": "stream",
     "text": [
      "Anything-that-can-go-wrong,-will-go-wrong.\n"
     ]
    }
   ],
   "source": [
    "print(\"-\".join(sentence.split()))"
   ]
  },
  {
   "cell_type": "markdown",
   "id": "bbcd90a7-e58a-4384-914d-b24c42904b0d",
   "metadata": {},
   "source": [
    "strip takes away white space"
   ]
  },
  {
   "cell_type": "code",
   "execution_count": 131,
   "id": "0e64f61b-98f9-4c17-9ab5-0339a4e12363",
   "metadata": {},
   "outputs": [],
   "source": [
    "name = \"   2     python  \""
   ]
  },
  {
   "cell_type": "code",
   "execution_count": 132,
   "id": "74d41684-3fc5-46f7-8d86-d88c7aa69405",
   "metadata": {},
   "outputs": [
    {
     "data": {
      "text/plain": [
       "'2     python'"
      ]
     },
     "execution_count": 132,
     "metadata": {},
     "output_type": "execute_result"
    }
   ],
   "source": [
    "name.strip()"
   ]
  },
  {
   "cell_type": "markdown",
   "id": "379e2c1c-545c-4e17-bfa8-ca08f679c83e",
   "metadata": {},
   "source": [
    "Write a function \"count_words\" that takes a sentence as argument and returns the number of words it has."
   ]
  },
  {
   "cell_type": "code",
   "execution_count": 145,
   "id": "3b7f2d31-dedb-4c39-9328-f3637b7d58a8",
   "metadata": {},
   "outputs": [],
   "source": [
    "phrase = \"The quick brown fox jumps over the lazy dog\"\n",
    "def countwords(phrase):\n",
    "    y = len(phrase.split())\n",
    "    return y\n",
    "    "
   ]
  },
  {
   "cell_type": "code",
   "execution_count": 146,
   "id": "b7651a39-8227-4ed9-b615-d919ae61df90",
   "metadata": {},
   "outputs": [
    {
     "data": {
      "text/plain": [
       "9"
      ]
     },
     "execution_count": 146,
     "metadata": {},
     "output_type": "execute_result"
    }
   ],
   "source": [
    "countwords(phrase)"
   ]
  },
  {
   "cell_type": "code",
   "execution_count": 147,
   "id": "6dbb8708-595b-4a1e-989d-82d18cecdb75",
   "metadata": {},
   "outputs": [
    {
     "name": "stdout",
     "output_type": "stream",
     "text": [
      "Writing three.txt\n"
     ]
    }
   ],
   "source": [
    "%%file three.txt\n",
    "one\n",
    "two\n",
    "three"
   ]
  },
  {
   "cell_type": "code",
   "execution_count": 150,
   "id": "8479b9c7-93df-407d-9c6c-bfe808c8182e",
   "metadata": {},
   "outputs": [
    {
     "data": {
      "text/plain": [
       "'one\\ntwo\\nthree\\n'"
      ]
     },
     "execution_count": 150,
     "metadata": {},
     "output_type": "execute_result"
    }
   ],
   "source": [
    "# read all the contents as a single string\n",
    "open(\"three.txt\").read()"
   ]
  },
  {
   "cell_type": "code",
   "execution_count": 151,
   "id": "f665112f-d545-4b98-8080-19471d64b48a",
   "metadata": {},
   "outputs": [
    {
     "data": {
      "text/plain": [
       "['one\\n', 'two\\n', 'three\\n']"
      ]
     },
     "execution_count": 151,
     "metadata": {},
     "output_type": "execute_result"
    }
   ],
   "source": [
    "# read all the lines\n",
    "open(\"three.txt\").readlines()"
   ]
  },
  {
   "cell_type": "code",
   "execution_count": 152,
   "id": "df14d1d1-18b9-409b-acb4-f3fd3e83a4af",
   "metadata": {},
   "outputs": [],
   "source": [
    "contents = open(\"three.txt\").read()"
   ]
  },
  {
   "cell_type": "code",
   "execution_count": 153,
   "id": "934f5a68-7dab-4b51-88d6-4b59f58955b5",
   "metadata": {},
   "outputs": [
    {
     "data": {
      "text/plain": [
       "'one\\ntwo\\nthree\\n'"
      ]
     },
     "execution_count": 153,
     "metadata": {},
     "output_type": "execute_result"
    }
   ],
   "source": [
    "contents"
   ]
  },
  {
   "cell_type": "code",
   "execution_count": 154,
   "id": "f1a30858-a852-4bbb-85b6-842cc374adfe",
   "metadata": {},
   "outputs": [
    {
     "name": "stdout",
     "output_type": "stream",
     "text": [
      "one\n",
      "two\n",
      "three\n",
      "\n"
     ]
    }
   ],
   "source": [
    "print(contents)"
   ]
  },
  {
   "cell_type": "markdown",
   "id": "eb41c577-98ec-4dfa-994b-abccc4327822",
   "metadata": {},
   "source": [
    "**Problem:** Write a function 'count_lines\" that takes a filename as argument and returns number of lines in the file"
   ]
  },
  {
   "cell_type": "code",
   "execution_count": 155,
   "id": "616572b3-5887-4915-b78f-353f0837b640",
   "metadata": {},
   "outputs": [],
   "source": [
    "def count_lines(filename):\n",
    "    lines = open(filename).readlines()\n",
    "    return len(lines)"
   ]
  },
  {
   "cell_type": "code",
   "execution_count": 156,
   "id": "a40730c9-44b7-4b02-8ebb-51435f9792c7",
   "metadata": {},
   "outputs": [
    {
     "data": {
      "text/plain": [
       "3"
      ]
     },
     "execution_count": 156,
     "metadata": {},
     "output_type": "execute_result"
    }
   ],
   "source": [
    "count_lines(\"three.txt\")"
   ]
  },
  {
   "cell_type": "markdown",
   "id": "fb87c684-9d4a-4b96-bf4d-64148220373b",
   "metadata": {},
   "source": [
    "## Modules"
   ]
  },
  {
   "cell_type": "code",
   "execution_count": 157,
   "id": "b10f9443-7732-47f2-8840-567b50719629",
   "metadata": {},
   "outputs": [],
   "source": [
    "import os"
   ]
  },
  {
   "cell_type": "code",
   "execution_count": 158,
   "id": "c3eb1de2-a988-4931-a08a-731bd06a0529",
   "metadata": {},
   "outputs": [
    {
     "data": {
      "text/plain": [
       "'C:\\\\Users\\\\vicki\\\\OneDrive\\\\Documents\\\\Github\\\\practicalcomputing\\\\notebooks'"
      ]
     },
     "execution_count": 158,
     "metadata": {},
     "output_type": "execute_result"
    }
   ],
   "source": [
    "os.getcwd()"
   ]
  },
  {
   "cell_type": "code",
   "execution_count": 159,
   "id": "3d01dddf-a72e-4c0d-83cd-1bce6f13ed0c",
   "metadata": {},
   "outputs": [
    {
     "data": {
      "text/plain": [
       "['.ipynb_checkpoints',\n",
       " '0-introduction-to-jupytelab.ipynb',\n",
       " '1-taste-of-python.ipynb',\n",
       " 'assignment-01.ipynb',\n",
       " 'five.txt',\n",
       " 'hello.py',\n",
       " 'Introduction to Python Class 2.ipynb',\n",
       " 'test.py',\n",
       " 'three.txt']"
      ]
     },
     "execution_count": 159,
     "metadata": {},
     "output_type": "execute_result"
    }
   ],
   "source": [
    "# list all the files in the current directory\n",
    "os.listdir()"
   ]
  },
  {
   "cell_type": "markdown",
   "id": "1bf743b5-a824-475b-8eed-72a0891be3c3",
   "metadata": {},
   "source": [
    "Basically if you press os and tab and sometimes shift tab you get lots of info on different things!"
   ]
  },
  {
   "cell_type": "code",
   "execution_count": 160,
   "id": "b0cf18a7-3b2a-4c79-b762-760e527ae265",
   "metadata": {},
   "outputs": [
    {
     "data": {
      "text/plain": [
       "['.ipynb_checkpoints',\n",
       " '0-introduction-to-jupytelab.ipynb',\n",
       " '1-taste-of-python.ipynb',\n",
       " 'assignment-01.ipynb',\n",
       " 'five.txt',\n",
       " 'hello.py',\n",
       " 'Introduction to Python Class 2.ipynb',\n",
       " 'test.py',\n",
       " 'three.txt']"
      ]
     },
     "execution_count": 160,
     "metadata": {},
     "output_type": "execute_result"
    }
   ],
   "source": [
    "os.listdir(\".\")"
   ]
  },
  {
   "cell_type": "code",
   "execution_count": 161,
   "id": "3cb76f3a-d7d7-4c3d-aa93-578ba221e37a",
   "metadata": {},
   "outputs": [],
   "source": [
    "import time"
   ]
  },
  {
   "cell_type": "code",
   "execution_count": 162,
   "id": "eb2c5694-f46d-450c-af64-b53d8a66fa03",
   "metadata": {},
   "outputs": [
    {
     "data": {
      "text/plain": [
       "'Mon Oct 14 17:35:36 2024'"
      ]
     },
     "execution_count": 162,
     "metadata": {},
     "output_type": "execute_result"
    }
   ],
   "source": [
    "time.asctime()"
   ]
  },
  {
   "cell_type": "code",
   "execution_count": 163,
   "id": "38903792-70d2-4069-9a20-54358ff9f9d8",
   "metadata": {},
   "outputs": [],
   "source": [
    "from time import asctime"
   ]
  },
  {
   "cell_type": "code",
   "execution_count": 164,
   "id": "e27839b0-df3e-47a7-b0d3-1e5348823d21",
   "metadata": {},
   "outputs": [
    {
     "data": {
      "text/plain": [
       "'Mon Oct 14 17:35:56 2024'"
      ]
     },
     "execution_count": 164,
     "metadata": {},
     "output_type": "execute_result"
    }
   ],
   "source": [
    "asctime()"
   ]
  },
  {
   "cell_type": "code",
   "execution_count": 165,
   "id": "7fcde72e-ccef-4c6b-b750-62a47cf4fde5",
   "metadata": {},
   "outputs": [
    {
     "data": {
      "text/plain": [
       "<function time.time>"
      ]
     },
     "execution_count": 165,
     "metadata": {},
     "output_type": "execute_result"
    }
   ],
   "source": [
    "time.time"
   ]
  },
  {
   "cell_type": "code",
   "execution_count": 166,
   "id": "25aa0699-100a-47fe-acd5-77633e0b50cb",
   "metadata": {},
   "outputs": [
    {
     "data": {
      "text/plain": [
       "<function time.time>"
      ]
     },
     "execution_count": 166,
     "metadata": {},
     "output_type": "execute_result"
    }
   ],
   "source": [
    "time.time"
   ]
  },
  {
   "cell_type": "code",
   "execution_count": 167,
   "id": "513ef65a-cd7a-4974-a685-9e7d77bf01be",
   "metadata": {},
   "outputs": [],
   "source": [
    "names = [\"Alice\", \"Bob\", \"Charlie\"]"
   ]
  },
  {
   "cell_type": "code",
   "execution_count": 168,
   "id": "ad4f9e12-c582-4623-97e4-2f74dd297b9e",
   "metadata": {},
   "outputs": [
    {
     "name": "stdout",
     "output_type": "stream",
     "text": [
      "Alice\n",
      "Bob\n",
      "Charlie\n"
     ]
    }
   ],
   "source": [
    "for name in names:\n",
    "    print(name)"
   ]
  },
  {
   "cell_type": "code",
   "execution_count": 172,
   "id": "486ad212-dc71-490a-993c-c6355fcb6097",
   "metadata": {},
   "outputs": [
    {
     "name": "stdout",
     "output_type": "stream",
     "text": [
      "0\n",
      "2\n",
      "4\n",
      "6\n",
      "8\n"
     ]
    }
   ],
   "source": [
    "for i in range(0,10,2):\n",
    "    print(i)"
   ]
  },
  {
   "cell_type": "markdown",
   "id": "043eb5e9-c9f9-4889-acb8-d470b3b505af",
   "metadata": {},
   "source": [
    "**Problem:** Write a function 'product' to compute the product of given numbers"
   ]
  },
  {
   "cell_type": "code",
   "execution_count": 184,
   "id": "b00fa9c8-15c0-4df0-a4b9-0cbad93a30f6",
   "metadata": {},
   "outputs": [],
   "source": [
    "def product(numbers):\n",
    "    result = 1\n",
    "    for n in numbers:\n",
    "        result = result * n\n",
    "    return result"
   ]
  },
  {
   "cell_type": "code",
   "execution_count": 185,
   "id": "a527dddd-17a9-4d3f-ab9e-e41da1303358",
   "metadata": {},
   "outputs": [
    {
     "data": {
      "text/plain": [
       "48"
      ]
     },
     "execution_count": 185,
     "metadata": {},
     "output_type": "execute_result"
    }
   ],
   "source": [
    "product([8,2,3])"
   ]
  },
  {
   "cell_type": "markdown",
   "id": "9cc32e5f-4654-45e7-8c75-90fa81652c19",
   "metadata": {},
   "source": [
    "Giving 1 into something basically, kind of a interesting way to think of this"
   ]
  },
  {
   "cell_type": "code",
   "execution_count": 186,
   "id": "f9a866cb-a970-4e11-bbe5-4df1f40a0e08",
   "metadata": {},
   "outputs": [],
   "source": [
    "def say_hello(names):\n",
    "    for name in names:\n",
    "        print(\"Hello\", name)"
   ]
  },
  {
   "cell_type": "code",
   "execution_count": 187,
   "id": "2dcb1257-c3b2-4a54-a783-b97b7cc10964",
   "metadata": {},
   "outputs": [
    {
     "name": "stdout",
     "output_type": "stream",
     "text": [
      "Hello Alice\n",
      "Hello Bob\n",
      "Hello Charlie\n"
     ]
    }
   ],
   "source": [
    "say_hello(names)"
   ]
  },
  {
   "cell_type": "code",
   "execution_count": 188,
   "id": "55646518-ba77-4c80-b9cd-bb4b0ac34bb8",
   "metadata": {},
   "outputs": [],
   "source": [
    "### List Indexing"
   ]
  },
  {
   "cell_type": "code",
   "execution_count": 189,
   "id": "75f4c6de-323a-41e9-90bb-f02ff9f7b233",
   "metadata": {},
   "outputs": [],
   "source": [
    "x = ['a','b','c','d','e']"
   ]
  },
  {
   "cell_type": "code",
   "execution_count": 190,
   "id": "cae9a28e-557f-49af-88ff-cfe1933d6989",
   "metadata": {},
   "outputs": [
    {
     "data": {
      "text/plain": [
       "'a'"
      ]
     },
     "execution_count": 190,
     "metadata": {},
     "output_type": "execute_result"
    }
   ],
   "source": [
    "x[0]"
   ]
  },
  {
   "cell_type": "code",
   "execution_count": 191,
   "id": "e9785b0f-af59-4f74-8529-17cb9dc1b9f6",
   "metadata": {},
   "outputs": [
    {
     "data": {
      "text/plain": [
       "'e'"
      ]
     },
     "execution_count": 191,
     "metadata": {},
     "output_type": "execute_result"
    }
   ],
   "source": [
    "x[len(x)-1]"
   ]
  },
  {
   "cell_type": "code",
   "execution_count": 192,
   "id": "8cb687d6-f399-48e6-b328-2daffdd7becb",
   "metadata": {},
   "outputs": [
    {
     "data": {
      "text/plain": [
       "'wrong.'"
      ]
     },
     "execution_count": 192,
     "metadata": {},
     "output_type": "execute_result"
    }
   ],
   "source": [
    "words = sentence.split()\n",
    "words[len(words)-1]"
   ]
  },
  {
   "cell_type": "code",
   "execution_count": 193,
   "id": "6d283460-b551-4f82-af24-56f346f55e86",
   "metadata": {},
   "outputs": [
    {
     "data": {
      "text/plain": [
       "'e'"
      ]
     },
     "execution_count": 193,
     "metadata": {},
     "output_type": "execute_result"
    }
   ],
   "source": [
    "x[-1]"
   ]
  },
  {
   "cell_type": "code",
   "execution_count": 194,
   "id": "9c27dd0d-f322-4a78-8826-836321d829ff",
   "metadata": {},
   "outputs": [
    {
     "data": {
      "text/plain": [
       "'wrong.'"
      ]
     },
     "execution_count": 194,
     "metadata": {},
     "output_type": "execute_result"
    }
   ],
   "source": [
    "sentence.split()[-1]"
   ]
  },
  {
   "cell_type": "markdown",
   "id": "c8cc006c-ed11-4317-8363-e5f2b6f485ae",
   "metadata": {},
   "source": [
    "Python loops back around so if you want to quickly show the last item then just type \"-1\", or second to last \"-2\" etc etc. This is a \"negative index\""
   ]
  },
  {
   "cell_type": "markdown",
   "id": "b2f4efef-cbf6-4a5f-9b8c-c8d656413985",
   "metadata": {},
   "source": [
    "### List Slicing"
   ]
  },
  {
   "cell_type": "code",
   "execution_count": 195,
   "id": "724b42d0-1797-4941-b92c-6849e0fedbe9",
   "metadata": {},
   "outputs": [],
   "source": [
    "x = [\"zero\",\"one\",\"two\",\"three\",\"four\",\"five\",\"six\",\"seven\"]"
   ]
  },
  {
   "cell_type": "code",
   "execution_count": 197,
   "id": "c30f0ab8-d648-4599-bf92-0f367ee7e3d6",
   "metadata": {},
   "outputs": [
    {
     "data": {
      "text/plain": [
       "['zero', 'one']"
      ]
     },
     "execution_count": 197,
     "metadata": {},
     "output_type": "execute_result"
    }
   ],
   "source": [
    "x[0:2] #from index 0 to 2 (exlcuding end)"
   ]
  },
  {
   "cell_type": "code",
   "execution_count": 198,
   "id": "6da3193d-5b89-4b69-b861-cf6da9663681",
   "metadata": {},
   "outputs": [
    {
     "data": {
      "text/plain": [
       "['zero', 'one']"
      ]
     },
     "execution_count": 198,
     "metadata": {},
     "output_type": "execute_result"
    }
   ],
   "source": [
    "x[:2] # up to index two but not including 2"
   ]
  },
  {
   "cell_type": "code",
   "execution_count": 199,
   "id": "4c5a6485-9852-410f-8c1b-6513b8557277",
   "metadata": {},
   "outputs": [
    {
     "data": {
      "text/plain": [
       "['two', 'three', 'four', 'five', 'six', 'seven']"
      ]
     },
     "execution_count": 199,
     "metadata": {},
     "output_type": "execute_result"
    }
   ],
   "source": [
    "x[2:] # index 2 onwards"
   ]
  },
  {
   "cell_type": "code",
   "execution_count": 200,
   "id": "f36a7445-6c63-4474-a97d-5ee351fbaa9f",
   "metadata": {},
   "outputs": [
    {
     "data": {
      "text/plain": [
       "['one', 'two', 'three', 'four', 'five']"
      ]
     },
     "execution_count": 200,
     "metadata": {},
     "output_type": "execute_result"
    }
   ],
   "source": [
    "x[1:6] #index 1 to six, excluding last one"
   ]
  },
  {
   "cell_type": "code",
   "execution_count": 201,
   "id": "7617564d-b6d7-48fa-bda1-4b38fbafeed5",
   "metadata": {},
   "outputs": [
    {
     "data": {
      "text/plain": [
       "['one', 'two', 'three', 'four', 'five', 'six', 'seven']"
      ]
     },
     "execution_count": 201,
     "metadata": {},
     "output_type": "execute_result"
    }
   ],
   "source": [
    "x[1:] #all but first element"
   ]
  },
  {
   "cell_type": "code",
   "execution_count": 202,
   "id": "0a2b67cb-1bf1-41aa-9111-9ad005c4a735",
   "metadata": {},
   "outputs": [
    {
     "data": {
      "text/plain": [
       "['one', 'three', 'five']"
      ]
     },
     "execution_count": 202,
     "metadata": {},
     "output_type": "execute_result"
    }
   ],
   "source": [
    "x[1:6:2] #all in steps of two"
   ]
  },
  {
   "cell_type": "code",
   "execution_count": 203,
   "id": "2cbfc156-4f7b-4dde-b0c7-bd3ca14f4c9f",
   "metadata": {},
   "outputs": [
    {
     "data": {
      "text/plain": [
       "['zero', 'two', 'four', 'six']"
      ]
     },
     "execution_count": 203,
     "metadata": {},
     "output_type": "execute_result"
    }
   ],
   "source": [
    "x[::2]"
   ]
  },
  {
   "cell_type": "code",
   "execution_count": 204,
   "id": "081fe25e-f9f8-4431-bb0f-34787839040e",
   "metadata": {},
   "outputs": [
    {
     "data": {
      "text/plain": [
       "['seven', 'six', 'five', 'four', 'three', 'two', 'one', 'zero']"
      ]
     },
     "execution_count": 204,
     "metadata": {},
     "output_type": "execute_result"
    }
   ],
   "source": [
    "x[::-1] #reverse the list"
   ]
  },
  {
   "cell_type": "code",
   "execution_count": 207,
   "id": "a6cc5d14-55df-4881-923d-eed39445846f",
   "metadata": {},
   "outputs": [],
   "source": [
    "x = [1,2,3,4]"
   ]
  },
  {
   "cell_type": "code",
   "execution_count": 208,
   "id": "ec3324ab-be84-423a-8a0e-58735feca1a3",
   "metadata": {},
   "outputs": [
    {
     "ename": "TypeError",
     "evalue": "'builtin_function_or_method' object is not subscriptable",
     "output_type": "error",
     "traceback": [
      "\u001b[1;31m---------------------------------------------------------------------------\u001b[0m",
      "\u001b[1;31mTypeError\u001b[0m                                 Traceback (most recent call last)",
      "Cell \u001b[1;32mIn[208], line 1\u001b[0m\n\u001b[1;32m----> 1\u001b[0m \u001b[43mx\u001b[49m\u001b[38;5;241;43m.\u001b[39;49m\u001b[43mappend\u001b[49m\u001b[43m[\u001b[49m\u001b[38;5;241;43m5\u001b[39;49m\u001b[43m]\u001b[49m\n",
      "\u001b[1;31mTypeError\u001b[0m: 'builtin_function_or_method' object is not subscriptable"
     ]
    }
   ],
   "source": [
    "x.append[5]"
   ]
  },
  {
   "cell_type": "code",
   "execution_count": 212,
   "id": "ec763175-fee3-4494-9dbf-9d4f4730f092",
   "metadata": {},
   "outputs": [],
   "source": [
    "numbers = [1, 2, 3, 4, 5]"
   ]
  },
  {
   "cell_type": "code",
   "execution_count": 213,
   "id": "7e69ef38-42f7-490b-8ff9-bfaf5762ceef",
   "metadata": {},
   "outputs": [],
   "source": [
    "def squares(numbers):\n",
    "    result = []\n",
    "    for n in numbers:\n",
    "        result.append(n*n)\n",
    "        return result"
   ]
  },
  {
   "cell_type": "code",
   "execution_count": 216,
   "id": "5c0487ee-7c23-4029-8581-1373423f46fb",
   "metadata": {},
   "outputs": [
    {
     "data": {
      "text/plain": [
       "[1]"
      ]
     },
     "execution_count": 216,
     "metadata": {},
     "output_type": "execute_result"
    }
   ],
   "source": [
    "squares(numbers)"
   ]
  },
  {
   "cell_type": "code",
   "execution_count": 215,
   "id": "8c5a4763-0cc9-4e39-8155-ea16976d97b0",
   "metadata": {},
   "outputs": [
    {
     "data": {
      "text/plain": [
       "[1, 4, 9, 16, 25]"
      ]
     },
     "execution_count": 215,
     "metadata": {},
     "output_type": "execute_result"
    }
   ],
   "source": [
    "[n*n for n in numbers]"
   ]
  },
  {
   "cell_type": "code",
   "execution_count": null,
   "id": "a71dabcf-f19e-4f1a-90c6-88a2fef76d47",
   "metadata": {},
   "outputs": [],
   "source": []
  }
 ],
 "metadata": {
  "kernelspec": {
   "display_name": "Python 3 (ipykernel)",
   "language": "python",
   "name": "python3"
  },
  "language_info": {
   "codemirror_mode": {
    "name": "ipython",
    "version": 3
   },
   "file_extension": ".py",
   "mimetype": "text/x-python",
   "name": "python",
   "nbconvert_exporter": "python",
   "pygments_lexer": "ipython3",
   "version": "3.12.5"
  }
 },
 "nbformat": 4,
 "nbformat_minor": 5
}
